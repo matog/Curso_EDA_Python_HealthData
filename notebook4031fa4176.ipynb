{
 "cells": [
  {
   "cell_type": "markdown",
   "metadata": {},
   "source": [
    "Fuente: https://www.kaggle.com/scratchpad/notebook4031fa4176/edit\n",
    "\n",
    "#### Falta:\n",
    "- ~~Pasar las fechas a formato correcto~~\n",
    "- Filtrar las fechas a un rango menor, para que los graficos agregados no demoren tanto\n",
    "- Calcular media móvil - Graficar\n",
    "- Procesar N/A: Insertar NAs random en alguna columna y asignarle valor según algún criterio.\n",
    "- ~~Shape~~\n",
    "- Agrupar datos, sumar, contar, medias, etc. GROUPBY\n"
   ]
  },
  {
   "cell_type": "markdown",
   "metadata": {
    "_cell_guid": "b1076dfc-b9ad-4769-8c92-a6c4dae69d19",
    "_uuid": "8f2839f25d086af736a60e9eeb907d3b93b6e0e5"
   },
   "source": [
    "# Analyzing Healthcare data (Exploratory Data Analysis 101)"
   ]
  },
  {
   "cell_type": "markdown",
   "metadata": {
    "_cell_guid": "79c7e3d0-c299-4dcb-8224-4455121ee9b0",
    "_uuid": "d629ff2d2480ee46fbb7e2d37f6b5fab8052498a",
    "collapsed": true
   },
   "source": [
    "Having been tired of Titanic Exploration and Iris Exploration, I thought it might be refreshing to use a new realworld dataset to explore! This kernel is primarily aimed at beginners to Exploratory Data Analysis although anybody can enjoy crunching the stats."
   ]
  },
  {
   "cell_type": "markdown",
   "metadata": {
    "_uuid": "c1db25917e8528c34beac7466e978eda154970d6"
   },
   "source": [
    "> \"I'm tired of Titanic Exploration and Iris Exploration\" - Abraham Lincoln (2005)"
   ]
  },
  {
   "cell_type": "markdown",
   "metadata": {
    "_uuid": "aea8db27e486c1c26418a782a8a081c50d7da7f3"
   },
   "source": [
    "## Introduction "
   ]
  },
  {
   "cell_type": "markdown",
   "metadata": {
    "_uuid": "c3634a5da5eb2b84bab4c4f2912c8d6d8a0df46a"
   },
   "source": [
    "NTR Vaidya Seva (or Arogya Seva) is the flagship healthcare scheme of the Goverment of Andhra Pradesh, India in which lower-middle class and low-income citizens of the state of Andhra Pradesh can obtain free healthcare for many major diseases and ailments. A similar program exists in the neighboring state of Telangana as well. "
   ]
  },
  {
   "cell_type": "markdown",
   "metadata": {
    "_uuid": "44db94a8c4fb80c1198142503f13be5ac8b59977"
   },
   "source": [
    "## Let's Code!"
   ]
  },
  {
   "cell_type": "markdown",
   "metadata": {
    "_uuid": "2096876a1726710169d7532650d02ba5e6fb6a27"
   },
   "source": [
    "We will start by importing the requisite libraries:\n",
    "* *Pandas* for Data Loading and Exploration\n",
    "* *Matplotlib, Seaborn* for Visualization."
   ]
  },
  {
   "cell_type": "code",
   "execution_count": 335,
   "metadata": {
    "_uuid": "d9a347c9f1d9e2417f882e80145701e44499de16"
   },
   "outputs": [],
   "source": [
    "# import requisite libraries \n",
    "import pandas as pd\n",
    "import matplotlib.pyplot as plt\n",
    "%matplotlib inline\n",
    "import seaborn as sns\n",
    "pd.Series.__unicode__ = pd.Series.to_string"
   ]
  },
  {
   "cell_type": "markdown",
   "metadata": {
    "_uuid": "c1aa9fc946bc3551c4627928f37e0a628cc0a972"
   },
   "source": [
    "let's read the dataset file into the kernel using Pandas *read_csv* function. read_csv can comfortably read Comma Separated Values (csv) files while *read_table* is used for other file types (like xlsx).\n",
    "\n",
    "there are no restrictions in naming the data variable. *df*, *data* are the most common generic terms. We will go with *data*."
   ]
  },
  {
   "cell_type": "code",
   "execution_count": 339,
   "metadata": {
    "_uuid": "281f7407d81726f5658ce4eb26e03df2998dab26"
   },
   "outputs": [],
   "source": [
    "# read dataset into kernel\n",
    "data = pd.read_csv(\"input/ntrarogyaseva.csv\")"
   ]
  },
  {
   "cell_type": "markdown",
   "metadata": {
    "_uuid": "949c0003ecd61b2028abb2e7bc0bd8143c78e349"
   },
   "source": [
    "Have a look at the data using the *head()* function that displays top 5 rows by default."
   ]
  },
  {
   "cell_type": "code",
   "execution_count": 215,
   "metadata": {
    "_uuid": "292364f7ff86622b5f54e6408dc929eeca2ecde2"
   },
   "outputs": [
    {
     "data": {
      "text/html": [
       "<div>\n",
       "<style scoped>\n",
       "    .dataframe tbody tr th:only-of-type {\n",
       "        vertical-align: middle;\n",
       "    }\n",
       "\n",
       "    .dataframe tbody tr th {\n",
       "        vertical-align: top;\n",
       "    }\n",
       "\n",
       "    .dataframe thead th {\n",
       "        text-align: right;\n",
       "    }\n",
       "</style>\n",
       "<table border=\"1\" class=\"dataframe\">\n",
       "  <thead>\n",
       "    <tr style=\"text-align: right;\">\n",
       "      <th></th>\n",
       "      <th></th>\n",
       "      <th>AGE</th>\n",
       "      <th>SEX</th>\n",
       "      <th>CASTE_NAME</th>\n",
       "      <th>CATEGORY_CODE</th>\n",
       "      <th>CATEGORY_NAME</th>\n",
       "      <th>SURGERY_CODE</th>\n",
       "      <th>SURGERY</th>\n",
       "      <th>VILLAGE</th>\n",
       "      <th>MANDAL_NAME</th>\n",
       "      <th>...</th>\n",
       "      <th>CLAIM_AMOUNT</th>\n",
       "      <th>HOSP_NAME</th>\n",
       "      <th>HOSP_TYPE</th>\n",
       "      <th>HOSP_LOCATION</th>\n",
       "      <th>HOSP_DISTRICT</th>\n",
       "      <th>SURGERY_DATE</th>\n",
       "      <th>DISCHARGE_DATE</th>\n",
       "      <th>Mortality Y / N</th>\n",
       "      <th>MORTALITY_DATE</th>\n",
       "      <th>SRC_REGISTRATION</th>\n",
       "    </tr>\n",
       "  </thead>\n",
       "  <tbody>\n",
       "    <tr>\n",
       "      <th>0</th>\n",
       "      <td>1</td>\n",
       "      <td>56</td>\n",
       "      <td>Female</td>\n",
       "      <td>BC</td>\n",
       "      <td>M6</td>\n",
       "      <td>NEPHROLOGY</td>\n",
       "      <td>M6.5</td>\n",
       "      <td>Maintenance Hemodialysis For Crf</td>\n",
       "      <td>Lolugu</td>\n",
       "      <td>Ponduru</td>\n",
       "      <td>...</td>\n",
       "      <td>11000</td>\n",
       "      <td>Rims Govt. General Hospital, Srikakulam</td>\n",
       "      <td>G</td>\n",
       "      <td>SRIKAKULAM</td>\n",
       "      <td>Srikakulam</td>\n",
       "      <td>06/08/2013 00:00:00</td>\n",
       "      <td>07/09/2013 00:00:00</td>\n",
       "      <td>NO</td>\n",
       "      <td>NaN</td>\n",
       "      <td>D</td>\n",
       "    </tr>\n",
       "    <tr>\n",
       "      <th>1</th>\n",
       "      <td>2</td>\n",
       "      <td>37</td>\n",
       "      <td>Male</td>\n",
       "      <td>BC</td>\n",
       "      <td>M6</td>\n",
       "      <td>NEPHROLOGY</td>\n",
       "      <td>M6.5</td>\n",
       "      <td>Maintenance Hemodialysis For Crf</td>\n",
       "      <td>Borivanka</td>\n",
       "      <td>Kaviti</td>\n",
       "      <td>...</td>\n",
       "      <td>11000</td>\n",
       "      <td>Rims Govt. General Hospital, Srikakulam</td>\n",
       "      <td>G</td>\n",
       "      <td>SRIKAKULAM</td>\n",
       "      <td>Srikakulam</td>\n",
       "      <td>08/08/2013 00:00:00</td>\n",
       "      <td>09/09/2013 00:00:00</td>\n",
       "      <td>NO</td>\n",
       "      <td>NaN</td>\n",
       "      <td>D</td>\n",
       "    </tr>\n",
       "    <tr>\n",
       "      <th>2</th>\n",
       "      <td>3</td>\n",
       "      <td>50</td>\n",
       "      <td>Male</td>\n",
       "      <td>BC</td>\n",
       "      <td>M6</td>\n",
       "      <td>NEPHROLOGY</td>\n",
       "      <td>M6.5</td>\n",
       "      <td>Maintenance Hemodialysis For Crf</td>\n",
       "      <td>Kapasakuddi</td>\n",
       "      <td>Kaviti</td>\n",
       "      <td>...</td>\n",
       "      <td>11500</td>\n",
       "      <td>Rims Govt. General Hospital, Srikakulam</td>\n",
       "      <td>G</td>\n",
       "      <td>SRIKAKULAM</td>\n",
       "      <td>Srikakulam</td>\n",
       "      <td>15/08/2013 00:00:00</td>\n",
       "      <td>18/10/2013 00:00:00</td>\n",
       "      <td>NO</td>\n",
       "      <td>NaN</td>\n",
       "      <td>D</td>\n",
       "    </tr>\n",
       "    <tr>\n",
       "      <th>3</th>\n",
       "      <td>4</td>\n",
       "      <td>45</td>\n",
       "      <td>Male</td>\n",
       "      <td>BC</td>\n",
       "      <td>M6</td>\n",
       "      <td>NEPHROLOGY</td>\n",
       "      <td>M6.5</td>\n",
       "      <td>Maintenance Hemodialysis For Crf</td>\n",
       "      <td>Telikipenta</td>\n",
       "      <td>Sarubujjili</td>\n",
       "      <td>...</td>\n",
       "      <td>11000</td>\n",
       "      <td>Rims Govt. General Hospital, Srikakulam</td>\n",
       "      <td>G</td>\n",
       "      <td>SRIKAKULAM</td>\n",
       "      <td>Srikakulam</td>\n",
       "      <td>24/08/2013 00:00:00</td>\n",
       "      <td>27/09/2013 00:00:00</td>\n",
       "      <td>NO</td>\n",
       "      <td>NaN</td>\n",
       "      <td>D</td>\n",
       "    </tr>\n",
       "    <tr>\n",
       "      <th>4</th>\n",
       "      <td>5</td>\n",
       "      <td>54</td>\n",
       "      <td>Male</td>\n",
       "      <td>BC</td>\n",
       "      <td>M6</td>\n",
       "      <td>NEPHROLOGY</td>\n",
       "      <td>M6.5</td>\n",
       "      <td>Maintenance Hemodialysis For Crf</td>\n",
       "      <td>Thandemvalasa</td>\n",
       "      <td>Srikakulam</td>\n",
       "      <td>...</td>\n",
       "      <td>11000</td>\n",
       "      <td>Rims Govt. General Hospital, Srikakulam</td>\n",
       "      <td>G</td>\n",
       "      <td>SRIKAKULAM</td>\n",
       "      <td>Srikakulam</td>\n",
       "      <td>31/08/2013 00:00:00</td>\n",
       "      <td>02/10/2013 00:00:00</td>\n",
       "      <td>NO</td>\n",
       "      <td>NaN</td>\n",
       "      <td>D</td>\n",
       "    </tr>\n",
       "  </tbody>\n",
       "</table>\n",
       "<p>5 rows × 24 columns</p>\n",
       "</div>"
      ],
      "text/plain": [
       "        AGE     SEX CASTE_NAME CATEGORY_CODE CATEGORY_NAME SURGERY_CODE  \\\n",
       "0    1   56  Female         BC            M6    NEPHROLOGY         M6.5   \n",
       "1    2   37    Male         BC            M6    NEPHROLOGY         M6.5   \n",
       "2    3   50    Male         BC            M6    NEPHROLOGY         M6.5   \n",
       "3    4   45    Male         BC            M6    NEPHROLOGY         M6.5   \n",
       "4    5   54    Male         BC            M6    NEPHROLOGY         M6.5   \n",
       "\n",
       "                            SURGERY        VILLAGE  MANDAL_NAME  ...  \\\n",
       "0  Maintenance Hemodialysis For Crf         Lolugu      Ponduru  ...   \n",
       "1  Maintenance Hemodialysis For Crf      Borivanka       Kaviti  ...   \n",
       "2  Maintenance Hemodialysis For Crf    Kapasakuddi       Kaviti  ...   \n",
       "3  Maintenance Hemodialysis For Crf    Telikipenta  Sarubujjili  ...   \n",
       "4  Maintenance Hemodialysis For Crf  Thandemvalasa   Srikakulam  ...   \n",
       "\n",
       "  CLAIM_AMOUNT                                HOSP_NAME  HOSP_TYPE  \\\n",
       "0        11000  Rims Govt. General Hospital, Srikakulam          G   \n",
       "1        11000  Rims Govt. General Hospital, Srikakulam          G   \n",
       "2        11500  Rims Govt. General Hospital, Srikakulam          G   \n",
       "3        11000  Rims Govt. General Hospital, Srikakulam          G   \n",
       "4        11000  Rims Govt. General Hospital, Srikakulam          G   \n",
       "\n",
       "  HOSP_LOCATION  HOSP_DISTRICT         SURGERY_DATE       DISCHARGE_DATE  \\\n",
       "0    SRIKAKULAM     Srikakulam  06/08/2013 00:00:00  07/09/2013 00:00:00   \n",
       "1    SRIKAKULAM     Srikakulam  08/08/2013 00:00:00  09/09/2013 00:00:00   \n",
       "2    SRIKAKULAM     Srikakulam  15/08/2013 00:00:00  18/10/2013 00:00:00   \n",
       "3    SRIKAKULAM     Srikakulam  24/08/2013 00:00:00  27/09/2013 00:00:00   \n",
       "4    SRIKAKULAM     Srikakulam  31/08/2013 00:00:00  02/10/2013 00:00:00   \n",
       "\n",
       "  Mortality Y / N MORTALITY_DATE SRC_REGISTRATION  \n",
       "0              NO            NaN                D  \n",
       "1              NO            NaN                D  \n",
       "2              NO            NaN                D  \n",
       "3              NO            NaN                D  \n",
       "4              NO            NaN                D  \n",
       "\n",
       "[5 rows x 24 columns]"
      ]
     },
     "execution_count": 215,
     "metadata": {},
     "output_type": "execute_result"
    }
   ],
   "source": [
    "# display top rows using head \n",
    "data.head()\n",
    "# data.head(10) for top 10 rows"
   ]
  },
  {
   "cell_type": "markdown",
   "metadata": {
    "_uuid": "ad5cb3a33ba0a2d3e28dfbca46379fd58288c511"
   },
   "source": [
    "let's print summary statistics (descriptive statistics) of the numeric columns in data. We will use the *describe* function of the data for this."
   ]
  },
  {
   "cell_type": "code",
   "execution_count": 216,
   "metadata": {
    "_uuid": "7df4c2f7e8da9f29fa2ee72ccf5ff6324b264bca"
   },
   "outputs": [
    {
     "data": {
      "text/html": [
       "<div>\n",
       "<style scoped>\n",
       "    .dataframe tbody tr th:only-of-type {\n",
       "        vertical-align: middle;\n",
       "    }\n",
       "\n",
       "    .dataframe tbody tr th {\n",
       "        vertical-align: top;\n",
       "    }\n",
       "\n",
       "    .dataframe thead th {\n",
       "        text-align: right;\n",
       "    }\n",
       "</style>\n",
       "<table border=\"1\" class=\"dataframe\">\n",
       "  <thead>\n",
       "    <tr style=\"text-align: right;\">\n",
       "      <th></th>\n",
       "      <th></th>\n",
       "      <th>AGE</th>\n",
       "      <th>PREAUTH_AMT</th>\n",
       "      <th>CLAIM_AMOUNT</th>\n",
       "    </tr>\n",
       "  </thead>\n",
       "  <tbody>\n",
       "    <tr>\n",
       "      <th>count</th>\n",
       "      <td>479688.0000</td>\n",
       "      <td>479688.000000</td>\n",
       "      <td>479688.000000</td>\n",
       "      <td>479688.000000</td>\n",
       "    </tr>\n",
       "    <tr>\n",
       "      <th>mean</th>\n",
       "      <td>239844.5000</td>\n",
       "      <td>44.912264</td>\n",
       "      <td>30428.941698</td>\n",
       "      <td>27652.205861</td>\n",
       "    </tr>\n",
       "    <tr>\n",
       "      <th>std</th>\n",
       "      <td>138474.1423</td>\n",
       "      <td>18.961084</td>\n",
       "      <td>27441.592281</td>\n",
       "      <td>25951.706037</td>\n",
       "    </tr>\n",
       "    <tr>\n",
       "      <th>min</th>\n",
       "      <td>1.0000</td>\n",
       "      <td>0.000000</td>\n",
       "      <td>5.000000</td>\n",
       "      <td>2.000000</td>\n",
       "    </tr>\n",
       "    <tr>\n",
       "      <th>25%</th>\n",
       "      <td>119922.7500</td>\n",
       "      <td>34.000000</td>\n",
       "      <td>12500.000000</td>\n",
       "      <td>12500.000000</td>\n",
       "    </tr>\n",
       "    <tr>\n",
       "      <th>50%</th>\n",
       "      <td>239844.5000</td>\n",
       "      <td>47.000000</td>\n",
       "      <td>25000.000000</td>\n",
       "      <td>23200.000000</td>\n",
       "    </tr>\n",
       "    <tr>\n",
       "      <th>75%</th>\n",
       "      <td>359766.2500</td>\n",
       "      <td>59.000000</td>\n",
       "      <td>35000.000000</td>\n",
       "      <td>30600.000000</td>\n",
       "    </tr>\n",
       "    <tr>\n",
       "      <th>max</th>\n",
       "      <td>479688.0000</td>\n",
       "      <td>107.000000</td>\n",
       "      <td>520000.000000</td>\n",
       "      <td>520000.000000</td>\n",
       "    </tr>\n",
       "  </tbody>\n",
       "</table>\n",
       "</div>"
      ],
      "text/plain": [
       "                              AGE    PREAUTH_AMT   CLAIM_AMOUNT\n",
       "count  479688.0000  479688.000000  479688.000000  479688.000000\n",
       "mean   239844.5000      44.912264   30428.941698   27652.205861\n",
       "std    138474.1423      18.961084   27441.592281   25951.706037\n",
       "min         1.0000       0.000000       5.000000       2.000000\n",
       "25%    119922.7500      34.000000   12500.000000   12500.000000\n",
       "50%    239844.5000      47.000000   25000.000000   23200.000000\n",
       "75%    359766.2500      59.000000   35000.000000   30600.000000\n",
       "max    479688.0000     107.000000  520000.000000  520000.000000"
      ]
     },
     "execution_count": 216,
     "metadata": {},
     "output_type": "execute_result"
    }
   ],
   "source": [
    "# print summary statistics\n",
    "# data.describe(include='all') # Incluye todas las variables\n",
    "data.describe()"
   ]
  },
  {
   "cell_type": "markdown",
   "metadata": {
    "_uuid": "f46a3e2d51b788921ff9667aeefeae4acf5b0900"
   },
   "source": [
    "let's have a look at all the column names of the data. "
   ]
  },
  {
   "cell_type": "code",
   "execution_count": 217,
   "metadata": {
    "_kg_hide-input": false,
    "_kg_hide-output": false,
    "_uuid": "3994dacd6627fe5fd89832fd4d355eb114fd55b8"
   },
   "outputs": [
    {
     "data": {
      "text/plain": [
       "Index(['   ', 'AGE', 'SEX', 'CASTE_NAME', 'CATEGORY_CODE', 'CATEGORY_NAME',\n",
       "       'SURGERY_CODE', 'SURGERY', 'VILLAGE', 'MANDAL_NAME', 'DISTRICT_NAME',\n",
       "       'PREAUTH_DATE', 'PREAUTH_AMT', 'CLAIM_DATE', 'CLAIM_AMOUNT',\n",
       "       'HOSP_NAME', 'HOSP_TYPE', 'HOSP_LOCATION', 'HOSP_DISTRICT',\n",
       "       'SURGERY_DATE', 'DISCHARGE_DATE', 'Mortality Y / N', 'MORTALITY_DATE',\n",
       "       'SRC_REGISTRATION'],\n",
       "      dtype='object')"
      ]
     },
     "execution_count": 217,
     "metadata": {},
     "output_type": "execute_result"
    }
   ],
   "source": [
    "# display all the column names in the data\n",
    "data.columns"
   ]
  },
  {
   "cell_type": "code",
   "execution_count": 264,
   "metadata": {},
   "outputs": [
    {
     "name": "stdout",
     "output_type": "stream",
     "text": [
      "<class 'pandas.core.frame.DataFrame'>\n",
      "RangeIndex: 479688 entries, 0 to 479687\n",
      "Data columns (total 24 columns):\n",
      " #   Column            Non-Null Count   Dtype         \n",
      "---  ------            --------------   -----         \n",
      " 0                     479688 non-null  int64         \n",
      " 1   AGE               479688 non-null  int64         \n",
      " 2   SEX               479688 non-null  object        \n",
      " 3   CASTE_NAME        479688 non-null  object        \n",
      " 4   CATEGORY_CODE     479688 non-null  object        \n",
      " 5   CATEGORY_NAME     479688 non-null  object        \n",
      " 6   SURGERY_CODE      479688 non-null  object        \n",
      " 7   SURGERY           479688 non-null  object        \n",
      " 8   VILLAGE           479688 non-null  object        \n",
      " 9   MANDAL_NAME       479688 non-null  object        \n",
      " 10  DISTRICT_NAME     479688 non-null  object        \n",
      " 11  PREAUTH_DATE      479688 non-null  datetime64[ns]\n",
      " 12  PREAUTH_AMT       479688 non-null  int64         \n",
      " 13  CLAIM_DATE        479688 non-null  datetime64[ns]\n",
      " 14  CLAIM_AMOUNT      479688 non-null  int64         \n",
      " 15  HOSP_NAME         479688 non-null  object        \n",
      " 16  HOSP_TYPE         479688 non-null  object        \n",
      " 17  HOSP_LOCATION     479688 non-null  object        \n",
      " 18  HOSP_DISTRICT     479688 non-null  object        \n",
      " 19  SURGERY_DATE      479688 non-null  object        \n",
      " 20  DISCHARGE_DATE    475126 non-null  datetime64[ns]\n",
      " 21  Mortality Y / N   479688 non-null  object        \n",
      " 22  MORTALITY_DATE    10122 non-null   datetime64[ns]\n",
      " 23  SRC_REGISTRATION  479688 non-null  object        \n",
      "dtypes: datetime64[ns](4), int64(4), object(16)\n",
      "memory usage: 87.8+ MB\n"
     ]
    }
   ],
   "source": [
    "data.info()"
   ]
  },
  {
   "cell_type": "markdown",
   "metadata": {},
   "source": [
    "### Tamaño del DF "
   ]
  },
  {
   "cell_type": "code",
   "execution_count": 421,
   "metadata": {},
   "outputs": [
    {
     "data": {
      "text/plain": [
       "(479688, 23)"
      ]
     },
     "execution_count": 421,
     "metadata": {},
     "output_type": "execute_result"
    }
   ],
   "source": [
    "data.shape"
   ]
  },
  {
   "cell_type": "markdown",
   "metadata": {},
   "source": [
    "### Corrección de formatos "
   ]
  },
  {
   "cell_type": "markdown",
   "metadata": {},
   "source": [
    "Las columnas PREAUTH_DATE, CLAIM_DATE, SURGERY_DATE, DISCHARGE_DATE y MORTALITY_DATE son del tipo Object, cuando en realidad son fechas"
   ]
  },
  {
   "cell_type": "code",
   "execution_count": 395,
   "metadata": {},
   "outputs": [],
   "source": [
    "data = pd.read_csv(\"input/ntrarogyaseva.csv\")\n",
    "from datetime import datetime"
   ]
  },
  {
   "cell_type": "code",
   "execution_count": null,
   "metadata": {},
   "outputs": [],
   "source": [
    "# Convertimos el campo DISCHARGE_DATE a fecha. Tira un error\n",
    "data['DISCHARGE_DATE'] = pd.to_datetime(data['DISCHARGE_DATE'])"
   ]
  },
  {
   "cell_type": "code",
   "execution_count": 402,
   "metadata": {},
   "outputs": [
    {
     "data": {
      "text/html": [
       "<div>\n",
       "<style scoped>\n",
       "    .dataframe tbody tr th:only-of-type {\n",
       "        vertical-align: middle;\n",
       "    }\n",
       "\n",
       "    .dataframe tbody tr th {\n",
       "        vertical-align: top;\n",
       "    }\n",
       "\n",
       "    .dataframe thead th {\n",
       "        text-align: right;\n",
       "    }\n",
       "</style>\n",
       "<table border=\"1\" class=\"dataframe\">\n",
       "  <thead>\n",
       "    <tr style=\"text-align: right;\">\n",
       "      <th></th>\n",
       "      <th></th>\n",
       "      <th>AGE</th>\n",
       "      <th>SEX</th>\n",
       "      <th>CASTE_NAME</th>\n",
       "      <th>CATEGORY_CODE</th>\n",
       "      <th>CATEGORY_NAME</th>\n",
       "      <th>SURGERY_CODE</th>\n",
       "      <th>SURGERY</th>\n",
       "      <th>VILLAGE</th>\n",
       "      <th>MANDAL_NAME</th>\n",
       "      <th>...</th>\n",
       "      <th>CLAIM_AMOUNT</th>\n",
       "      <th>HOSP_NAME</th>\n",
       "      <th>HOSP_TYPE</th>\n",
       "      <th>HOSP_LOCATION</th>\n",
       "      <th>HOSP_DISTRICT</th>\n",
       "      <th>SURGERY_DATE</th>\n",
       "      <th>DISCHARGE_DATE</th>\n",
       "      <th>Mortality Y / N</th>\n",
       "      <th>MORTALITY_DATE</th>\n",
       "      <th>SRC_REGISTRATION</th>\n",
       "    </tr>\n",
       "  </thead>\n",
       "  <tbody>\n",
       "    <tr>\n",
       "      <th>1767</th>\n",
       "      <td>1768</td>\n",
       "      <td>44</td>\n",
       "      <td>Male</td>\n",
       "      <td>ST</td>\n",
       "      <td>M6</td>\n",
       "      <td>NEPHROLOGY</td>\n",
       "      <td>M6.5</td>\n",
       "      <td>Maintenance Hemodialysis For Crf</td>\n",
       "      <td>Ratnapuram</td>\n",
       "      <td>Chintur</td>\n",
       "      <td>...</td>\n",
       "      <td>12500</td>\n",
       "      <td>District Hospital-Khammam-</td>\n",
       "      <td>G</td>\n",
       "      <td>KHAMMAM</td>\n",
       "      <td>Khammam</td>\n",
       "      <td>27/01/2016 00:00:00</td>\n",
       "      <td>30/04/0116 00:00:00</td>\n",
       "      <td>YES</td>\n",
       "      <td>30/04/2016 00:00:00</td>\n",
       "      <td>D</td>\n",
       "    </tr>\n",
       "    <tr>\n",
       "      <th>2856</th>\n",
       "      <td>2857</td>\n",
       "      <td>44</td>\n",
       "      <td>Male</td>\n",
       "      <td>ST</td>\n",
       "      <td>M6</td>\n",
       "      <td>NEPHROLOGY</td>\n",
       "      <td>M6.5</td>\n",
       "      <td>Maintenance Hemodialysis For Crf</td>\n",
       "      <td>Kusumanapalli</td>\n",
       "      <td>Bhadrachalam</td>\n",
       "      <td>...</td>\n",
       "      <td>12500</td>\n",
       "      <td>District Hospital-Khammam-</td>\n",
       "      <td>G</td>\n",
       "      <td>KHAMMAM</td>\n",
       "      <td>Khammam</td>\n",
       "      <td>02/03/2016 00:00:00</td>\n",
       "      <td>30/04/0116 00:00:00</td>\n",
       "      <td>YES</td>\n",
       "      <td>30/04/2016 00:00:00</td>\n",
       "      <td>D</td>\n",
       "    </tr>\n",
       "  </tbody>\n",
       "</table>\n",
       "<p>2 rows × 24 columns</p>\n",
       "</div>"
      ],
      "text/plain": [
       "            AGE   SEX CASTE_NAME CATEGORY_CODE CATEGORY_NAME SURGERY_CODE  \\\n",
       "1767  1768   44  Male         ST            M6    NEPHROLOGY         M6.5   \n",
       "2856  2857   44  Male         ST            M6    NEPHROLOGY         M6.5   \n",
       "\n",
       "                               SURGERY        VILLAGE   MANDAL_NAME  ...  \\\n",
       "1767  Maintenance Hemodialysis For Crf     Ratnapuram       Chintur  ...   \n",
       "2856  Maintenance Hemodialysis For Crf  Kusumanapalli  Bhadrachalam  ...   \n",
       "\n",
       "     CLAIM_AMOUNT                   HOSP_NAME  HOSP_TYPE HOSP_LOCATION  \\\n",
       "1767        12500  District Hospital-Khammam-          G       KHAMMAM   \n",
       "2856        12500  District Hospital-Khammam-          G       KHAMMAM   \n",
       "\n",
       "      HOSP_DISTRICT         SURGERY_DATE       DISCHARGE_DATE Mortality Y / N  \\\n",
       "1767        Khammam  27/01/2016 00:00:00  30/04/0116 00:00:00             YES   \n",
       "2856        Khammam  02/03/2016 00:00:00  30/04/0116 00:00:00             YES   \n",
       "\n",
       "           MORTALITY_DATE SRC_REGISTRATION  \n",
       "1767  30/04/2016 00:00:00                D  \n",
       "2856  30/04/2016 00:00:00                D  \n",
       "\n",
       "[2 rows x 24 columns]"
      ]
     },
     "execution_count": 402,
     "metadata": {},
     "output_type": "execute_result"
    }
   ],
   "source": [
    "# Buscamos el error:\n",
    "data.loc[data['DISCHARGE_DATE'].str.contains('116', na=False)]"
   ]
  },
  {
   "cell_type": "code",
   "execution_count": 403,
   "metadata": {},
   "outputs": [],
   "source": [
    "# Reemplazamos los datos erroneos:\n",
    "mappings = {'30/04/0116 00:00:00':'30/04/2016 00:00:00'}\n",
    "data['DISCHARGE_DATE'] = data['DISCHARGE_DATE'].replace(mappings)"
   ]
  },
  {
   "cell_type": "code",
   "execution_count": 404,
   "metadata": {},
   "outputs": [],
   "source": [
    "# Convertimos el campo DISCHARGE_DATE a fecha nuevamente\n",
    "data['DISCHARGE_DATE'] = pd.to_datetime(data['DISCHARGE_DATE'])"
   ]
  },
  {
   "cell_type": "code",
   "execution_count": 405,
   "metadata": {},
   "outputs": [],
   "source": [
    "data['PREAUTH_DATE'] = pd.to_datetime(data['PREAUTH_DATE'])\n",
    "data['CLAIM_DATE'] = pd.to_datetime(data['CLAIM_DATE'])\n",
    "data['MORTALITY_DATE'] = pd.to_datetime(data['MORTALITY_DATE'])\n",
    "data['SURGERY_DATE'] = pd.to_datetime(data['SURGERY_DATE'])"
   ]
  },
  {
   "cell_type": "code",
   "execution_count": 406,
   "metadata": {},
   "outputs": [],
   "source": [
    "# Borramos la columna que tiene el índice del CSV \n",
    "data= data.drop('   ',1)"
   ]
  },
  {
   "cell_type": "markdown",
   "metadata": {},
   "source": [
    "### NAN Values "
   ]
  },
  {
   "cell_type": "code",
   "execution_count": 244,
   "metadata": {},
   "outputs": [
    {
     "data": {
      "text/plain": [
       "                         0\n",
       "AGE                      0\n",
       "SEX                      0\n",
       "CASTE_NAME               0\n",
       "CATEGORY_CODE            0\n",
       "CATEGORY_NAME            0\n",
       "SURGERY_CODE             0\n",
       "SURGERY                  0\n",
       "VILLAGE                  0\n",
       "MANDAL_NAME              0\n",
       "DISTRICT_NAME            0\n",
       "PREAUTH_DATE             0\n",
       "PREAUTH_AMT              0\n",
       "CLAIM_DATE               0\n",
       "CLAIM_AMOUNT             0\n",
       "HOSP_NAME                0\n",
       "HOSP_TYPE                0\n",
       "HOSP_LOCATION            0\n",
       "HOSP_DISTRICT            0\n",
       "SURGERY_DATE             0\n",
       "DISCHARGE_DATE        4562\n",
       "Mortality Y / N          0\n",
       "MORTALITY_DATE      469566\n",
       "SRC_REGISTRATION         0\n",
       "dtype: int64"
      ]
     },
     "execution_count": 244,
     "metadata": {},
     "output_type": "execute_result"
    }
   ],
   "source": [
    "data.isnull().sum()"
   ]
  },
  {
   "cell_type": "code",
   "execution_count": 418,
   "metadata": {},
   "outputs": [
    {
     "data": {
      "text/html": [
       "<div>\n",
       "<style scoped>\n",
       "    .dataframe tbody tr th:only-of-type {\n",
       "        vertical-align: middle;\n",
       "    }\n",
       "\n",
       "    .dataframe tbody tr th {\n",
       "        vertical-align: top;\n",
       "    }\n",
       "\n",
       "    .dataframe thead th {\n",
       "        text-align: right;\n",
       "    }\n",
       "</style>\n",
       "<table border=\"1\" class=\"dataframe\">\n",
       "  <thead>\n",
       "    <tr style=\"text-align: right;\">\n",
       "      <th></th>\n",
       "      <th>AGE</th>\n",
       "      <th>SEX</th>\n",
       "      <th>CASTE_NAME</th>\n",
       "      <th>CATEGORY_CODE</th>\n",
       "      <th>CATEGORY_NAME</th>\n",
       "      <th>SURGERY_CODE</th>\n",
       "      <th>SURGERY</th>\n",
       "      <th>VILLAGE</th>\n",
       "      <th>MANDAL_NAME</th>\n",
       "      <th>DISTRICT_NAME</th>\n",
       "      <th>...</th>\n",
       "      <th>CLAIM_AMOUNT</th>\n",
       "      <th>HOSP_NAME</th>\n",
       "      <th>HOSP_TYPE</th>\n",
       "      <th>HOSP_LOCATION</th>\n",
       "      <th>HOSP_DISTRICT</th>\n",
       "      <th>SURGERY_DATE</th>\n",
       "      <th>DISCHARGE_DATE</th>\n",
       "      <th>Mortality Y / N</th>\n",
       "      <th>MORTALITY_DATE</th>\n",
       "      <th>SRC_REGISTRATION</th>\n",
       "    </tr>\n",
       "  </thead>\n",
       "  <tbody>\n",
       "    <tr>\n",
       "      <th>7</th>\n",
       "      <td>73</td>\n",
       "      <td>Male</td>\n",
       "      <td>BC</td>\n",
       "      <td>M6</td>\n",
       "      <td>NEPHROLOGY</td>\n",
       "      <td>M6.5</td>\n",
       "      <td>Maintenance Hemodialysis For Crf</td>\n",
       "      <td>Bhoghapuram</td>\n",
       "      <td>Bhoghapuram</td>\n",
       "      <td>Vizianagaram</td>\n",
       "      <td>...</td>\n",
       "      <td>5000</td>\n",
       "      <td>Queens Nri Hospitals</td>\n",
       "      <td>C</td>\n",
       "      <td>Visakhapatnam</td>\n",
       "      <td>Vishakhapatnam</td>\n",
       "      <td>2014-05-05</td>\n",
       "      <td>NaT</td>\n",
       "      <td>YES</td>\n",
       "      <td>2014-05-23</td>\n",
       "      <td>D</td>\n",
       "    </tr>\n",
       "    <tr>\n",
       "      <th>10</th>\n",
       "      <td>52</td>\n",
       "      <td>Male</td>\n",
       "      <td>BC</td>\n",
       "      <td>M6</td>\n",
       "      <td>NEPHROLOGY</td>\n",
       "      <td>M6.5</td>\n",
       "      <td>Maintenance Hemodialysis For Crf</td>\n",
       "      <td>Rajam</td>\n",
       "      <td>Butchayyapeta</td>\n",
       "      <td>Vishakhapatnam</td>\n",
       "      <td>...</td>\n",
       "      <td>6250</td>\n",
       "      <td>Queens Nri Hospitals</td>\n",
       "      <td>C</td>\n",
       "      <td>Visakhapatnam</td>\n",
       "      <td>Vishakhapatnam</td>\n",
       "      <td>2014-06-27</td>\n",
       "      <td>NaT</td>\n",
       "      <td>YES</td>\n",
       "      <td>2014-07-16</td>\n",
       "      <td>P</td>\n",
       "    </tr>\n",
       "    <tr>\n",
       "      <th>86</th>\n",
       "      <td>40</td>\n",
       "      <td>Male</td>\n",
       "      <td>SC</td>\n",
       "      <td>M6</td>\n",
       "      <td>NEPHROLOGY</td>\n",
       "      <td>M6.5</td>\n",
       "      <td>Maintenance Hemodialysis For Crf</td>\n",
       "      <td>Dakamarri</td>\n",
       "      <td>Bheemunipatnam</td>\n",
       "      <td>Vishakhapatnam</td>\n",
       "      <td>...</td>\n",
       "      <td>6250</td>\n",
       "      <td>Queens Nri Hospitals</td>\n",
       "      <td>C</td>\n",
       "      <td>Visakhapatnam</td>\n",
       "      <td>Vishakhapatnam</td>\n",
       "      <td>2015-02-23</td>\n",
       "      <td>NaT</td>\n",
       "      <td>YES</td>\n",
       "      <td>2015-10-03</td>\n",
       "      <td>D</td>\n",
       "    </tr>\n",
       "    <tr>\n",
       "      <th>97</th>\n",
       "      <td>75</td>\n",
       "      <td>Male</td>\n",
       "      <td>BC</td>\n",
       "      <td>M6</td>\n",
       "      <td>NEPHROLOGY</td>\n",
       "      <td>M6.5</td>\n",
       "      <td>Maintenance Hemodialysis For Crf</td>\n",
       "      <td>Ward-13</td>\n",
       "      <td>Vijayawada</td>\n",
       "      <td>Krishna</td>\n",
       "      <td>...</td>\n",
       "      <td>10000</td>\n",
       "      <td>Andhra Health Diagnostic Services LimitedGloba...</td>\n",
       "      <td>C</td>\n",
       "      <td>VIJAYAWADA</td>\n",
       "      <td>Krishna</td>\n",
       "      <td>2015-08-04</td>\n",
       "      <td>NaT</td>\n",
       "      <td>YES</td>\n",
       "      <td>2015-03-05</td>\n",
       "      <td>P</td>\n",
       "    </tr>\n",
       "    <tr>\n",
       "      <th>122</th>\n",
       "      <td>58</td>\n",
       "      <td>Female</td>\n",
       "      <td>SC</td>\n",
       "      <td>M6</td>\n",
       "      <td>NEPHROLOGY</td>\n",
       "      <td>M6.5</td>\n",
       "      <td>Maintenance Hemodialysis For Crf</td>\n",
       "      <td>Mudunuruu</td>\n",
       "      <td>Vuyyuru</td>\n",
       "      <td>Krishna</td>\n",
       "      <td>...</td>\n",
       "      <td>11250</td>\n",
       "      <td>Andhra Health Diagnostic Services LimitedGloba...</td>\n",
       "      <td>C</td>\n",
       "      <td>VIJAYAWADA</td>\n",
       "      <td>Krishna</td>\n",
       "      <td>2015-06-15</td>\n",
       "      <td>NaT</td>\n",
       "      <td>YES</td>\n",
       "      <td>2015-08-23</td>\n",
       "      <td>D</td>\n",
       "    </tr>\n",
       "    <tr>\n",
       "      <th>...</th>\n",
       "      <td>...</td>\n",
       "      <td>...</td>\n",
       "      <td>...</td>\n",
       "      <td>...</td>\n",
       "      <td>...</td>\n",
       "      <td>...</td>\n",
       "      <td>...</td>\n",
       "      <td>...</td>\n",
       "      <td>...</td>\n",
       "      <td>...</td>\n",
       "      <td>...</td>\n",
       "      <td>...</td>\n",
       "      <td>...</td>\n",
       "      <td>...</td>\n",
       "      <td>...</td>\n",
       "      <td>...</td>\n",
       "      <td>...</td>\n",
       "      <td>...</td>\n",
       "      <td>...</td>\n",
       "      <td>...</td>\n",
       "      <td>...</td>\n",
       "    </tr>\n",
       "    <tr>\n",
       "      <th>479300</th>\n",
       "      <td>69</td>\n",
       "      <td>Male</td>\n",
       "      <td>OC</td>\n",
       "      <td>M6</td>\n",
       "      <td>NEPHROLOGY</td>\n",
       "      <td>M6.5</td>\n",
       "      <td>Maintenance Hemodialysis For Crf</td>\n",
       "      <td>Badvel (P) (U)</td>\n",
       "      <td>Badvel</td>\n",
       "      <td>YSR Kadapa</td>\n",
       "      <td>...</td>\n",
       "      <td>1028</td>\n",
       "      <td>Krishna Institute of Medical Sciences Bollinen...</td>\n",
       "      <td>C</td>\n",
       "      <td>NELLORE</td>\n",
       "      <td>Nellore</td>\n",
       "      <td>2017-10-11</td>\n",
       "      <td>NaT</td>\n",
       "      <td>YES</td>\n",
       "      <td>2017-11-11</td>\n",
       "      <td>D</td>\n",
       "    </tr>\n",
       "    <tr>\n",
       "      <th>479305</th>\n",
       "      <td>60</td>\n",
       "      <td>Female</td>\n",
       "      <td>BC</td>\n",
       "      <td>M6</td>\n",
       "      <td>NEPHROLOGY</td>\n",
       "      <td>M6.5</td>\n",
       "      <td>Maintenance Hemodialysis For Crf</td>\n",
       "      <td>Garividi (Urban)</td>\n",
       "      <td>Garividi</td>\n",
       "      <td>Vizianagaram</td>\n",
       "      <td>...</td>\n",
       "      <td>5140</td>\n",
       "      <td>Tirumala Multi Speciality Hospitals (India )Pv...</td>\n",
       "      <td>C</td>\n",
       "      <td>VIZIANAGARAM</td>\n",
       "      <td>Vizianagaram</td>\n",
       "      <td>2017-12-11</td>\n",
       "      <td>NaT</td>\n",
       "      <td>YES</td>\n",
       "      <td>2017-11-26</td>\n",
       "      <td>D</td>\n",
       "    </tr>\n",
       "    <tr>\n",
       "      <th>479372</th>\n",
       "      <td>67</td>\n",
       "      <td>Female</td>\n",
       "      <td>BC</td>\n",
       "      <td>M5</td>\n",
       "      <td>CARDIOLOGY</td>\n",
       "      <td>M5.1.2</td>\n",
       "      <td>Management Of Acute MI With Angiogram</td>\n",
       "      <td>Ambapuram</td>\n",
       "      <td>Nellore</td>\n",
       "      <td>Nellore</td>\n",
       "      <td>...</td>\n",
       "      <td>10000</td>\n",
       "      <td>Krishna Institute of Medical Sciences Bollinen...</td>\n",
       "      <td>C</td>\n",
       "      <td>NELLORE</td>\n",
       "      <td>Nellore</td>\n",
       "      <td>2017-10-11</td>\n",
       "      <td>NaT</td>\n",
       "      <td>YES</td>\n",
       "      <td>2017-11-11</td>\n",
       "      <td>D</td>\n",
       "    </tr>\n",
       "    <tr>\n",
       "      <th>479403</th>\n",
       "      <td>0</td>\n",
       "      <td>Male(Child)</td>\n",
       "      <td>Minorities</td>\n",
       "      <td>M4</td>\n",
       "      <td>PEDIATRICS</td>\n",
       "      <td>M4.1.14</td>\n",
       "      <td>Medical Management of Term Baby With Severe Pe...</td>\n",
       "      <td>Guntur (U)</td>\n",
       "      <td>Guntur</td>\n",
       "      <td>Guntur</td>\n",
       "      <td>...</td>\n",
       "      <td>40000</td>\n",
       "      <td>MOTHER THERESA MULTI SPECIALITY</td>\n",
       "      <td>C</td>\n",
       "      <td>NARSARAOPET</td>\n",
       "      <td>Guntur</td>\n",
       "      <td>2017-11-11</td>\n",
       "      <td>NaT</td>\n",
       "      <td>YES</td>\n",
       "      <td>2017-11-17</td>\n",
       "      <td>D</td>\n",
       "    </tr>\n",
       "    <tr>\n",
       "      <th>479404</th>\n",
       "      <td>46</td>\n",
       "      <td>Female</td>\n",
       "      <td>BC</td>\n",
       "      <td>M1</td>\n",
       "      <td>CRITICAL CARE</td>\n",
       "      <td>M1.4</td>\n",
       "      <td>Medical Management of ARDS</td>\n",
       "      <td>Poolathota</td>\n",
       "      <td>Doravarisatram</td>\n",
       "      <td>Nellore</td>\n",
       "      <td>...</td>\n",
       "      <td>10000</td>\n",
       "      <td>Krishna Institute of Medical Sciences Bollinen...</td>\n",
       "      <td>C</td>\n",
       "      <td>NELLORE</td>\n",
       "      <td>Nellore</td>\n",
       "      <td>2017-11-11</td>\n",
       "      <td>NaT</td>\n",
       "      <td>YES</td>\n",
       "      <td>2017-11-11</td>\n",
       "      <td>D</td>\n",
       "    </tr>\n",
       "  </tbody>\n",
       "</table>\n",
       "<p>4560 rows × 23 columns</p>\n",
       "</div>"
      ],
      "text/plain": [
       "        AGE          SEX  CASTE_NAME CATEGORY_CODE  CATEGORY_NAME  \\\n",
       "7        73         Male          BC            M6     NEPHROLOGY   \n",
       "10       52         Male          BC            M6     NEPHROLOGY   \n",
       "86       40         Male          SC            M6     NEPHROLOGY   \n",
       "97       75         Male          BC            M6     NEPHROLOGY   \n",
       "122      58       Female          SC            M6     NEPHROLOGY   \n",
       "...     ...          ...         ...           ...            ...   \n",
       "479300   69         Male          OC            M6     NEPHROLOGY   \n",
       "479305   60       Female          BC            M6     NEPHROLOGY   \n",
       "479372   67       Female          BC            M5     CARDIOLOGY   \n",
       "479403    0  Male(Child)  Minorities            M4     PEDIATRICS   \n",
       "479404   46       Female          BC            M1  CRITICAL CARE   \n",
       "\n",
       "       SURGERY_CODE                                            SURGERY  \\\n",
       "7              M6.5                   Maintenance Hemodialysis For Crf   \n",
       "10             M6.5                   Maintenance Hemodialysis For Crf   \n",
       "86             M6.5                   Maintenance Hemodialysis For Crf   \n",
       "97             M6.5                   Maintenance Hemodialysis For Crf   \n",
       "122            M6.5                   Maintenance Hemodialysis For Crf   \n",
       "...             ...                                                ...   \n",
       "479300         M6.5                   Maintenance Hemodialysis For Crf   \n",
       "479305         M6.5                   Maintenance Hemodialysis For Crf   \n",
       "479372       M5.1.2              Management Of Acute MI With Angiogram   \n",
       "479403      M4.1.14  Medical Management of Term Baby With Severe Pe...   \n",
       "479404         M1.4                         Medical Management of ARDS   \n",
       "\n",
       "                 VILLAGE     MANDAL_NAME   DISTRICT_NAME  ... CLAIM_AMOUNT  \\\n",
       "7            Bhoghapuram     Bhoghapuram    Vizianagaram  ...         5000   \n",
       "10                 Rajam   Butchayyapeta  Vishakhapatnam  ...         6250   \n",
       "86             Dakamarri  Bheemunipatnam  Vishakhapatnam  ...         6250   \n",
       "97               Ward-13      Vijayawada         Krishna  ...        10000   \n",
       "122            Mudunuruu         Vuyyuru         Krishna  ...        11250   \n",
       "...                  ...             ...             ...  ...          ...   \n",
       "479300    Badvel (P) (U)          Badvel      YSR Kadapa  ...         1028   \n",
       "479305  Garividi (Urban)        Garividi    Vizianagaram  ...         5140   \n",
       "479372         Ambapuram         Nellore         Nellore  ...        10000   \n",
       "479403        Guntur (U)          Guntur          Guntur  ...        40000   \n",
       "479404        Poolathota  Doravarisatram         Nellore  ...        10000   \n",
       "\n",
       "                                                HOSP_NAME HOSP_TYPE  \\\n",
       "7                                    Queens Nri Hospitals         C   \n",
       "10                                   Queens Nri Hospitals         C   \n",
       "86                                   Queens Nri Hospitals         C   \n",
       "97      Andhra Health Diagnostic Services LimitedGloba...         C   \n",
       "122     Andhra Health Diagnostic Services LimitedGloba...         C   \n",
       "...                                                   ...       ...   \n",
       "479300  Krishna Institute of Medical Sciences Bollinen...         C   \n",
       "479305  Tirumala Multi Speciality Hospitals (India )Pv...         C   \n",
       "479372  Krishna Institute of Medical Sciences Bollinen...         C   \n",
       "479403                   MOTHER THERESA MULTI SPECIALITY          C   \n",
       "479404  Krishna Institute of Medical Sciences Bollinen...         C   \n",
       "\n",
       "        HOSP_LOCATION   HOSP_DISTRICT SURGERY_DATE DISCHARGE_DATE  \\\n",
       "7       Visakhapatnam  Vishakhapatnam   2014-05-05            NaT   \n",
       "10      Visakhapatnam  Vishakhapatnam   2014-06-27            NaT   \n",
       "86      Visakhapatnam  Vishakhapatnam   2015-02-23            NaT   \n",
       "97         VIJAYAWADA         Krishna   2015-08-04            NaT   \n",
       "122        VIJAYAWADA         Krishna   2015-06-15            NaT   \n",
       "...               ...             ...          ...            ...   \n",
       "479300        NELLORE         Nellore   2017-10-11            NaT   \n",
       "479305   VIZIANAGARAM    Vizianagaram   2017-12-11            NaT   \n",
       "479372        NELLORE         Nellore   2017-10-11            NaT   \n",
       "479403    NARSARAOPET          Guntur   2017-11-11            NaT   \n",
       "479404        NELLORE         Nellore   2017-11-11            NaT   \n",
       "\n",
       "       Mortality Y / N MORTALITY_DATE SRC_REGISTRATION  \n",
       "7                  YES     2014-05-23                D  \n",
       "10                 YES     2014-07-16                P  \n",
       "86                 YES     2015-10-03                D  \n",
       "97                 YES     2015-03-05                P  \n",
       "122                YES     2015-08-23                D  \n",
       "...                ...            ...              ...  \n",
       "479300             YES     2017-11-11                D  \n",
       "479305             YES     2017-11-26                D  \n",
       "479372             YES     2017-11-11                D  \n",
       "479403             YES     2017-11-17                D  \n",
       "479404             YES     2017-11-11                D  \n",
       "\n",
       "[4560 rows x 23 columns]"
      ]
     },
     "execution_count": 418,
     "metadata": {},
     "output_type": "execute_result"
    }
   ],
   "source": [
    "# DISCHARGE_DATE tiene NAs porque pueden referirse a los pacientes que siguen internados o no tienen el alta\n",
    "data.loc[data['DISCHARGE_DATE'].isna()]"
   ]
  },
  {
   "cell_type": "code",
   "execution_count": 419,
   "metadata": {},
   "outputs": [
    {
     "data": {
      "text/html": [
       "<div>\n",
       "<style scoped>\n",
       "    .dataframe tbody tr th:only-of-type {\n",
       "        vertical-align: middle;\n",
       "    }\n",
       "\n",
       "    .dataframe tbody tr th {\n",
       "        vertical-align: top;\n",
       "    }\n",
       "\n",
       "    .dataframe thead th {\n",
       "        text-align: right;\n",
       "    }\n",
       "</style>\n",
       "<table border=\"1\" class=\"dataframe\">\n",
       "  <thead>\n",
       "    <tr style=\"text-align: right;\">\n",
       "      <th></th>\n",
       "      <th>AGE</th>\n",
       "      <th>SEX</th>\n",
       "      <th>CASTE_NAME</th>\n",
       "      <th>CATEGORY_CODE</th>\n",
       "      <th>CATEGORY_NAME</th>\n",
       "      <th>SURGERY_CODE</th>\n",
       "      <th>SURGERY</th>\n",
       "      <th>VILLAGE</th>\n",
       "      <th>MANDAL_NAME</th>\n",
       "      <th>DISTRICT_NAME</th>\n",
       "      <th>...</th>\n",
       "      <th>CLAIM_AMOUNT</th>\n",
       "      <th>HOSP_NAME</th>\n",
       "      <th>HOSP_TYPE</th>\n",
       "      <th>HOSP_LOCATION</th>\n",
       "      <th>HOSP_DISTRICT</th>\n",
       "      <th>SURGERY_DATE</th>\n",
       "      <th>DISCHARGE_DATE</th>\n",
       "      <th>Mortality Y / N</th>\n",
       "      <th>MORTALITY_DATE</th>\n",
       "      <th>SRC_REGISTRATION</th>\n",
       "    </tr>\n",
       "  </thead>\n",
       "  <tbody>\n",
       "    <tr>\n",
       "      <th>7</th>\n",
       "      <td>73</td>\n",
       "      <td>Male</td>\n",
       "      <td>BC</td>\n",
       "      <td>M6</td>\n",
       "      <td>NEPHROLOGY</td>\n",
       "      <td>M6.5</td>\n",
       "      <td>Maintenance Hemodialysis For Crf</td>\n",
       "      <td>Bhoghapuram</td>\n",
       "      <td>Bhoghapuram</td>\n",
       "      <td>Vizianagaram</td>\n",
       "      <td>...</td>\n",
       "      <td>5000</td>\n",
       "      <td>Queens Nri Hospitals</td>\n",
       "      <td>C</td>\n",
       "      <td>Visakhapatnam</td>\n",
       "      <td>Vishakhapatnam</td>\n",
       "      <td>2014-05-05</td>\n",
       "      <td>NaT</td>\n",
       "      <td>YES</td>\n",
       "      <td>2014-05-23</td>\n",
       "      <td>D</td>\n",
       "    </tr>\n",
       "    <tr>\n",
       "      <th>10</th>\n",
       "      <td>52</td>\n",
       "      <td>Male</td>\n",
       "      <td>BC</td>\n",
       "      <td>M6</td>\n",
       "      <td>NEPHROLOGY</td>\n",
       "      <td>M6.5</td>\n",
       "      <td>Maintenance Hemodialysis For Crf</td>\n",
       "      <td>Rajam</td>\n",
       "      <td>Butchayyapeta</td>\n",
       "      <td>Vishakhapatnam</td>\n",
       "      <td>...</td>\n",
       "      <td>6250</td>\n",
       "      <td>Queens Nri Hospitals</td>\n",
       "      <td>C</td>\n",
       "      <td>Visakhapatnam</td>\n",
       "      <td>Vishakhapatnam</td>\n",
       "      <td>2014-06-27</td>\n",
       "      <td>NaT</td>\n",
       "      <td>YES</td>\n",
       "      <td>2014-07-16</td>\n",
       "      <td>P</td>\n",
       "    </tr>\n",
       "    <tr>\n",
       "      <th>86</th>\n",
       "      <td>40</td>\n",
       "      <td>Male</td>\n",
       "      <td>SC</td>\n",
       "      <td>M6</td>\n",
       "      <td>NEPHROLOGY</td>\n",
       "      <td>M6.5</td>\n",
       "      <td>Maintenance Hemodialysis For Crf</td>\n",
       "      <td>Dakamarri</td>\n",
       "      <td>Bheemunipatnam</td>\n",
       "      <td>Vishakhapatnam</td>\n",
       "      <td>...</td>\n",
       "      <td>6250</td>\n",
       "      <td>Queens Nri Hospitals</td>\n",
       "      <td>C</td>\n",
       "      <td>Visakhapatnam</td>\n",
       "      <td>Vishakhapatnam</td>\n",
       "      <td>2015-02-23</td>\n",
       "      <td>NaT</td>\n",
       "      <td>YES</td>\n",
       "      <td>2015-10-03</td>\n",
       "      <td>D</td>\n",
       "    </tr>\n",
       "    <tr>\n",
       "      <th>97</th>\n",
       "      <td>75</td>\n",
       "      <td>Male</td>\n",
       "      <td>BC</td>\n",
       "      <td>M6</td>\n",
       "      <td>NEPHROLOGY</td>\n",
       "      <td>M6.5</td>\n",
       "      <td>Maintenance Hemodialysis For Crf</td>\n",
       "      <td>Ward-13</td>\n",
       "      <td>Vijayawada</td>\n",
       "      <td>Krishna</td>\n",
       "      <td>...</td>\n",
       "      <td>10000</td>\n",
       "      <td>Andhra Health Diagnostic Services LimitedGloba...</td>\n",
       "      <td>C</td>\n",
       "      <td>VIJAYAWADA</td>\n",
       "      <td>Krishna</td>\n",
       "      <td>2015-08-04</td>\n",
       "      <td>NaT</td>\n",
       "      <td>YES</td>\n",
       "      <td>2015-03-05</td>\n",
       "      <td>P</td>\n",
       "    </tr>\n",
       "    <tr>\n",
       "      <th>122</th>\n",
       "      <td>58</td>\n",
       "      <td>Female</td>\n",
       "      <td>SC</td>\n",
       "      <td>M6</td>\n",
       "      <td>NEPHROLOGY</td>\n",
       "      <td>M6.5</td>\n",
       "      <td>Maintenance Hemodialysis For Crf</td>\n",
       "      <td>Mudunuruu</td>\n",
       "      <td>Vuyyuru</td>\n",
       "      <td>Krishna</td>\n",
       "      <td>...</td>\n",
       "      <td>11250</td>\n",
       "      <td>Andhra Health Diagnostic Services LimitedGloba...</td>\n",
       "      <td>C</td>\n",
       "      <td>VIJAYAWADA</td>\n",
       "      <td>Krishna</td>\n",
       "      <td>2015-06-15</td>\n",
       "      <td>NaT</td>\n",
       "      <td>YES</td>\n",
       "      <td>2015-08-23</td>\n",
       "      <td>D</td>\n",
       "    </tr>\n",
       "    <tr>\n",
       "      <th>...</th>\n",
       "      <td>...</td>\n",
       "      <td>...</td>\n",
       "      <td>...</td>\n",
       "      <td>...</td>\n",
       "      <td>...</td>\n",
       "      <td>...</td>\n",
       "      <td>...</td>\n",
       "      <td>...</td>\n",
       "      <td>...</td>\n",
       "      <td>...</td>\n",
       "      <td>...</td>\n",
       "      <td>...</td>\n",
       "      <td>...</td>\n",
       "      <td>...</td>\n",
       "      <td>...</td>\n",
       "      <td>...</td>\n",
       "      <td>...</td>\n",
       "      <td>...</td>\n",
       "      <td>...</td>\n",
       "      <td>...</td>\n",
       "      <td>...</td>\n",
       "    </tr>\n",
       "    <tr>\n",
       "      <th>479300</th>\n",
       "      <td>69</td>\n",
       "      <td>Male</td>\n",
       "      <td>OC</td>\n",
       "      <td>M6</td>\n",
       "      <td>NEPHROLOGY</td>\n",
       "      <td>M6.5</td>\n",
       "      <td>Maintenance Hemodialysis For Crf</td>\n",
       "      <td>Badvel (P) (U)</td>\n",
       "      <td>Badvel</td>\n",
       "      <td>YSR Kadapa</td>\n",
       "      <td>...</td>\n",
       "      <td>1028</td>\n",
       "      <td>Krishna Institute of Medical Sciences Bollinen...</td>\n",
       "      <td>C</td>\n",
       "      <td>NELLORE</td>\n",
       "      <td>Nellore</td>\n",
       "      <td>2017-10-11</td>\n",
       "      <td>NaT</td>\n",
       "      <td>YES</td>\n",
       "      <td>2017-11-11</td>\n",
       "      <td>D</td>\n",
       "    </tr>\n",
       "    <tr>\n",
       "      <th>479305</th>\n",
       "      <td>60</td>\n",
       "      <td>Female</td>\n",
       "      <td>BC</td>\n",
       "      <td>M6</td>\n",
       "      <td>NEPHROLOGY</td>\n",
       "      <td>M6.5</td>\n",
       "      <td>Maintenance Hemodialysis For Crf</td>\n",
       "      <td>Garividi (Urban)</td>\n",
       "      <td>Garividi</td>\n",
       "      <td>Vizianagaram</td>\n",
       "      <td>...</td>\n",
       "      <td>5140</td>\n",
       "      <td>Tirumala Multi Speciality Hospitals (India )Pv...</td>\n",
       "      <td>C</td>\n",
       "      <td>VIZIANAGARAM</td>\n",
       "      <td>Vizianagaram</td>\n",
       "      <td>2017-12-11</td>\n",
       "      <td>NaT</td>\n",
       "      <td>YES</td>\n",
       "      <td>2017-11-26</td>\n",
       "      <td>D</td>\n",
       "    </tr>\n",
       "    <tr>\n",
       "      <th>479372</th>\n",
       "      <td>67</td>\n",
       "      <td>Female</td>\n",
       "      <td>BC</td>\n",
       "      <td>M5</td>\n",
       "      <td>CARDIOLOGY</td>\n",
       "      <td>M5.1.2</td>\n",
       "      <td>Management Of Acute MI With Angiogram</td>\n",
       "      <td>Ambapuram</td>\n",
       "      <td>Nellore</td>\n",
       "      <td>Nellore</td>\n",
       "      <td>...</td>\n",
       "      <td>10000</td>\n",
       "      <td>Krishna Institute of Medical Sciences Bollinen...</td>\n",
       "      <td>C</td>\n",
       "      <td>NELLORE</td>\n",
       "      <td>Nellore</td>\n",
       "      <td>2017-10-11</td>\n",
       "      <td>NaT</td>\n",
       "      <td>YES</td>\n",
       "      <td>2017-11-11</td>\n",
       "      <td>D</td>\n",
       "    </tr>\n",
       "    <tr>\n",
       "      <th>479403</th>\n",
       "      <td>0</td>\n",
       "      <td>Male(Child)</td>\n",
       "      <td>Minorities</td>\n",
       "      <td>M4</td>\n",
       "      <td>PEDIATRICS</td>\n",
       "      <td>M4.1.14</td>\n",
       "      <td>Medical Management of Term Baby With Severe Pe...</td>\n",
       "      <td>Guntur (U)</td>\n",
       "      <td>Guntur</td>\n",
       "      <td>Guntur</td>\n",
       "      <td>...</td>\n",
       "      <td>40000</td>\n",
       "      <td>MOTHER THERESA MULTI SPECIALITY</td>\n",
       "      <td>C</td>\n",
       "      <td>NARSARAOPET</td>\n",
       "      <td>Guntur</td>\n",
       "      <td>2017-11-11</td>\n",
       "      <td>NaT</td>\n",
       "      <td>YES</td>\n",
       "      <td>2017-11-17</td>\n",
       "      <td>D</td>\n",
       "    </tr>\n",
       "    <tr>\n",
       "      <th>479404</th>\n",
       "      <td>46</td>\n",
       "      <td>Female</td>\n",
       "      <td>BC</td>\n",
       "      <td>M1</td>\n",
       "      <td>CRITICAL CARE</td>\n",
       "      <td>M1.4</td>\n",
       "      <td>Medical Management of ARDS</td>\n",
       "      <td>Poolathota</td>\n",
       "      <td>Doravarisatram</td>\n",
       "      <td>Nellore</td>\n",
       "      <td>...</td>\n",
       "      <td>10000</td>\n",
       "      <td>Krishna Institute of Medical Sciences Bollinen...</td>\n",
       "      <td>C</td>\n",
       "      <td>NELLORE</td>\n",
       "      <td>Nellore</td>\n",
       "      <td>2017-11-11</td>\n",
       "      <td>NaT</td>\n",
       "      <td>YES</td>\n",
       "      <td>2017-11-11</td>\n",
       "      <td>D</td>\n",
       "    </tr>\n",
       "  </tbody>\n",
       "</table>\n",
       "<p>4559 rows × 23 columns</p>\n",
       "</div>"
      ],
      "text/plain": [
       "        AGE          SEX  CASTE_NAME CATEGORY_CODE  CATEGORY_NAME  \\\n",
       "7        73         Male          BC            M6     NEPHROLOGY   \n",
       "10       52         Male          BC            M6     NEPHROLOGY   \n",
       "86       40         Male          SC            M6     NEPHROLOGY   \n",
       "97       75         Male          BC            M6     NEPHROLOGY   \n",
       "122      58       Female          SC            M6     NEPHROLOGY   \n",
       "...     ...          ...         ...           ...            ...   \n",
       "479300   69         Male          OC            M6     NEPHROLOGY   \n",
       "479305   60       Female          BC            M6     NEPHROLOGY   \n",
       "479372   67       Female          BC            M5     CARDIOLOGY   \n",
       "479403    0  Male(Child)  Minorities            M4     PEDIATRICS   \n",
       "479404   46       Female          BC            M1  CRITICAL CARE   \n",
       "\n",
       "       SURGERY_CODE                                            SURGERY  \\\n",
       "7              M6.5                   Maintenance Hemodialysis For Crf   \n",
       "10             M6.5                   Maintenance Hemodialysis For Crf   \n",
       "86             M6.5                   Maintenance Hemodialysis For Crf   \n",
       "97             M6.5                   Maintenance Hemodialysis For Crf   \n",
       "122            M6.5                   Maintenance Hemodialysis For Crf   \n",
       "...             ...                                                ...   \n",
       "479300         M6.5                   Maintenance Hemodialysis For Crf   \n",
       "479305         M6.5                   Maintenance Hemodialysis For Crf   \n",
       "479372       M5.1.2              Management Of Acute MI With Angiogram   \n",
       "479403      M4.1.14  Medical Management of Term Baby With Severe Pe...   \n",
       "479404         M1.4                         Medical Management of ARDS   \n",
       "\n",
       "                 VILLAGE     MANDAL_NAME   DISTRICT_NAME  ... CLAIM_AMOUNT  \\\n",
       "7            Bhoghapuram     Bhoghapuram    Vizianagaram  ...         5000   \n",
       "10                 Rajam   Butchayyapeta  Vishakhapatnam  ...         6250   \n",
       "86             Dakamarri  Bheemunipatnam  Vishakhapatnam  ...         6250   \n",
       "97               Ward-13      Vijayawada         Krishna  ...        10000   \n",
       "122            Mudunuruu         Vuyyuru         Krishna  ...        11250   \n",
       "...                  ...             ...             ...  ...          ...   \n",
       "479300    Badvel (P) (U)          Badvel      YSR Kadapa  ...         1028   \n",
       "479305  Garividi (Urban)        Garividi    Vizianagaram  ...         5140   \n",
       "479372         Ambapuram         Nellore         Nellore  ...        10000   \n",
       "479403        Guntur (U)          Guntur          Guntur  ...        40000   \n",
       "479404        Poolathota  Doravarisatram         Nellore  ...        10000   \n",
       "\n",
       "                                                HOSP_NAME HOSP_TYPE  \\\n",
       "7                                    Queens Nri Hospitals         C   \n",
       "10                                   Queens Nri Hospitals         C   \n",
       "86                                   Queens Nri Hospitals         C   \n",
       "97      Andhra Health Diagnostic Services LimitedGloba...         C   \n",
       "122     Andhra Health Diagnostic Services LimitedGloba...         C   \n",
       "...                                                   ...       ...   \n",
       "479300  Krishna Institute of Medical Sciences Bollinen...         C   \n",
       "479305  Tirumala Multi Speciality Hospitals (India )Pv...         C   \n",
       "479372  Krishna Institute of Medical Sciences Bollinen...         C   \n",
       "479403                   MOTHER THERESA MULTI SPECIALITY          C   \n",
       "479404  Krishna Institute of Medical Sciences Bollinen...         C   \n",
       "\n",
       "        HOSP_LOCATION   HOSP_DISTRICT SURGERY_DATE DISCHARGE_DATE  \\\n",
       "7       Visakhapatnam  Vishakhapatnam   2014-05-05            NaT   \n",
       "10      Visakhapatnam  Vishakhapatnam   2014-06-27            NaT   \n",
       "86      Visakhapatnam  Vishakhapatnam   2015-02-23            NaT   \n",
       "97         VIJAYAWADA         Krishna   2015-08-04            NaT   \n",
       "122        VIJAYAWADA         Krishna   2015-06-15            NaT   \n",
       "...               ...             ...          ...            ...   \n",
       "479300        NELLORE         Nellore   2017-10-11            NaT   \n",
       "479305   VIZIANAGARAM    Vizianagaram   2017-12-11            NaT   \n",
       "479372        NELLORE         Nellore   2017-10-11            NaT   \n",
       "479403    NARSARAOPET          Guntur   2017-11-11            NaT   \n",
       "479404        NELLORE         Nellore   2017-11-11            NaT   \n",
       "\n",
       "       Mortality Y / N MORTALITY_DATE SRC_REGISTRATION  \n",
       "7                  YES     2014-05-23                D  \n",
       "10                 YES     2014-07-16                P  \n",
       "86                 YES     2015-10-03                D  \n",
       "97                 YES     2015-03-05                P  \n",
       "122                YES     2015-08-23                D  \n",
       "...                ...            ...              ...  \n",
       "479300             YES     2017-11-11                D  \n",
       "479305             YES     2017-11-26                D  \n",
       "479372             YES     2017-11-11                D  \n",
       "479403             YES     2017-11-17                D  \n",
       "479404             YES     2017-11-11                D  \n",
       "\n",
       "[4559 rows x 23 columns]"
      ]
     },
     "execution_count": 419,
     "metadata": {},
     "output_type": "execute_result"
    }
   ],
   "source": [
    "# Podemos chequear si hay pacientes con DISCHARGE_DATE NA y que hallan fallecido\n",
    "data.loc[(data['Mortality Y / N']=='YES') & (data['DISCHARGE_DATE'].isna())]"
   ]
  },
  {
   "cell_type": "code",
   "execution_count": 416,
   "metadata": {},
   "outputs": [
    {
     "data": {
      "text/html": [
       "<div>\n",
       "<style scoped>\n",
       "    .dataframe tbody tr th:only-of-type {\n",
       "        vertical-align: middle;\n",
       "    }\n",
       "\n",
       "    .dataframe tbody tr th {\n",
       "        vertical-align: top;\n",
       "    }\n",
       "\n",
       "    .dataframe thead th {\n",
       "        text-align: right;\n",
       "    }\n",
       "</style>\n",
       "<table border=\"1\" class=\"dataframe\">\n",
       "  <thead>\n",
       "    <tr style=\"text-align: right;\">\n",
       "      <th></th>\n",
       "      <th>AGE</th>\n",
       "      <th>SEX</th>\n",
       "      <th>CASTE_NAME</th>\n",
       "      <th>CATEGORY_CODE</th>\n",
       "      <th>CATEGORY_NAME</th>\n",
       "      <th>SURGERY_CODE</th>\n",
       "      <th>SURGERY</th>\n",
       "      <th>VILLAGE</th>\n",
       "      <th>MANDAL_NAME</th>\n",
       "      <th>DISTRICT_NAME</th>\n",
       "      <th>...</th>\n",
       "      <th>CLAIM_AMOUNT</th>\n",
       "      <th>HOSP_NAME</th>\n",
       "      <th>HOSP_TYPE</th>\n",
       "      <th>HOSP_LOCATION</th>\n",
       "      <th>HOSP_DISTRICT</th>\n",
       "      <th>SURGERY_DATE</th>\n",
       "      <th>DISCHARGE_DATE</th>\n",
       "      <th>Mortality Y / N</th>\n",
       "      <th>MORTALITY_DATE</th>\n",
       "      <th>SRC_REGISTRATION</th>\n",
       "    </tr>\n",
       "  </thead>\n",
       "  <tbody>\n",
       "    <tr>\n",
       "      <th>0</th>\n",
       "      <td>56</td>\n",
       "      <td>Female</td>\n",
       "      <td>BC</td>\n",
       "      <td>M6</td>\n",
       "      <td>NEPHROLOGY</td>\n",
       "      <td>M6.5</td>\n",
       "      <td>Maintenance Hemodialysis For Crf</td>\n",
       "      <td>Lolugu</td>\n",
       "      <td>Ponduru</td>\n",
       "      <td>Srikakulam</td>\n",
       "      <td>...</td>\n",
       "      <td>11000</td>\n",
       "      <td>Rims Govt. General Hospital, Srikakulam</td>\n",
       "      <td>G</td>\n",
       "      <td>SRIKAKULAM</td>\n",
       "      <td>Srikakulam</td>\n",
       "      <td>2013-06-08</td>\n",
       "      <td>2013-07-09</td>\n",
       "      <td>NO</td>\n",
       "      <td>NaT</td>\n",
       "      <td>D</td>\n",
       "    </tr>\n",
       "    <tr>\n",
       "      <th>1</th>\n",
       "      <td>37</td>\n",
       "      <td>Male</td>\n",
       "      <td>BC</td>\n",
       "      <td>M6</td>\n",
       "      <td>NEPHROLOGY</td>\n",
       "      <td>M6.5</td>\n",
       "      <td>Maintenance Hemodialysis For Crf</td>\n",
       "      <td>Borivanka</td>\n",
       "      <td>Kaviti</td>\n",
       "      <td>Srikakulam</td>\n",
       "      <td>...</td>\n",
       "      <td>11000</td>\n",
       "      <td>Rims Govt. General Hospital, Srikakulam</td>\n",
       "      <td>G</td>\n",
       "      <td>SRIKAKULAM</td>\n",
       "      <td>Srikakulam</td>\n",
       "      <td>2013-08-08</td>\n",
       "      <td>2013-09-09</td>\n",
       "      <td>NO</td>\n",
       "      <td>NaT</td>\n",
       "      <td>D</td>\n",
       "    </tr>\n",
       "    <tr>\n",
       "      <th>2</th>\n",
       "      <td>50</td>\n",
       "      <td>Male</td>\n",
       "      <td>BC</td>\n",
       "      <td>M6</td>\n",
       "      <td>NEPHROLOGY</td>\n",
       "      <td>M6.5</td>\n",
       "      <td>Maintenance Hemodialysis For Crf</td>\n",
       "      <td>Kapasakuddi</td>\n",
       "      <td>Kaviti</td>\n",
       "      <td>Srikakulam</td>\n",
       "      <td>...</td>\n",
       "      <td>11500</td>\n",
       "      <td>Rims Govt. General Hospital, Srikakulam</td>\n",
       "      <td>G</td>\n",
       "      <td>SRIKAKULAM</td>\n",
       "      <td>Srikakulam</td>\n",
       "      <td>2013-08-15</td>\n",
       "      <td>2013-10-18</td>\n",
       "      <td>NO</td>\n",
       "      <td>NaT</td>\n",
       "      <td>D</td>\n",
       "    </tr>\n",
       "    <tr>\n",
       "      <th>3</th>\n",
       "      <td>45</td>\n",
       "      <td>Male</td>\n",
       "      <td>BC</td>\n",
       "      <td>M6</td>\n",
       "      <td>NEPHROLOGY</td>\n",
       "      <td>M6.5</td>\n",
       "      <td>Maintenance Hemodialysis For Crf</td>\n",
       "      <td>Telikipenta</td>\n",
       "      <td>Sarubujjili</td>\n",
       "      <td>Srikakulam</td>\n",
       "      <td>...</td>\n",
       "      <td>11000</td>\n",
       "      <td>Rims Govt. General Hospital, Srikakulam</td>\n",
       "      <td>G</td>\n",
       "      <td>SRIKAKULAM</td>\n",
       "      <td>Srikakulam</td>\n",
       "      <td>2013-08-24</td>\n",
       "      <td>2013-09-27</td>\n",
       "      <td>NO</td>\n",
       "      <td>NaT</td>\n",
       "      <td>D</td>\n",
       "    </tr>\n",
       "    <tr>\n",
       "      <th>4</th>\n",
       "      <td>54</td>\n",
       "      <td>Male</td>\n",
       "      <td>BC</td>\n",
       "      <td>M6</td>\n",
       "      <td>NEPHROLOGY</td>\n",
       "      <td>M6.5</td>\n",
       "      <td>Maintenance Hemodialysis For Crf</td>\n",
       "      <td>Thandemvalasa</td>\n",
       "      <td>Srikakulam</td>\n",
       "      <td>Srikakulam</td>\n",
       "      <td>...</td>\n",
       "      <td>11000</td>\n",
       "      <td>Rims Govt. General Hospital, Srikakulam</td>\n",
       "      <td>G</td>\n",
       "      <td>SRIKAKULAM</td>\n",
       "      <td>Srikakulam</td>\n",
       "      <td>2013-08-31</td>\n",
       "      <td>2013-02-10</td>\n",
       "      <td>NO</td>\n",
       "      <td>NaT</td>\n",
       "      <td>D</td>\n",
       "    </tr>\n",
       "    <tr>\n",
       "      <th>...</th>\n",
       "      <td>...</td>\n",
       "      <td>...</td>\n",
       "      <td>...</td>\n",
       "      <td>...</td>\n",
       "      <td>...</td>\n",
       "      <td>...</td>\n",
       "      <td>...</td>\n",
       "      <td>...</td>\n",
       "      <td>...</td>\n",
       "      <td>...</td>\n",
       "      <td>...</td>\n",
       "      <td>...</td>\n",
       "      <td>...</td>\n",
       "      <td>...</td>\n",
       "      <td>...</td>\n",
       "      <td>...</td>\n",
       "      <td>...</td>\n",
       "      <td>...</td>\n",
       "      <td>...</td>\n",
       "      <td>...</td>\n",
       "      <td>...</td>\n",
       "    </tr>\n",
       "    <tr>\n",
       "      <th>479683</th>\n",
       "      <td>22</td>\n",
       "      <td>Female</td>\n",
       "      <td>BC</td>\n",
       "      <td>S4</td>\n",
       "      <td>GYNAECOLOGY AND OBSTETRICS  SURGERY</td>\n",
       "      <td>S4.2.2</td>\n",
       "      <td>Laparoscopic Cystectomy</td>\n",
       "      <td>Kalayakagollu</td>\n",
       "      <td>Butchireddipalem</td>\n",
       "      <td>Nellore</td>\n",
       "      <td>...</td>\n",
       "      <td>24910</td>\n",
       "      <td>Krishna Institute of Medical Sciences Bollinen...</td>\n",
       "      <td>C</td>\n",
       "      <td>NELLORE</td>\n",
       "      <td>Nellore</td>\n",
       "      <td>2017-11-15</td>\n",
       "      <td>2017-11-19</td>\n",
       "      <td>NO</td>\n",
       "      <td>NaT</td>\n",
       "      <td>D</td>\n",
       "    </tr>\n",
       "    <tr>\n",
       "      <th>479684</th>\n",
       "      <td>60</td>\n",
       "      <td>Male</td>\n",
       "      <td>BC</td>\n",
       "      <td>S12</td>\n",
       "      <td>MEDICAL ONCOLOGY</td>\n",
       "      <td>S12.16.2.2</td>\n",
       "      <td>Chemotherapy for Non Hodgkin Lymphoma with  R ...</td>\n",
       "      <td>Rajupalem</td>\n",
       "      <td>Kothapatnam</td>\n",
       "      <td>Prakasam</td>\n",
       "      <td>...</td>\n",
       "      <td>45910</td>\n",
       "      <td>Manipal Health Enterprises PVT LTD</td>\n",
       "      <td>C</td>\n",
       "      <td>GUNTUR</td>\n",
       "      <td>Guntur</td>\n",
       "      <td>2017-11-17</td>\n",
       "      <td>2017-11-18</td>\n",
       "      <td>NO</td>\n",
       "      <td>NaT</td>\n",
       "      <td>D</td>\n",
       "    </tr>\n",
       "    <tr>\n",
       "      <th>479685</th>\n",
       "      <td>38</td>\n",
       "      <td>Male</td>\n",
       "      <td>OC</td>\n",
       "      <td>S15</td>\n",
       "      <td>POLY TRAUMA</td>\n",
       "      <td>S15.1.1</td>\n",
       "      <td>Surgical Correction Of Longbone Fracture</td>\n",
       "      <td>Yeturu</td>\n",
       "      <td>Chejerla</td>\n",
       "      <td>Nellore</td>\n",
       "      <td>...</td>\n",
       "      <td>30000</td>\n",
       "      <td>Krishna Institute of Medical Sciences Bollinen...</td>\n",
       "      <td>C</td>\n",
       "      <td>NELLORE</td>\n",
       "      <td>Nellore</td>\n",
       "      <td>2017-11-16</td>\n",
       "      <td>2017-11-18</td>\n",
       "      <td>NO</td>\n",
       "      <td>NaT</td>\n",
       "      <td>D</td>\n",
       "    </tr>\n",
       "    <tr>\n",
       "      <th>479686</th>\n",
       "      <td>59</td>\n",
       "      <td>Male</td>\n",
       "      <td>OC</td>\n",
       "      <td>S3</td>\n",
       "      <td>OPHTHALMOLOGY  SURGERY</td>\n",
       "      <td>S3.3.1</td>\n",
       "      <td>Vitrectomy</td>\n",
       "      <td>Ganapavaram</td>\n",
       "      <td>Ganapavaram</td>\n",
       "      <td>West Godavari</td>\n",
       "      <td>...</td>\n",
       "      <td>23020</td>\n",
       "      <td>Sankar Eye Hospital</td>\n",
       "      <td>C</td>\n",
       "      <td>GUNTUR</td>\n",
       "      <td>Guntur</td>\n",
       "      <td>2017-11-16</td>\n",
       "      <td>2017-11-18</td>\n",
       "      <td>NO</td>\n",
       "      <td>NaT</td>\n",
       "      <td>D</td>\n",
       "    </tr>\n",
       "    <tr>\n",
       "      <th>479687</th>\n",
       "      <td>63</td>\n",
       "      <td>Male</td>\n",
       "      <td>OC</td>\n",
       "      <td>S3</td>\n",
       "      <td>OPHTHALMOLOGY  SURGERY</td>\n",
       "      <td>S3.3.1</td>\n",
       "      <td>Vitrectomy</td>\n",
       "      <td>Savarigudem</td>\n",
       "      <td>Gannavaram</td>\n",
       "      <td>Krishna</td>\n",
       "      <td>...</td>\n",
       "      <td>23020</td>\n",
       "      <td>Sankar Eye Hospital</td>\n",
       "      <td>C</td>\n",
       "      <td>GUNTUR</td>\n",
       "      <td>Guntur</td>\n",
       "      <td>2017-11-16</td>\n",
       "      <td>2017-11-18</td>\n",
       "      <td>NO</td>\n",
       "      <td>NaT</td>\n",
       "      <td>D</td>\n",
       "    </tr>\n",
       "  </tbody>\n",
       "</table>\n",
       "<p>469566 rows × 23 columns</p>\n",
       "</div>"
      ],
      "text/plain": [
       "        AGE     SEX CASTE_NAME CATEGORY_CODE  \\\n",
       "0        56  Female         BC            M6   \n",
       "1        37    Male         BC            M6   \n",
       "2        50    Male         BC            M6   \n",
       "3        45    Male         BC            M6   \n",
       "4        54    Male         BC            M6   \n",
       "...     ...     ...        ...           ...   \n",
       "479683   22  Female         BC            S4   \n",
       "479684   60    Male         BC           S12   \n",
       "479685   38    Male         OC           S15   \n",
       "479686   59    Male         OC            S3   \n",
       "479687   63    Male         OC            S3   \n",
       "\n",
       "                              CATEGORY_NAME SURGERY_CODE  \\\n",
       "0                                NEPHROLOGY         M6.5   \n",
       "1                                NEPHROLOGY         M6.5   \n",
       "2                                NEPHROLOGY         M6.5   \n",
       "3                                NEPHROLOGY         M6.5   \n",
       "4                                NEPHROLOGY         M6.5   \n",
       "...                                     ...          ...   \n",
       "479683  GYNAECOLOGY AND OBSTETRICS  SURGERY       S4.2.2   \n",
       "479684                     MEDICAL ONCOLOGY   S12.16.2.2   \n",
       "479685                          POLY TRAUMA      S15.1.1   \n",
       "479686               OPHTHALMOLOGY  SURGERY       S3.3.1   \n",
       "479687               OPHTHALMOLOGY  SURGERY       S3.3.1   \n",
       "\n",
       "                                                  SURGERY        VILLAGE  \\\n",
       "0                        Maintenance Hemodialysis For Crf         Lolugu   \n",
       "1                        Maintenance Hemodialysis For Crf      Borivanka   \n",
       "2                        Maintenance Hemodialysis For Crf    Kapasakuddi   \n",
       "3                        Maintenance Hemodialysis For Crf    Telikipenta   \n",
       "4                        Maintenance Hemodialysis For Crf  Thandemvalasa   \n",
       "...                                                   ...            ...   \n",
       "479683                            Laparoscopic Cystectomy  Kalayakagollu   \n",
       "479684  Chemotherapy for Non Hodgkin Lymphoma with  R ...      Rajupalem   \n",
       "479685           Surgical Correction Of Longbone Fracture         Yeturu   \n",
       "479686                                         Vitrectomy    Ganapavaram   \n",
       "479687                                         Vitrectomy    Savarigudem   \n",
       "\n",
       "             MANDAL_NAME  DISTRICT_NAME  ... CLAIM_AMOUNT  \\\n",
       "0                Ponduru     Srikakulam  ...        11000   \n",
       "1                 Kaviti     Srikakulam  ...        11000   \n",
       "2                 Kaviti     Srikakulam  ...        11500   \n",
       "3            Sarubujjili     Srikakulam  ...        11000   \n",
       "4             Srikakulam     Srikakulam  ...        11000   \n",
       "...                  ...            ...  ...          ...   \n",
       "479683  Butchireddipalem        Nellore  ...        24910   \n",
       "479684       Kothapatnam       Prakasam  ...        45910   \n",
       "479685          Chejerla        Nellore  ...        30000   \n",
       "479686       Ganapavaram  West Godavari  ...        23020   \n",
       "479687        Gannavaram        Krishna  ...        23020   \n",
       "\n",
       "                                                HOSP_NAME HOSP_TYPE  \\\n",
       "0                 Rims Govt. General Hospital, Srikakulam         G   \n",
       "1                 Rims Govt. General Hospital, Srikakulam         G   \n",
       "2                 Rims Govt. General Hospital, Srikakulam         G   \n",
       "3                 Rims Govt. General Hospital, Srikakulam         G   \n",
       "4                 Rims Govt. General Hospital, Srikakulam         G   \n",
       "...                                                   ...       ...   \n",
       "479683  Krishna Institute of Medical Sciences Bollinen...         C   \n",
       "479684                 Manipal Health Enterprises PVT LTD         C   \n",
       "479685  Krishna Institute of Medical Sciences Bollinen...         C   \n",
       "479686                                Sankar Eye Hospital         C   \n",
       "479687                                Sankar Eye Hospital         C   \n",
       "\n",
       "        HOSP_LOCATION HOSP_DISTRICT SURGERY_DATE DISCHARGE_DATE  \\\n",
       "0          SRIKAKULAM    Srikakulam   2013-06-08     2013-07-09   \n",
       "1          SRIKAKULAM    Srikakulam   2013-08-08     2013-09-09   \n",
       "2          SRIKAKULAM    Srikakulam   2013-08-15     2013-10-18   \n",
       "3          SRIKAKULAM    Srikakulam   2013-08-24     2013-09-27   \n",
       "4          SRIKAKULAM    Srikakulam   2013-08-31     2013-02-10   \n",
       "...               ...           ...          ...            ...   \n",
       "479683        NELLORE       Nellore   2017-11-15     2017-11-19   \n",
       "479684         GUNTUR        Guntur   2017-11-17     2017-11-18   \n",
       "479685        NELLORE       Nellore   2017-11-16     2017-11-18   \n",
       "479686         GUNTUR        Guntur   2017-11-16     2017-11-18   \n",
       "479687         GUNTUR        Guntur   2017-11-16     2017-11-18   \n",
       "\n",
       "       Mortality Y / N MORTALITY_DATE SRC_REGISTRATION  \n",
       "0                   NO            NaT                D  \n",
       "1                   NO            NaT                D  \n",
       "2                   NO            NaT                D  \n",
       "3                   NO            NaT                D  \n",
       "4                   NO            NaT                D  \n",
       "...                ...            ...              ...  \n",
       "479683              NO            NaT                D  \n",
       "479684              NO            NaT                D  \n",
       "479685              NO            NaT                D  \n",
       "479686              NO            NaT                D  \n",
       "479687              NO            NaT                D  \n",
       "\n",
       "[469566 rows x 23 columns]"
      ]
     },
     "execution_count": 416,
     "metadata": {},
     "output_type": "execute_result"
    }
   ],
   "source": [
    "# Los MORTALITY_DATE en blanco, es porque no falleció o por error en la base? SI\n",
    "data.loc[(data['Mortality Y / N']=='NO') & (data['MORTALITY_DATE'].isna())]"
   ]
  },
  {
   "cell_type": "markdown",
   "metadata": {
    "_uuid": "c62aea5ceff3e742443abe2fa8ce43c914a1f50c"
   },
   "source": [
    "## Diving deeper into the data"
   ]
  },
  {
   "cell_type": "markdown",
   "metadata": {
    "_uuid": "bffee16b17d1eaade1d9038bcce91f17f0b37e57"
   },
   "source": [
    "### What is the age distribution of the data?"
   ]
  },
  {
   "cell_type": "markdown",
   "metadata": {
    "_uuid": "57643886b47dfe5b4c1ede755944617d8196df9e"
   },
   "source": [
    "*value_counts()* is a Pandas function that can be used to print the distributions of data (in the specified column). Let's begin by checking the gender stats of the data."
   ]
  },
  {
   "cell_type": "code",
   "execution_count": 274,
   "metadata": {
    "_uuid": "f5fe97a1545fa7e0ff484e70ea06c7696ce192f8"
   },
   "outputs": [
    {
     "data": {
      "text/plain": [
       "Male             260718\n",
       "Female           178947\n",
       "Male(Child)       25068\n",
       "Female(Child)     14925\n",
       "FEMALE               21\n",
       "MALE                  9\n",
       "Name: SEX, dtype: int64"
      ]
     },
     "execution_count": 274,
     "metadata": {},
     "output_type": "execute_result"
    }
   ],
   "source": [
    "# Display the counts of each value in the SEX column\n",
    "data['SEX'].value_counts()"
   ]
  },
  {
   "cell_type": "markdown",
   "metadata": {
    "_uuid": "e194cef08961d651834ed9bfaceccfb97402bf30"
   },
   "source": [
    "Oops! It looks like there are duplicate values in this column. *Male* and *MALE* are not two different genders! \n",
    "\n",
    "We can *replace* the column names to fix this issue. I will also rename Male (Child) -> Boy and Female (Child) -> Girl for convinience purposes."
   ]
  },
  {
   "cell_type": "code",
   "execution_count": 98,
   "metadata": {
    "_uuid": "99a7772d15e3a171ab6e48a423eb43afa7831e8f"
   },
   "outputs": [],
   "source": [
    "# mappings to standardize and clean the values\n",
    "mappings = {'MALE' : 'Male', 'FEMALE' : 'Female', 'Male(Child)' : 'Boy', 'Female(Child)' : 'Girl'}"
   ]
  },
  {
   "cell_type": "code",
   "execution_count": 99,
   "metadata": {
    "_uuid": "79f45ad169d6a28068bff0d7b41264701c400a18"
   },
   "outputs": [
    {
     "data": {
      "text/plain": [
       "Male      260727\n",
       "Female    178968\n",
       "Boy        25068\n",
       "Girl       14925\n",
       "Name: SEX, dtype: int64"
      ]
     },
     "execution_count": 99,
     "metadata": {},
     "output_type": "execute_result"
    }
   ],
   "source": [
    "# replace values using the defined mappings\n",
    "data['SEX'] = data['SEX'].replace(mappings)\n",
    "data['SEX'].value_counts()"
   ]
  },
  {
   "cell_type": "markdown",
   "metadata": {
    "_uuid": "d0240556a5b1f04e24ec9fd934deeefed64738c8"
   },
   "source": [
    "Visualizing this distribution can be done easily using the in-built plot function of Pandas."
   ]
  },
  {
   "cell_type": "code",
   "execution_count": 100,
   "metadata": {
    "_uuid": "dcda1f0b90c7be08de6afe1b793c98798fe1f36b"
   },
   "outputs": [
    {
     "data": {
      "text/plain": [
       "<AxesSubplot:>"
      ]
     },
     "execution_count": 100,
     "metadata": {},
     "output_type": "execute_result"
    },
    {
     "data": {
      "image/png": "[encoded data removed]",
      "text/plain": [
       "<Figure size 432x288 with 1 Axes>"
      ]
     },
     "metadata": {
      "needs_background": "light"
     },
     "output_type": "display_data"
    }
   ],
   "source": [
    "# plot the value counts of sex \n",
    "data['SEX'].value_counts().plot.bar()"
   ]
  },
  {
   "cell_type": "markdown",
   "metadata": {
    "_uuid": "054bd96effe714b478ce136b7e39fb3970d0b5b8"
   },
   "source": [
    "### What is the age distribution of the data?"
   ]
  },
  {
   "cell_type": "markdown",
   "metadata": {
    "_uuid": "f9970fbf7c21aff98cba076ba47e3a46b2430085"
   },
   "source": [
    "Mean, Median and Mode of the data."
   ]
  },
  {
   "cell_type": "code",
   "execution_count": 101,
   "metadata": {
    "_uuid": "ec00f8bb13699429867785ec79d42b78d1a13739"
   },
   "outputs": [
    {
     "name": "stdout",
     "output_type": "stream",
     "text": [
      "Mean: 44.91226380480646\n",
      "Median: 47.0\n",
      "Mode: 0    0\n",
      "dtype: int64\n"
     ]
    }
   ],
   "source": [
    "# print the mean, median and mode of the age distribution\n",
    "print(\"Mean: {}\".format(data['AGE'].mean()))\n",
    "print(\"Median: {}\".format(data['AGE'].median()))\n",
    "print(\"Mode: {}\".format(data['AGE'].mode()))"
   ]
  },
  {
   "cell_type": "markdown",
   "metadata": {
    "_uuid": "83ad4c4247b0293100eb08cee636837b17d9d7a7"
   },
   "source": [
    "Top 10 common ages of the data. Feel free to play around by replacing 10 with the number of your choice."
   ]
  },
  {
   "cell_type": "code",
   "execution_count": 102,
   "metadata": {
    "_uuid": "9eb0488d786f60d452568411aea1982fa7997d10"
   },
   "outputs": [
    {
     "data": {
      "text/plain": [
       "0     17513\n",
       "50    16191\n",
       "55    15184\n",
       "45    15052\n",
       "60    13732\n",
       "46    12858\n",
       "56    12590\n",
       "51    12470\n",
       "40    11962\n",
       "65    11878\n",
       "Name: AGE, dtype: int64"
      ]
     },
     "execution_count": 102,
     "metadata": {},
     "output_type": "execute_result"
    }
   ],
   "source": [
    "# print the top 10 ages\n",
    "data['AGE'].value_counts().head(10)"
   ]
  },
  {
   "cell_type": "markdown",
   "metadata": {
    "_uuid": "40562a32ee01a6a2854713f9a5a5af61577ed964"
   },
   "source": [
    "Box plots are commonly used for visualizing a distribution when bar plots or scatter plots are too overwhelming to understand."
   ]
  },
  {
   "cell_type": "code",
   "execution_count": 276,
   "metadata": {
    "_uuid": "2e720e15a7bdc74cf3f5a3937bc30e0ac7c24cea"
   },
   "outputs": [
    {
     "data": {
      "image/png": "[encoded data removed]",
      "text/plain": [
       "<Figure size 432x288 with 1 Axes>"
      ]
     },
     "metadata": {
      "needs_background": "light"
     },
     "output_type": "display_data"
    }
   ],
   "source": [
    "# boxplot for age variable\n",
    "# data['AGE'].plot.box()\n",
    "# sns.boxplot(data['AGE']) # Devuelve un warning, que se solucina definiendo x e y.\n",
    "sns.boxplot(x=data['AGE']); # El ; evita la impresión de texto previo al gráfico."
   ]
  },
  {
   "cell_type": "markdown",
   "metadata": {
    "_uuid": "ce0456471733af1564ae8ed4a387babf82461962"
   },
   "source": [
    "in the above diagram, the box represents the **[Interquartile Range (IQR)](http://https://en.wikipedia.org/wiki/Interquartile_range)** of the data. \n",
    "\n",
    "Interquartile range is the region where 50% of the data lies (i.e) 25% to 75% of the data.\n",
    "Any data outside 1.5 times the IQR is generally considered an anomaly.  \n",
    "\n",
    "The little circles in the above figure are considered outliters.\n",
    "\n",
    "The seaborn library visualizes boxplot much better."
   ]
  },
  {
   "cell_type": "markdown",
   "metadata": {
    "_uuid": "e920506fd8b4015db64a9e561c65cf3040cc1c11"
   },
   "source": [
    "### Answering some questions"
   ]
  },
  {
   "cell_type": "markdown",
   "metadata": {
    "_uuid": "80f9d6152640714c896924754e6f92798064b070"
   },
   "source": [
    "Now that we have a hold on the data being explored, let's jump into some questions to better understand the data!"
   ]
  },
  {
   "cell_type": "markdown",
   "metadata": {
    "_uuid": "a783ae63d8383ffc47b13567c81c9d7de722434e"
   },
   "source": [
    "**What if I wanted to analyze only the records pertaining to the district of Krishna?**\n",
    "\n",
    "I would have to select a subset of the data to proceed. Thankfully, Pandas can help us do that too, in two steps:\n",
    "    1. Condition to satisfy: data['DISTRICT_NAME']=='Krishna'\n",
    "    2. Inserting the condition into the dataframe: data[data['DISTRICT_NAME']=='Krishna']\n",
    "      "
   ]
  },
  {
   "cell_type": "code",
   "execution_count": 105,
   "metadata": {
    "_uuid": "7856e814e3611237be2daca829949c342776265b"
   },
   "outputs": [
    {
     "data": {
      "text/html": [
       "<div>\n",
       "<style scoped>\n",
       "    .dataframe tbody tr th:only-of-type {\n",
       "        vertical-align: middle;\n",
       "    }\n",
       "\n",
       "    .dataframe tbody tr th {\n",
       "        vertical-align: top;\n",
       "    }\n",
       "\n",
       "    .dataframe thead th {\n",
       "        text-align: right;\n",
       "    }\n",
       "</style>\n",
       "<table border=\"1\" class=\"dataframe\">\n",
       "  <thead>\n",
       "    <tr style=\"text-align: right;\">\n",
       "      <th></th>\n",
       "      <th></th>\n",
       "      <th>AGE</th>\n",
       "      <th>SEX</th>\n",
       "      <th>CASTE_NAME</th>\n",
       "      <th>CATEGORY_CODE</th>\n",
       "      <th>CATEGORY_NAME</th>\n",
       "      <th>SURGERY_CODE</th>\n",
       "      <th>SURGERY</th>\n",
       "      <th>VILLAGE</th>\n",
       "      <th>MANDAL_NAME</th>\n",
       "      <th>...</th>\n",
       "      <th>CLAIM_AMOUNT</th>\n",
       "      <th>HOSP_NAME</th>\n",
       "      <th>HOSP_TYPE</th>\n",
       "      <th>HOSP_LOCATION</th>\n",
       "      <th>HOSP_DISTRICT</th>\n",
       "      <th>SURGERY_DATE</th>\n",
       "      <th>DISCHARGE_DATE</th>\n",
       "      <th>Mortality Y / N</th>\n",
       "      <th>MORTALITY_DATE</th>\n",
       "      <th>SRC_REGISTRATION</th>\n",
       "    </tr>\n",
       "  </thead>\n",
       "  <tbody>\n",
       "    <tr>\n",
       "      <th>30</th>\n",
       "      <td>31</td>\n",
       "      <td>42</td>\n",
       "      <td>Female</td>\n",
       "      <td>OC</td>\n",
       "      <td>S12</td>\n",
       "      <td>MEDICAL ONCOLOGY</td>\n",
       "      <td>S12.26.1</td>\n",
       "      <td>Chemotherapy for Acute Myeloid Leukemia with I...</td>\n",
       "      <td>Ward-1</td>\n",
       "      <td>Vijayawada</td>\n",
       "      <td>...</td>\n",
       "      <td>60000</td>\n",
       "      <td>Nims Hospitals</td>\n",
       "      <td>G</td>\n",
       "      <td>HYDERABAD</td>\n",
       "      <td>Hyderabad</td>\n",
       "      <td>06/08/2014 00:00:00</td>\n",
       "      <td>01/09/2014 00:00:00</td>\n",
       "      <td>NO</td>\n",
       "      <td>NaN</td>\n",
       "      <td>D</td>\n",
       "    </tr>\n",
       "    <tr>\n",
       "      <th>56</th>\n",
       "      <td>57</td>\n",
       "      <td>52</td>\n",
       "      <td>Male</td>\n",
       "      <td>BC</td>\n",
       "      <td>M5</td>\n",
       "      <td>CARDIOLOGY</td>\n",
       "      <td>M5.1.2</td>\n",
       "      <td>Management Of Acute MI With Angiogram</td>\n",
       "      <td>Ward-26</td>\n",
       "      <td>Vijayawada</td>\n",
       "      <td>...</td>\n",
       "      <td>25000</td>\n",
       "      <td>OZONE HOSPITALS</td>\n",
       "      <td>C</td>\n",
       "      <td>HYDERABAD</td>\n",
       "      <td>Ranga Reddy</td>\n",
       "      <td>28/10/2014 00:00:00</td>\n",
       "      <td>06/11/2014 00:00:00</td>\n",
       "      <td>NO</td>\n",
       "      <td>NaN</td>\n",
       "      <td>D</td>\n",
       "    </tr>\n",
       "    <tr>\n",
       "      <th>58</th>\n",
       "      <td>59</td>\n",
       "      <td>17</td>\n",
       "      <td>Female</td>\n",
       "      <td>SC</td>\n",
       "      <td>S7</td>\n",
       "      <td>CARDIAC AND CARDIOTHORACIC SURGERY</td>\n",
       "      <td>S7.2.10.1</td>\n",
       "      <td>Mitral Valve Replacement (With Valve)</td>\n",
       "      <td>Atapaka</td>\n",
       "      <td>Kaikalur</td>\n",
       "      <td>...</td>\n",
       "      <td>135000</td>\n",
       "      <td>Karumuri Hospital</td>\n",
       "      <td>C</td>\n",
       "      <td>GUNTUR</td>\n",
       "      <td>Guntur</td>\n",
       "      <td>04/11/2014 00:00:00</td>\n",
       "      <td>12/11/2014 00:00:00</td>\n",
       "      <td>NO</td>\n",
       "      <td>NaN</td>\n",
       "      <td>D</td>\n",
       "    </tr>\n",
       "    <tr>\n",
       "      <th>97</th>\n",
       "      <td>98</td>\n",
       "      <td>75</td>\n",
       "      <td>Male</td>\n",
       "      <td>BC</td>\n",
       "      <td>M6</td>\n",
       "      <td>NEPHROLOGY</td>\n",
       "      <td>M6.5</td>\n",
       "      <td>Maintenance Hemodialysis For Crf</td>\n",
       "      <td>Ward-13</td>\n",
       "      <td>Vijayawada</td>\n",
       "      <td>...</td>\n",
       "      <td>10000</td>\n",
       "      <td>Andhra Health Diagnostic Services LimitedGloba...</td>\n",
       "      <td>C</td>\n",
       "      <td>VIJAYAWADA</td>\n",
       "      <td>Krishna</td>\n",
       "      <td>08/04/2015 00:00:00</td>\n",
       "      <td>NaN</td>\n",
       "      <td>YES</td>\n",
       "      <td>03/05/2015 00:00:00</td>\n",
       "      <td>P</td>\n",
       "    </tr>\n",
       "    <tr>\n",
       "      <th>111</th>\n",
       "      <td>112</td>\n",
       "      <td>65</td>\n",
       "      <td>Male</td>\n",
       "      <td>OC</td>\n",
       "      <td>M7</td>\n",
       "      <td>NEUROLOGY</td>\n",
       "      <td>M7.4</td>\n",
       "      <td>Medical Management of Ischemic Strokes</td>\n",
       "      <td>Chilakalapudi (R)</td>\n",
       "      <td>Machilipatnam</td>\n",
       "      <td>...</td>\n",
       "      <td>10000</td>\n",
       "      <td>Rims General Hospital</td>\n",
       "      <td>G</td>\n",
       "      <td>KADAPA</td>\n",
       "      <td>YSR Kadapa</td>\n",
       "      <td>28/05/2015 00:00:00</td>\n",
       "      <td>01/06/2015 00:00:00</td>\n",
       "      <td>NO</td>\n",
       "      <td>NaN</td>\n",
       "      <td>D</td>\n",
       "    </tr>\n",
       "  </tbody>\n",
       "</table>\n",
       "<p>5 rows × 24 columns</p>\n",
       "</div>"
      ],
      "text/plain": [
       "          AGE     SEX CASTE_NAME CATEGORY_CODE  \\\n",
       "30    31   42  Female         OC           S12   \n",
       "56    57   52    Male         BC            M5   \n",
       "58    59   17  Female         SC            S7   \n",
       "97    98   75    Male         BC            M6   \n",
       "111  112   65    Male         OC            M7   \n",
       "\n",
       "                          CATEGORY_NAME SURGERY_CODE  \\\n",
       "30                     MEDICAL ONCOLOGY     S12.26.1   \n",
       "56                           CARDIOLOGY       M5.1.2   \n",
       "58   CARDIAC AND CARDIOTHORACIC SURGERY    S7.2.10.1   \n",
       "97                           NEPHROLOGY         M6.5   \n",
       "111                           NEUROLOGY         M7.4   \n",
       "\n",
       "                                               SURGERY            VILLAGE  \\\n",
       "30   Chemotherapy for Acute Myeloid Leukemia with I...             Ward-1   \n",
       "56               Management Of Acute MI With Angiogram            Ward-26   \n",
       "58               Mitral Valve Replacement (With Valve)            Atapaka   \n",
       "97                    Maintenance Hemodialysis For Crf            Ward-13   \n",
       "111             Medical Management of Ischemic Strokes  Chilakalapudi (R)   \n",
       "\n",
       "       MANDAL_NAME  ... CLAIM_AMOUNT  \\\n",
       "30      Vijayawada  ...        60000   \n",
       "56      Vijayawada  ...        25000   \n",
       "58        Kaikalur  ...       135000   \n",
       "97      Vijayawada  ...        10000   \n",
       "111  Machilipatnam  ...        10000   \n",
       "\n",
       "                                             HOSP_NAME  HOSP_TYPE  \\\n",
       "30                                      Nims Hospitals          G   \n",
       "56                                     OZONE HOSPITALS          C   \n",
       "58                                   Karumuri Hospital          C   \n",
       "97   Andhra Health Diagnostic Services LimitedGloba...          C   \n",
       "111                              Rims General Hospital          G   \n",
       "\n",
       "    HOSP_LOCATION  HOSP_DISTRICT         SURGERY_DATE       DISCHARGE_DATE  \\\n",
       "30      HYDERABAD      Hyderabad  06/08/2014 00:00:00  01/09/2014 00:00:00   \n",
       "56      HYDERABAD    Ranga Reddy  28/10/2014 00:00:00  06/11/2014 00:00:00   \n",
       "58         GUNTUR         Guntur  04/11/2014 00:00:00  12/11/2014 00:00:00   \n",
       "97     VIJAYAWADA        Krishna  08/04/2015 00:00:00                  NaN   \n",
       "111        KADAPA     YSR Kadapa  28/05/2015 00:00:00  01/06/2015 00:00:00   \n",
       "\n",
       "    Mortality Y / N       MORTALITY_DATE SRC_REGISTRATION  \n",
       "30               NO                  NaN                D  \n",
       "56               NO                  NaN                D  \n",
       "58               NO                  NaN                D  \n",
       "97              YES  03/05/2015 00:00:00                P  \n",
       "111              NO                  NaN                D  \n",
       "\n",
       "[5 rows x 24 columns]"
      ]
     },
     "execution_count": 105,
     "metadata": {},
     "output_type": "execute_result"
    }
   ],
   "source": [
    "# subset involving only records of Krishna district\n",
    "data[data['DISTRICT_NAME']=='Krishna'].head()"
   ]
  },
  {
   "cell_type": "markdown",
   "metadata": {
    "_uuid": "9c242fd17479160f20a3a36f92f26d7998ea2b39"
   },
   "source": [
    "**Most prevalent surgery, district wise**\n",
    "\n",
    "Can be done by iterating through all the district names and selecting the subset of data for that district"
   ]
  },
  {
   "cell_type": "code",
   "execution_count": 25,
   "metadata": {
    "_kg_hide-input": false,
    "_uuid": "10eb76eebb7eb16a9540e7028f9bc01cab634a86"
   },
   "outputs": [
    {
     "name": "stdout",
     "output_type": "stream",
     "text": [
      "District: Srikakulam\n",
      "Disease and Count: Maintenance Hemodialysis For Crf    3970\n",
      "Name: SURGERY, dtype: int64\n",
      "District: Kurnool\n",
      "Disease and Count: Surgical Correction Of Longbone Fracture    2943\n",
      "Name: SURGERY, dtype: int64\n",
      "District: Vizianagaram\n",
      "Disease and Count: Surgical Correction Of Longbone Fracture    2754\n",
      "Name: SURGERY, dtype: int64\n",
      "District: Guntur\n",
      "Disease and Count: Surgical Correction Of Longbone Fracture    5259\n",
      "Name: SURGERY, dtype: int64\n",
      "District: Vishakhapatnam\n",
      "Disease and Count: Maintenance Hemodialysis For Crf    5270\n",
      "Name: SURGERY, dtype: int64\n",
      "District: West Godavari\n",
      "Disease and Count: Maintenance Hemodialysis For Crf    5478\n",
      "Name: SURGERY, dtype: int64\n",
      "District: Krishna\n",
      "Disease and Count: Maintenance Hemodialysis For Crf    6026\n",
      "Name: SURGERY, dtype: int64\n",
      "District: East Godavari\n",
      "Disease and Count: Surgical Correction Of Longbone Fracture    6998\n",
      "Name: SURGERY, dtype: int64\n",
      "District: Prakasam\n",
      "Disease and Count: Maintenance Hemodialysis For Crf    6215\n",
      "Name: SURGERY, dtype: int64\n",
      "District: Nellore\n",
      "Disease and Count: Maintenance Hemodialysis For Crf    10824\n",
      "Name: SURGERY, dtype: int64\n",
      "District: YSR Kadapa\n",
      "Disease and Count: Surgical Correction Of Longbone Fracture    4532\n",
      "Name: SURGERY, dtype: int64\n",
      "District: Chittoor\n",
      "Disease and Count: Maintenance Hemodialysis For Crf    5221\n",
      "Name: SURGERY, dtype: int64\n",
      "District: Anantapur\n",
      "Disease and Count: Surgical Correction Of Longbone Fracture    5265\n",
      "Name: SURGERY, dtype: int64\n"
     ]
    }
   ],
   "source": [
    "# Most common surgery by district\n",
    "for i in data['DISTRICT_NAME'].unique():\n",
    "    print(\"District: {}\\nDisease and Count: {}\".format(i,data[data['DISTRICT_NAME']==i]['SURGERY'].value_counts().head(1)))"
   ]
  },
  {
   "cell_type": "markdown",
   "metadata": {
    "_uuid": "1edf4c4e5ffe16a32ce01f87252fcecbbff4f2fb"
   },
   "source": [
    "We can observe that only two surgeries top all the districts: \n",
    "    * Dialysis (7 districts)\n",
    "    * Longbone Fracture (6 districts)"
   ]
  },
  {
   "cell_type": "markdown",
   "metadata": {
    "_uuid": "515f4c29401c3926da12f9a74bc355dadaa412f3"
   },
   "source": [
    "**Average claim amount, district wise**"
   ]
  },
  {
   "cell_type": "code",
   "execution_count": 26,
   "metadata": {
    "_uuid": "a9388061e6230b1d17901bd3a90c53e118e18ffd",
    "scrolled": true
   },
   "outputs": [
    {
     "name": "stdout",
     "output_type": "stream",
     "text": [
      "District: Srikakulam\n",
      "Average Claim Amount: ₹25593.712618634367\n",
      "District: Kurnool\n",
      "Average Claim Amount: ₹28598.91853309593\n",
      "District: Vizianagaram\n",
      "Average Claim Amount: ₹25097.78006899492\n",
      "District: Guntur\n",
      "Average Claim Amount: ₹31048.73950729927\n",
      "District: Vishakhapatnam\n",
      "Average Claim Amount: ₹25977.94638304871\n",
      "District: West Godavari\n",
      "Average Claim Amount: ₹27936.70608610806\n",
      "District: Krishna\n",
      "Average Claim Amount: ₹31015.383233247547\n",
      "District: East Godavari\n",
      "Average Claim Amount: ₹26166.136719737173\n",
      "District: Prakasam\n",
      "Average Claim Amount: ₹28655.81036215859\n",
      "District: Nellore\n",
      "Average Claim Amount: ₹26105.122376744654\n",
      "District: YSR Kadapa\n",
      "Average Claim Amount: ₹27945.216899192998\n",
      "District: Chittoor\n",
      "Average Claim Amount: ₹25708.102690948628\n",
      "District: Anantapur\n",
      "Average Claim Amount: ₹27664.166978581827\n"
     ]
    }
   ],
   "source": [
    "# Average claim amount for surgery by district\n",
    "for i in data['DISTRICT_NAME'].unique():\n",
    "    print(\"District: {}\\nAverage Claim Amount: ₹{}\".format(i,data[data['DISTRICT_NAME']==i]['CLAIM_AMOUNT'].mean()))"
   ]
  },
  {
   "cell_type": "markdown",
   "metadata": {
    "_uuid": "14390a8e64a68ef435bc2c5b0e8a0e7127c7de75"
   },
   "source": [
    "The standard deviation doesn't seem to be quite high in this case. Guntur district leads the pack with ₹31048 while Vizianagaram comes last with ₹25097"
   ]
  },
  {
   "cell_type": "markdown",
   "metadata": {
    "_uuid": "0b41795fc91b7eb47b5a3c17a13bec8815fdde74"
   },
   "source": [
    "**Statistics by surgery category**\n",
    "\n",
    "We will be using the Pandas GroupBy construct to gather statistics by grouping data by the surgery category.  The groupby of Pandas works similar to the SQL command of the same name"
   ]
  },
  {
   "cell_type": "code",
   "execution_count": 27,
   "metadata": {
    "_uuid": "017c61dd85a6157ccd2eca1e362220da917b5abd"
   },
   "outputs": [
    {
     "data": {
      "text/html": [
       "<div>\n",
       "<style scoped>\n",
       "    .dataframe tbody tr th:only-of-type {\n",
       "        vertical-align: middle;\n",
       "    }\n",
       "\n",
       "    .dataframe tbody tr th {\n",
       "        vertical-align: top;\n",
       "    }\n",
       "\n",
       "    .dataframe thead th {\n",
       "        text-align: right;\n",
       "    }\n",
       "</style>\n",
       "<table border=\"1\" class=\"dataframe\">\n",
       "  <thead>\n",
       "    <tr style=\"text-align: right;\">\n",
       "      <th></th>\n",
       "      <th></th>\n",
       "      <th>AGE</th>\n",
       "      <th>PREAUTH_AMT</th>\n",
       "      <th>CLAIM_AMOUNT</th>\n",
       "    </tr>\n",
       "    <tr>\n",
       "      <th>CATEGORY_NAME</th>\n",
       "      <th></th>\n",
       "      <th></th>\n",
       "      <th></th>\n",
       "      <th></th>\n",
       "    </tr>\n",
       "  </thead>\n",
       "  <tbody>\n",
       "    <tr>\n",
       "      <th>CARDIAC AND CARDIOTHORACIC SURGERY</th>\n",
       "      <td>220433.263365</td>\n",
       "      <td>51.764553</td>\n",
       "      <td>87052.165471</td>\n",
       "      <td>82487.123074</td>\n",
       "    </tr>\n",
       "    <tr>\n",
       "      <th>CARDIOLOGY</th>\n",
       "      <td>222494.427828</td>\n",
       "      <td>54.652048</td>\n",
       "      <td>33215.140211</td>\n",
       "      <td>26731.893660</td>\n",
       "    </tr>\n",
       "    <tr>\n",
       "      <th>COCHLEAR IMPLANT SURGERY</th>\n",
       "      <td>64429.337838</td>\n",
       "      <td>1.581081</td>\n",
       "      <td>520000.000000</td>\n",
       "      <td>516486.486486</td>\n",
       "    </tr>\n",
       "    <tr>\n",
       "      <th>CRITICAL CARE</th>\n",
       "      <td>225189.278328</td>\n",
       "      <td>51.014649</td>\n",
       "      <td>69927.226196</td>\n",
       "      <td>50185.150797</td>\n",
       "    </tr>\n",
       "    <tr>\n",
       "      <th>DERMATOLOGY</th>\n",
       "      <td>145752.231707</td>\n",
       "      <td>46.573171</td>\n",
       "      <td>28003.012195</td>\n",
       "      <td>21728.353659</td>\n",
       "    </tr>\n",
       "    <tr>\n",
       "      <th>ENDOCRINOLOGY</th>\n",
       "      <td>173188.782353</td>\n",
       "      <td>45.066667</td>\n",
       "      <td>18981.376471</td>\n",
       "      <td>14875.437255</td>\n",
       "    </tr>\n",
       "    <tr>\n",
       "      <th>ENT  SURGERY</th>\n",
       "      <td>248911.441121</td>\n",
       "      <td>32.521940</td>\n",
       "      <td>15691.907198</td>\n",
       "      <td>14938.095612</td>\n",
       "    </tr>\n",
       "    <tr>\n",
       "      <th>GASTROENTEROLOGY</th>\n",
       "      <td>169310.423028</td>\n",
       "      <td>41.662383</td>\n",
       "      <td>37085.464601</td>\n",
       "      <td>23798.118922</td>\n",
       "    </tr>\n",
       "    <tr>\n",
       "      <th>GENERAL MEDICINE</th>\n",
       "      <td>116546.798682</td>\n",
       "      <td>35.330161</td>\n",
       "      <td>30347.573939</td>\n",
       "      <td>21840.991215</td>\n",
       "    </tr>\n",
       "    <tr>\n",
       "      <th>GENERAL SURGERY</th>\n",
       "      <td>235830.565758</td>\n",
       "      <td>44.979473</td>\n",
       "      <td>29818.585421</td>\n",
       "      <td>28142.764203</td>\n",
       "    </tr>\n",
       "    <tr>\n",
       "      <th>GENITO URINARY SURGERIES</th>\n",
       "      <td>284262.259268</td>\n",
       "      <td>43.718295</td>\n",
       "      <td>29426.211532</td>\n",
       "      <td>28709.646344</td>\n",
       "    </tr>\n",
       "    <tr>\n",
       "      <th>GYNAECOLOGY AND OBSTETRICS  SURGERY</th>\n",
       "      <td>201418.690508</td>\n",
       "      <td>41.442323</td>\n",
       "      <td>27614.600699</td>\n",
       "      <td>23180.202474</td>\n",
       "    </tr>\n",
       "    <tr>\n",
       "      <th>INFECTIOUS DISEASES</th>\n",
       "      <td>249988.600000</td>\n",
       "      <td>35.800000</td>\n",
       "      <td>27970.000000</td>\n",
       "      <td>24336.000000</td>\n",
       "    </tr>\n",
       "    <tr>\n",
       "      <th>MEDICAL ONCOLOGY</th>\n",
       "      <td>280490.133228</td>\n",
       "      <td>48.545298</td>\n",
       "      <td>7234.080290</td>\n",
       "      <td>6819.998475</td>\n",
       "    </tr>\n",
       "    <tr>\n",
       "      <th>NEPHROLOGY</th>\n",
       "      <td>203077.300279</td>\n",
       "      <td>48.011808</td>\n",
       "      <td>14309.566173</td>\n",
       "      <td>13524.963628</td>\n",
       "    </tr>\n",
       "    <tr>\n",
       "      <th>NEUROLOGY</th>\n",
       "      <td>178986.230597</td>\n",
       "      <td>56.160018</td>\n",
       "      <td>24547.013248</td>\n",
       "      <td>19810.427139</td>\n",
       "    </tr>\n",
       "    <tr>\n",
       "      <th>NEUROSURGERY</th>\n",
       "      <td>238563.168178</td>\n",
       "      <td>43.187689</td>\n",
       "      <td>53718.705139</td>\n",
       "      <td>49993.359806</td>\n",
       "    </tr>\n",
       "    <tr>\n",
       "      <th>OPHTHALMOLOGY  SURGERY</th>\n",
       "      <td>294652.070318</td>\n",
       "      <td>49.846924</td>\n",
       "      <td>16474.566599</td>\n",
       "      <td>15848.563286</td>\n",
       "    </tr>\n",
       "    <tr>\n",
       "      <th>ORTHOPEDIC  SURGERY AND PROCEDURES</th>\n",
       "      <td>222855.005323</td>\n",
       "      <td>36.967490</td>\n",
       "      <td>27358.743536</td>\n",
       "      <td>23291.952598</td>\n",
       "    </tr>\n",
       "    <tr>\n",
       "      <th>PEDIATRIC SURGERIES</th>\n",
       "      <td>229981.847773</td>\n",
       "      <td>3.504840</td>\n",
       "      <td>34134.385044</td>\n",
       "      <td>32061.504598</td>\n",
       "    </tr>\n",
       "    <tr>\n",
       "      <th>PEDIATRICS</th>\n",
       "      <td>195086.758737</td>\n",
       "      <td>1.413553</td>\n",
       "      <td>29797.617781</td>\n",
       "      <td>24837.604014</td>\n",
       "    </tr>\n",
       "    <tr>\n",
       "      <th>PLASTIC SURGERY</th>\n",
       "      <td>198123.497622</td>\n",
       "      <td>27.419738</td>\n",
       "      <td>61115.505351</td>\n",
       "      <td>37437.164090</td>\n",
       "    </tr>\n",
       "    <tr>\n",
       "      <th>POLY TRAUMA</th>\n",
       "      <td>261038.321653</td>\n",
       "      <td>46.256150</td>\n",
       "      <td>32501.263044</td>\n",
       "      <td>28247.750837</td>\n",
       "    </tr>\n",
       "    <tr>\n",
       "      <th>PROSTHESES</th>\n",
       "      <td>125094.500000</td>\n",
       "      <td>48.500000</td>\n",
       "      <td>1200.000000</td>\n",
       "      <td>1200.000000</td>\n",
       "    </tr>\n",
       "    <tr>\n",
       "      <th>PULMONOLOGY</th>\n",
       "      <td>190774.119006</td>\n",
       "      <td>51.937149</td>\n",
       "      <td>32743.249244</td>\n",
       "      <td>25631.090065</td>\n",
       "    </tr>\n",
       "    <tr>\n",
       "      <th>RADIATION ONCOLOGY</th>\n",
       "      <td>242472.234006</td>\n",
       "      <td>51.835382</td>\n",
       "      <td>33656.716935</td>\n",
       "      <td>31808.693718</td>\n",
       "    </tr>\n",
       "    <tr>\n",
       "      <th>RHEUMATOLOGY</th>\n",
       "      <td>129326.780612</td>\n",
       "      <td>29.392857</td>\n",
       "      <td>28897.321429</td>\n",
       "      <td>20852.372449</td>\n",
       "    </tr>\n",
       "    <tr>\n",
       "      <th>SURGICAL GASTRO ENTEROLOGY</th>\n",
       "      <td>217841.149146</td>\n",
       "      <td>44.645103</td>\n",
       "      <td>64127.925427</td>\n",
       "      <td>59249.639712</td>\n",
       "    </tr>\n",
       "    <tr>\n",
       "      <th>SURGICAL ONCOLOGY</th>\n",
       "      <td>255125.222719</td>\n",
       "      <td>50.940826</td>\n",
       "      <td>45243.913335</td>\n",
       "      <td>42502.467151</td>\n",
       "    </tr>\n",
       "  </tbody>\n",
       "</table>\n",
       "</div>"
      ],
      "text/plain": [
       "                                                          AGE    PREAUTH_AMT  \\\n",
       "CATEGORY_NAME                                                                  \n",
       "CARDIAC AND CARDIOTHORACIC SURGERY   220433.263365  51.764553   87052.165471   \n",
       "CARDIOLOGY                           222494.427828  54.652048   33215.140211   \n",
       "COCHLEAR IMPLANT SURGERY              64429.337838   1.581081  520000.000000   \n",
       "CRITICAL CARE                        225189.278328  51.014649   69927.226196   \n",
       "DERMATOLOGY                          145752.231707  46.573171   28003.012195   \n",
       "ENDOCRINOLOGY                        173188.782353  45.066667   18981.376471   \n",
       "ENT  SURGERY                         248911.441121  32.521940   15691.907198   \n",
       "GASTROENTEROLOGY                     169310.423028  41.662383   37085.464601   \n",
       "GENERAL MEDICINE                     116546.798682  35.330161   30347.573939   \n",
       "GENERAL SURGERY                      235830.565758  44.979473   29818.585421   \n",
       "GENITO URINARY SURGERIES             284262.259268  43.718295   29426.211532   \n",
       "GYNAECOLOGY AND OBSTETRICS  SURGERY  201418.690508  41.442323   27614.600699   \n",
       "INFECTIOUS DISEASES                  249988.600000  35.800000   27970.000000   \n",
       "MEDICAL ONCOLOGY                     280490.133228  48.545298    7234.080290   \n",
       "NEPHROLOGY                           203077.300279  48.011808   14309.566173   \n",
       "NEUROLOGY                            178986.230597  56.160018   24547.013248   \n",
       "NEUROSURGERY                         238563.168178  43.187689   53718.705139   \n",
       "OPHTHALMOLOGY  SURGERY               294652.070318  49.846924   16474.566599   \n",
       "ORTHOPEDIC  SURGERY AND PROCEDURES   222855.005323  36.967490   27358.743536   \n",
       "PEDIATRIC SURGERIES                  229981.847773   3.504840   34134.385044   \n",
       "PEDIATRICS                           195086.758737   1.413553   29797.617781   \n",
       "PLASTIC SURGERY                      198123.497622  27.419738   61115.505351   \n",
       "POLY TRAUMA                          261038.321653  46.256150   32501.263044   \n",
       "PROSTHESES                           125094.500000  48.500000    1200.000000   \n",
       "PULMONOLOGY                          190774.119006  51.937149   32743.249244   \n",
       "RADIATION ONCOLOGY                   242472.234006  51.835382   33656.716935   \n",
       "RHEUMATOLOGY                         129326.780612  29.392857   28897.321429   \n",
       "SURGICAL GASTRO ENTEROLOGY           217841.149146  44.645103   64127.925427   \n",
       "SURGICAL ONCOLOGY                    255125.222719  50.940826   45243.913335   \n",
       "\n",
       "                                      CLAIM_AMOUNT  \n",
       "CATEGORY_NAME                                       \n",
       "CARDIAC AND CARDIOTHORACIC SURGERY    82487.123074  \n",
       "CARDIOLOGY                            26731.893660  \n",
       "COCHLEAR IMPLANT SURGERY             516486.486486  \n",
       "CRITICAL CARE                         50185.150797  \n",
       "DERMATOLOGY                           21728.353659  \n",
       "ENDOCRINOLOGY                         14875.437255  \n",
       "ENT  SURGERY                          14938.095612  \n",
       "GASTROENTEROLOGY                      23798.118922  \n",
       "GENERAL MEDICINE                      21840.991215  \n",
       "GENERAL SURGERY                       28142.764203  \n",
       "GENITO URINARY SURGERIES              28709.646344  \n",
       "GYNAECOLOGY AND OBSTETRICS  SURGERY   23180.202474  \n",
       "INFECTIOUS DISEASES                   24336.000000  \n",
       "MEDICAL ONCOLOGY                       6819.998475  \n",
       "NEPHROLOGY                            13524.963628  \n",
       "NEUROLOGY                             19810.427139  \n",
       "NEUROSURGERY                          49993.359806  \n",
       "OPHTHALMOLOGY  SURGERY                15848.563286  \n",
       "ORTHOPEDIC  SURGERY AND PROCEDURES    23291.952598  \n",
       "PEDIATRIC SURGERIES                   32061.504598  \n",
       "PEDIATRICS                            24837.604014  \n",
       "PLASTIC SURGERY                       37437.164090  \n",
       "POLY TRAUMA                           28247.750837  \n",
       "PROSTHESES                             1200.000000  \n",
       "PULMONOLOGY                           25631.090065  \n",
       "RADIATION ONCOLOGY                    31808.693718  \n",
       "RHEUMATOLOGY                          20852.372449  \n",
       "SURGICAL GASTRO ENTEROLOGY            59249.639712  \n",
       "SURGICAL ONCOLOGY                     42502.467151  "
      ]
     },
     "execution_count": 27,
     "metadata": {},
     "output_type": "execute_result"
    }
   ],
   "source": [
    "# group by surgery category to get mean statistics\n",
    "data.groupby('CATEGORY_NAME').mean()"
   ]
  },
  {
   "cell_type": "markdown",
   "metadata": {
    "_uuid": "470cdfbcf914cc518d1525c384be7895436bb2e4"
   },
   "source": [
    "Cochlear Implant Surgery seems to be the costliest surgery, costing ₹520000 on average. Prostheses costs ₹1200, the cheapest. The youngest age group also happens to be for Cochlear Implant Surgery: 1.58 years, while Neurology has an average patient age of ~56."
   ]
  },
  {
   "cell_type": "markdown",
   "metadata": {
    "_uuid": "7010a66455e53939062a0530a3468eca2cf003d0"
   },
   "source": [
    "**Most common surgery by age group**\n",
    "\n",
    "To find the most common surgery by age group, let's round off the ages to the nearest ten's place. Make a copy of the dataframe for this operation as we would not want to tinker with the original dataframe."
   ]
  },
  {
   "cell_type": "code",
   "execution_count": 28,
   "metadata": {
    "_uuid": "87545ae3eb1a4a4221e741037d57eb4603bc45f2"
   },
   "outputs": [],
   "source": [
    "# create a new memory copy of data to manipulate age \n",
    "dataround = data.copy()"
   ]
  },
  {
   "cell_type": "markdown",
   "metadata": {
    "_uuid": "299226d237b866bebee79abf06173393e09eb1c7"
   },
   "source": [
    "We will use the Pandas round function to round off the Age. *-1* specifies that we round up one digit to the left of the decimal place"
   ]
  },
  {
   "cell_type": "code",
   "execution_count": 29,
   "metadata": {
    "_uuid": "ad4f2cc897cbbab1f682ed2f36d9b77abc41527b"
   },
   "outputs": [],
   "source": [
    "# round the age variable to 0 or 1 (nearest)\n",
    "dataround['AGE'] = dataround['AGE'].round(-1)"
   ]
  },
  {
   "cell_type": "markdown",
   "metadata": {
    "_uuid": "cf785a57d4529ab715db2a7cd1973e35249850d1"
   },
   "source": [
    "visualizing the age groups using seaborn's countplot function"
   ]
  },
  {
   "cell_type": "code",
   "execution_count": 31,
   "metadata": {
    "_uuid": "5cc771e7f23696b1c097ac749d2a41458d06234b"
   },
   "outputs": [
    {
     "data": {
      "text/plain": [
       "<AxesSubplot:xlabel='AGE', ylabel='count'>"
      ]
     },
     "execution_count": 31,
     "metadata": {},
     "output_type": "execute_result"
    },
    {
     "data": {
      "image/png": "[encoded data removed]",
      "text/plain": [
       "<Figure size 432x288 with 1 Axes>"
      ]
     },
     "metadata": {
      "needs_background": "light"
     },
     "output_type": "display_data"
    }
   ],
   "source": [
    "# a frequency plot for each age group\n",
    "sns.countplot(x=dataround['AGE'])"
   ]
  },
  {
   "cell_type": "markdown",
   "metadata": {
    "_uuid": "293cbab7ccc792be8215b052624d7b6c4355efa4"
   },
   "source": [
    "**Most common surgery per age group**"
   ]
  },
  {
   "cell_type": "code",
   "execution_count": 32,
   "metadata": {
    "_uuid": "89fa2bca7a6b8ecdd54f295e14840079be8888d1"
   },
   "outputs": [
    {
     "name": "stdout",
     "output_type": "stream",
     "text": [
      "Age Group: 0\n",
      "Most Common Surgery and Count: PEDIATRICS    15096\n",
      "Name: CATEGORY_NAME, dtype: int64\n",
      "Age Group: 10\n",
      "Most Common Surgery and Count: POLY TRAUMA    390\n",
      "Name: CATEGORY_NAME, dtype: int64\n",
      "Age Group: 20\n",
      "Most Common Surgery and Count: POLY TRAUMA    729\n",
      "Name: CATEGORY_NAME, dtype: int64\n",
      "Age Group: 30\n",
      "Most Common Surgery and Count: POLY TRAUMA    1125\n",
      "Name: CATEGORY_NAME, dtype: int64\n",
      "Age Group: 40\n",
      "Most Common Surgery and Count: MEDICAL ONCOLOGY    2425\n",
      "Name: CATEGORY_NAME, dtype: int64\n",
      "Age Group: 50\n",
      "Most Common Surgery and Count: MEDICAL ONCOLOGY    3171\n",
      "Name: CATEGORY_NAME, dtype: int64\n",
      "Age Group: 60\n",
      "Most Common Surgery and Count: MEDICAL ONCOLOGY    2447\n",
      "Name: CATEGORY_NAME, dtype: int64\n",
      "Age Group: 70\n",
      "Most Common Surgery and Count: POLY TRAUMA    1845\n",
      "Name: CATEGORY_NAME, dtype: int64\n",
      "Age Group: 80\n",
      "Most Common Surgery and Count: POLY TRAUMA    584\n",
      "Name: CATEGORY_NAME, dtype: int64\n",
      "Age Group: 90\n",
      "Most Common Surgery and Count: POLY TRAUMA    67\n",
      "Name: CATEGORY_NAME, dtype: int64\n",
      "Age Group: 100\n",
      "Most Common Surgery and Count: POLY TRAUMA    1\n",
      "Name: CATEGORY_NAME, dtype: int64\n",
      "Age Group: 110\n",
      "Most Common Surgery and Count: Series([], Name: CATEGORY_NAME, dtype: int64)\n"
     ]
    }
   ],
   "source": [
    "# Most common surgery and count per age group\n",
    "for i in sorted(dataround['AGE'].unique()):\n",
    "    print(\"Age Group: {}\\nMost Common Surgery and Count: {}\".format(i,data[data['AGE']==i]['CATEGORY_NAME'].value_counts().head(1)))"
   ]
  },
  {
   "cell_type": "markdown",
   "metadata": {
    "_uuid": "8667c005b718c28b4dbf79add351bad8ddb6bca6"
   },
   "source": [
    "## Practise Exercises\n",
    "\n",
    "Feeling adventerous? Fork this notebook and solve the following challenges to get some practise!"
   ]
  },
  {
   "cell_type": "markdown",
   "metadata": {
    "_uuid": "5cdf389928501dc9cb490cc1dffcfa3bda6c7220"
   },
   "source": [
    "**Value counts of districts**"
   ]
  },
  {
   "cell_type": "code",
   "execution_count": null,
   "metadata": {
    "_uuid": "454eddd91498a611784c58f39a620e0ae76b0847"
   },
   "outputs": [],
   "source": []
  },
  {
   "cell_type": "markdown",
   "metadata": {
    "_uuid": "297d9249d4ed9383cdda2be2e528538f7ca3f54a"
   },
   "source": [
    "**Average claim amount for male patients**"
   ]
  },
  {
   "cell_type": "code",
   "execution_count": null,
   "metadata": {
    "_uuid": "73cce59724c9a9147fc5917264d45fa2e3d9f6a6"
   },
   "outputs": [],
   "source": []
  },
  {
   "cell_type": "markdown",
   "metadata": {
    "_uuid": "c56b1c322400a557492f2abcde42048fae357b3f"
   },
   "source": [
    "**Most common hospital names for treatment**"
   ]
  },
  {
   "cell_type": "code",
   "execution_count": null,
   "metadata": {
    "_uuid": "a640c071e4f5a7db0249674ea1240af26e1a3237"
   },
   "outputs": [],
   "source": []
  },
  {
   "cell_type": "markdown",
   "metadata": {
    "_uuid": "e70fd88ca33ce86eefaa22879ffaeaa7020aa613"
   },
   "source": [
    "**Most common age groups  by district** (hint: use dataround)"
   ]
  },
  {
   "cell_type": "code",
   "execution_count": null,
   "metadata": {
    "_uuid": "97d0b8428c9a70df1543c5182840d97a44796713"
   },
   "outputs": [],
   "source": []
  },
  {
   "cell_type": "markdown",
   "metadata": {
    "_uuid": "3771d1d3d0dfac109f33c6788f2b63aacce1308f"
   },
   "source": [
    "**Add your own questions here!**"
   ]
  },
  {
   "cell_type": "code",
   "execution_count": null,
   "metadata": {
    "_uuid": "472909464bdfe58e1a75538b8164eb402e88aaaf"
   },
   "outputs": [],
   "source": []
  },
  {
   "cell_type": "markdown",
   "metadata": {
    "_uuid": "81a24721550c8e80591556b0f3c980be7126dbc5"
   },
   "source": [
    "## The End"
   ]
  },
  {
   "cell_type": "markdown",
   "metadata": {
    "_uuid": "8fcda9aec50cd669784004a0083770b8ebd27ce2"
   },
   "source": [
    "You've reached the end of the notebook. Congratulations!\n",
    "\n",
    "I really hope you learnt something and enjoyed going through this notebook. If yes, please upvote and share the notebook!\n",
    "\n",
    "Feedback? Corrections? Applause? Please comment below! \n",
    "\n",
    "This is my first public educative kernel. I hope my performance improves over epochs!\n"
   ]
  },
  {
   "cell_type": "code",
   "execution_count": null,
   "metadata": {},
   "outputs": [],
   "source": []
  },
  {
   "cell_type": "markdown",
   "metadata": {},
   "source": [
    "### Anomalías\n",
    "Fuente: https://towardsdatascience.com/5-ways-to-detect-outliers-that-every-data-scientist-should-know-python-code-70a54335a623"
   ]
  },
  {
   "cell_type": "markdown",
   "metadata": {},
   "source": [
    "#### Con función (no se si no es demasiado complejo)"
   ]
  },
  {
   "cell_type": "code",
   "execution_count": null,
   "metadata": {},
   "outputs": [],
   "source": [
    "import numpy as np\n",
    "import matplotlib.pyplot as plt\n",
    "\n",
    "np.random.seed(seed=1)\n",
    "\n",
    "# Creamos set random de datos\n",
    "data = np.random.randn(50000) * 20 + 20"
   ]
  },
  {
   "cell_type": "code",
   "execution_count": 87,
   "metadata": {},
   "outputs": [
    {
     "name": "stdout",
     "output_type": "stream",
     "text": [
      "20.013530816925808\n",
      "20.07576979467771\n"
     ]
    },
    {
     "data": {
      "text/plain": [
       "[80.61714224744061,\n",
       " 99.17205408075927,\n",
       " 86.4215751234073,\n",
       " -41.0752876085261,\n",
       " -43.06714900382097,\n",
       " -40.32063970418597,\n",
       " 88.65326863591119,\n",
       " -41.28282712210201,\n",
       " 94.80497807409178,\n",
       " 82.70094680175814,\n",
       " 84.76686393504752,\n",
       " -45.06068469953237,\n",
       " 82.64059456281011,\n",
       " 80.25509136474466,\n",
       " -43.81232693648161,\n",
       " -45.21230191553079,\n",
       " 88.08604551497943,\n",
       " 82.369591815651,\n",
       " 85.9708104656157,\n",
       " 82.97968050439259,\n",
       " -45.8971681339703,\n",
       " -41.11266480828613,\n",
       " 100.53698089094755,\n",
       " -44.38264211247683,\n",
       " 82.23783662033449,\n",
       " 92.26554014166295,\n",
       " 87.96231313004853,\n",
       " 91.21746641411097,\n",
       " -53.128801985095905,\n",
       " -45.641575926212354,\n",
       " 91.21225295344836,\n",
       " -43.46923274683489,\n",
       " 82.13498657145581,\n",
       " 82.90737927394908,\n",
       " -46.216851244091984,\n",
       " -41.9565310384887,\n",
       " -45.6065519410858,\n",
       " 80.5243698860871,\n",
       " -43.30420249353775,\n",
       " -42.25263324372853,\n",
       " 81.59215546151304,\n",
       " 103.36235355910189,\n",
       " 96.68762041821407,\n",
       " -40.586879558462776,\n",
       " -48.71851620008829,\n",
       " -45.18412137279293,\n",
       " 81.54158108441533,\n",
       " 84.5587224070789,\n",
       " -40.7688517191754,\n",
       " -44.08128900692253,\n",
       " -42.043297873881315,\n",
       " 87.71430311862296,\n",
       " 88.9391203157937,\n",
       " -40.52113314693459,\n",
       " -49.02805812510347,\n",
       " 86.72050502651298,\n",
       " -44.452278374625166,\n",
       " -58.55028132123577,\n",
       " 87.83885146048503,\n",
       " -41.810065776968784,\n",
       " -42.38237155225082,\n",
       " 91.19937116220078,\n",
       " 93.19531683513023,\n",
       " -41.0172829464469,\n",
       " 82.94710559091223,\n",
       " 86.8410257826826,\n",
       " -47.358945718270846,\n",
       " -47.27471768342224,\n",
       " -44.05283959700523,\n",
       " 81.39224116690686,\n",
       " -64.66329594864382,\n",
       " -41.91924535511986,\n",
       " 86.98293402121955,\n",
       " -42.78324538163221,\n",
       " -43.44070544512959,\n",
       " 83.14254869231635,\n",
       " 80.29722046012112,\n",
       " 80.97664481662183,\n",
       " -49.135306899574985,\n",
       " 90.95359817188209,\n",
       " 85.7504914101956,\n",
       " 90.63353726783707,\n",
       " -52.25624570621119,\n",
       " -48.427273980448774,\n",
       " 92.45148786479089,\n",
       " -40.60136533430394,\n",
       " 90.66197938200516,\n",
       " -40.652000332079666,\n",
       " 85.47272253055641,\n",
       " -40.59878231029168,\n",
       " -53.957837173283735,\n",
       " -40.80036485428288,\n",
       " 82.4740392321337,\n",
       " 82.69560613707037,\n",
       " -46.18148126636443,\n",
       " 86.9908487614501,\n",
       " 80.1457297060347,\n",
       " 82.24721888631221,\n",
       " -45.832275955612076,\n",
       " 84.176266941649,\n",
       " 84.4193809675114,\n",
       " -48.12080165824392,\n",
       " -47.66016305888587,\n",
       " 83.03299706691035,\n",
       " -46.34572895708007,\n",
       " -43.94127801481702,\n",
       " -44.888893484963376,\n",
       " 82.73490952329395,\n",
       " 83.57335544403156,\n",
       " 80.7727413101268,\n",
       " -52.50413207267792,\n",
       " -49.69745467233162,\n",
       " 80.22051938742219,\n",
       " -61.76977168084022,\n",
       " -41.57467213920625,\n",
       " -58.86284640187061,\n",
       " -51.197383857166216,\n",
       " -56.11928395638613,\n",
       " -48.85042290718998,\n",
       " -52.64159591899764,\n",
       " -40.858015925037485,\n",
       " 90.00512514161373,\n",
       " -44.150803760611865,\n",
       " 81.0757508416524,\n",
       " 88.42082610751223,\n",
       " -48.97515466922074,\n",
       " -41.87410601743178,\n",
       " 81.91272478059072,\n",
       " 84.69303765209298,\n",
       " -40.93984641793596,\n",
       " -52.615615036883995,\n",
       " -49.39834453038375,\n",
       " 84.48319182306491,\n",
       " 80.41393381216217,\n",
       " 89.04319371214211,\n",
       " 83.11545348720793,\n",
       " 86.3948526034166,\n",
       " -54.34260433053814,\n",
       " -53.884089553553295,\n",
       " -60.83360878272147,\n",
       " -45.502951473453436,\n",
       " -42.84117089742673]"
      ]
     },
     "execution_count": 87,
     "metadata": {},
     "output_type": "execute_result"
    },
    {
     "data": {
      "image/png": "[encoded data removed]",
      "text/plain": [
       "<Figure size 432x288 with 1 Axes>"
      ]
     },
     "metadata": {
      "needs_background": "light"
     },
     "output_type": "display_data"
    }
   ],
   "source": [
    "# Función para detectar outliers en un dataset unidimensional\n",
    "def find_anomalies(data):\n",
    "    #Definimos lista para acumular anomalias\n",
    "    anomalies = []\n",
    "    # Definimos limites +- 3 desvios\n",
    "    random_data_std = np.std(data)\n",
    "    random_data_mean = np.mean(data)\n",
    "    anomaly_cut_off = random_data_std * 3\n",
    "    print(random_data_std)\n",
    "    print(random_data_mean)\n",
    "    lower_limit  = random_data_mean - anomaly_cut_off \n",
    "    upper_limit = random_data_mean + anomaly_cut_off\n",
    "#     plt.plot (data)\n",
    "#     plt.fill_between(range(6),lower_limit,upper_limit,alpha=.1)\n",
    "    sns.lineplot(data=data)\n",
    "    # Generamos ouliers\n",
    "    for outlier in data:\n",
    "        if outlier > upper_limit or outlier < lower_limit:\n",
    "            anomalies.append(outlier)\n",
    "    return anomalies\n",
    "\n",
    "find_anomalies(data)"
   ]
  },
  {
   "cell_type": "code",
   "execution_count": 83,
   "metadata": {},
   "outputs": [
    {
     "ename": "NameError",
     "evalue": "name 'lower_limit' is not defined",
     "output_type": "error",
     "traceback": [
      "\u001b[0;31m---------------------------------------------------------------------------\u001b[0m",
      "\u001b[0;31mNameError\u001b[0m                                 Traceback (most recent call last)",
      "\u001b[0;32m<ipython-input-83-5e8ef85eb8c7>\u001b[0m in \u001b[0;36m<module>\u001b[0;34m\u001b[0m\n\u001b[1;32m      1\u001b[0m \u001b[0mplt\u001b[0m\u001b[0;34m.\u001b[0m\u001b[0mplot\u001b[0m \u001b[0;34m(\u001b[0m\u001b[0mdata\u001b[0m\u001b[0;34m)\u001b[0m\u001b[0;34m\u001b[0m\u001b[0;34m\u001b[0m\u001b[0m\n\u001b[0;32m----> 2\u001b[0;31m \u001b[0mplt\u001b[0m\u001b[0;34m.\u001b[0m\u001b[0mfill_between\u001b[0m\u001b[0;34m(\u001b[0m\u001b[0mrange\u001b[0m\u001b[0;34m(\u001b[0m\u001b[0;36m6\u001b[0m\u001b[0;34m)\u001b[0m\u001b[0;34m,\u001b[0m\u001b[0mlower_limit\u001b[0m\u001b[0;34m,\u001b[0m\u001b[0mupper_limit\u001b[0m\u001b[0;34m,\u001b[0m\u001b[0malpha\u001b[0m\u001b[0;34m=\u001b[0m\u001b[0;36m.1\u001b[0m\u001b[0;34m)\u001b[0m\u001b[0;34m\u001b[0m\u001b[0;34m\u001b[0m\u001b[0m\n\u001b[0m",
      "\u001b[0;31mNameError\u001b[0m: name 'lower_limit' is not defined"
     ]
    },
    {
     "data": {
      "image/png": "[encoded data removed]",
      "text/plain": [
       "<Figure size 432x288 with 1 Axes>"
      ]
     },
     "metadata": {
      "needs_background": "light"
     },
     "output_type": "display_data"
    }
   ],
   "source": [
    "plt.plot (data)\n",
    "plt.fill_between(range(6),lower_limit,upper_limit,alpha=.1)"
   ]
  },
  {
   "cell_type": "markdown",
   "metadata": {},
   "source": [
    "### Graficamente (más sencillo)"
   ]
  },
  {
   "cell_type": "code",
   "execution_count": 119,
   "metadata": {
    "scrolled": true
   },
   "outputs": [
    {
     "data": {
      "text/plain": [
       "<AxesSubplot:xlabel='AGE', ylabel='CLAIM_AMOUNT'>"
      ]
     },
     "execution_count": 119,
     "metadata": {},
     "output_type": "execute_result"
    },
    {
     "data": {
      "image/png": "[encoded data removed]",
      "text/plain": [
       "<Figure size 1440x432 with 1 Axes>"
      ]
     },
     "metadata": {
      "needs_background": "light"
     },
     "output_type": "display_data"
    }
   ],
   "source": [
    "plt.figure(figsize=(20, 6))\n",
    "sns.lineplot(data=data, x=\"AGE\", y=\"CLAIM_AMOUNT\", ci=95, hue=\"Mortality Y / N\")"
   ]
  },
  {
   "cell_type": "code",
   "execution_count": 120,
   "metadata": {},
   "outputs": [
    {
     "data": {
      "text/plain": [
       "'31/12/2016 00:00:00'"
      ]
     },
     "execution_count": 120,
     "metadata": {},
     "output_type": "execute_result"
    }
   ],
   "source": [
    "data['SURGERY_DATE'].max()"
   ]
  },
  {
   "cell_type": "code",
   "execution_count": 121,
   "metadata": {},
   "outputs": [
    {
     "data": {
      "text/plain": [
       "'01/01/2016 00:00:00'"
      ]
     },
     "execution_count": 121,
     "metadata": {},
     "output_type": "execute_result"
    }
   ],
   "source": [
    "data['SURGERY_DATE'].min()"
   ]
  },
  {
   "cell_type": "code",
   "execution_count": 145,
   "metadata": {},
   "outputs": [
    {
     "data": {
      "text/plain": [
       "31/10/2014 00:00:00       1\n",
       "31/08/2013 00:00:00       3\n",
       "31/07/2015 00:00:00       4\n",
       "31/10/2015 00:00:00      10\n",
       "31/12/2015 00:00:00      29\n",
       "31/07/2016 00:00:00      88\n",
       "31/10/2017 00:00:00     496\n",
       "31/08/2016 00:00:00     576\n",
       "31/12/2016 00:00:00     962\n",
       "31/10/2016 00:00:00     977\n",
       "31/08/2017 00:00:00    1105\n",
       "31/07/2017 00:00:00    1341\n",
       "Name: SURGERY_DATE, dtype: int64"
      ]
     },
     "execution_count": 145,
     "metadata": {},
     "output_type": "execute_result"
    }
   ],
   "source": [
    "\n",
    "data1['SURGERY_DATE'].value_counts().sort_values()"
   ]
  },
  {
   "cell_type": "code",
   "execution_count": 210,
   "metadata": {},
   "outputs": [
    {
     "ename": "AttributeError",
     "evalue": "Can only use .dt accessor with datetimelike values",
     "output_type": "error",
     "traceback": [
      "\u001b[0;31m---------------------------------------------------------------------------\u001b[0m",
      "\u001b[0;31mAttributeError\u001b[0m                            Traceback (most recent call last)",
      "\u001b[0;32m<ipython-input-210-9a75539ba86e>\u001b[0m in \u001b[0;36m<module>\u001b[0;34m\u001b[0m\n\u001b[1;32m      3\u001b[0m \u001b[0;31m# data['SURGERY_DATE'] = pd.to_datetime(data['SURGERY_DATE']).dt.date\u001b[0m\u001b[0;34m\u001b[0m\u001b[0;34m\u001b[0m\u001b[0;34m\u001b[0m\u001b[0m\n\u001b[1;32m      4\u001b[0m \u001b[0;31m# data['SURGERY_DATE'] = data['SURGERY_DATE'].dt.date\u001b[0m\u001b[0;34m\u001b[0m\u001b[0;34m\u001b[0m\u001b[0;34m\u001b[0m\u001b[0m\n\u001b[0;32m----> 5\u001b[0;31m \u001b[0mdata\u001b[0m\u001b[0;34m[\u001b[0m\u001b[0;34m'SURGERY_DATE1'\u001b[0m\u001b[0;34m]\u001b[0m \u001b[0;34m=\u001b[0m \u001b[0mdata\u001b[0m\u001b[0;34m[\u001b[0m\u001b[0;34m'SURGERY_DATE'\u001b[0m\u001b[0;34m]\u001b[0m\u001b[0;34m.\u001b[0m\u001b[0mdt\u001b[0m\u001b[0;34m.\u001b[0m\u001b[0mdate\u001b[0m\u001b[0;34m\u001b[0m\u001b[0;34m\u001b[0m\u001b[0m\n\u001b[0m\u001b[1;32m      6\u001b[0m \u001b[0mdata\u001b[0m\u001b[0;34m.\u001b[0m\u001b[0minfo\u001b[0m\u001b[0;34m(\u001b[0m\u001b[0;34m)\u001b[0m\u001b[0;34m\u001b[0m\u001b[0;34m\u001b[0m\u001b[0m\n",
      "\u001b[0;32m~/.local/lib/python3.8/site-packages/pandas/core/generic.py\u001b[0m in \u001b[0;36m__getattr__\u001b[0;34m(self, name)\u001b[0m\n\u001b[1;32m   5456\u001b[0m             \u001b[0;32mor\u001b[0m \u001b[0mname\u001b[0m \u001b[0;32min\u001b[0m \u001b[0mself\u001b[0m\u001b[0;34m.\u001b[0m\u001b[0m_accessors\u001b[0m\u001b[0;34m\u001b[0m\u001b[0;34m\u001b[0m\u001b[0m\n\u001b[1;32m   5457\u001b[0m         ):\n\u001b[0;32m-> 5458\u001b[0;31m             \u001b[0;32mreturn\u001b[0m \u001b[0mobject\u001b[0m\u001b[0;34m.\u001b[0m\u001b[0m__getattribute__\u001b[0m\u001b[0;34m(\u001b[0m\u001b[0mself\u001b[0m\u001b[0;34m,\u001b[0m \u001b[0mname\u001b[0m\u001b[0;34m)\u001b[0m\u001b[0;34m\u001b[0m\u001b[0;34m\u001b[0m\u001b[0m\n\u001b[0m\u001b[1;32m   5459\u001b[0m         \u001b[0;32melse\u001b[0m\u001b[0;34m:\u001b[0m\u001b[0;34m\u001b[0m\u001b[0;34m\u001b[0m\u001b[0m\n\u001b[1;32m   5460\u001b[0m             \u001b[0;32mif\u001b[0m \u001b[0mself\u001b[0m\u001b[0;34m.\u001b[0m\u001b[0m_info_axis\u001b[0m\u001b[0;34m.\u001b[0m\u001b[0m_can_hold_identifiers_and_holds_name\u001b[0m\u001b[0;34m(\u001b[0m\u001b[0mname\u001b[0m\u001b[0;34m)\u001b[0m\u001b[0;34m:\u001b[0m\u001b[0;34m\u001b[0m\u001b[0;34m\u001b[0m\u001b[0m\n",
      "\u001b[0;32m~/.local/lib/python3.8/site-packages/pandas/core/accessor.py\u001b[0m in \u001b[0;36m__get__\u001b[0;34m(self, obj, cls)\u001b[0m\n\u001b[1;32m    178\u001b[0m             \u001b[0;31m# we're accessing the attribute of the class, i.e., Dataset.geo\u001b[0m\u001b[0;34m\u001b[0m\u001b[0;34m\u001b[0m\u001b[0;34m\u001b[0m\u001b[0m\n\u001b[1;32m    179\u001b[0m             \u001b[0;32mreturn\u001b[0m \u001b[0mself\u001b[0m\u001b[0;34m.\u001b[0m\u001b[0m_accessor\u001b[0m\u001b[0;34m\u001b[0m\u001b[0;34m\u001b[0m\u001b[0m\n\u001b[0;32m--> 180\u001b[0;31m         \u001b[0maccessor_obj\u001b[0m \u001b[0;34m=\u001b[0m \u001b[0mself\u001b[0m\u001b[0;34m.\u001b[0m\u001b[0m_accessor\u001b[0m\u001b[0;34m(\u001b[0m\u001b[0mobj\u001b[0m\u001b[0;34m)\u001b[0m\u001b[0;34m\u001b[0m\u001b[0;34m\u001b[0m\u001b[0m\n\u001b[0m\u001b[1;32m    181\u001b[0m         \u001b[0;31m# Replace the property with the accessor object. Inspired by:\u001b[0m\u001b[0;34m\u001b[0m\u001b[0;34m\u001b[0m\u001b[0;34m\u001b[0m\u001b[0m\n\u001b[1;32m    182\u001b[0m         \u001b[0;31m# https://www.pydanny.com/cached-property.html\u001b[0m\u001b[0;34m\u001b[0m\u001b[0;34m\u001b[0m\u001b[0;34m\u001b[0m\u001b[0m\n",
      "\u001b[0;32m~/.local/lib/python3.8/site-packages/pandas/core/indexes/accessors.py\u001b[0m in \u001b[0;36m__new__\u001b[0;34m(cls, data)\u001b[0m\n\u001b[1;32m    492\u001b[0m             \u001b[0;32mreturn\u001b[0m \u001b[0mPeriodProperties\u001b[0m\u001b[0;34m(\u001b[0m\u001b[0mdata\u001b[0m\u001b[0;34m,\u001b[0m \u001b[0morig\u001b[0m\u001b[0;34m)\u001b[0m\u001b[0;34m\u001b[0m\u001b[0;34m\u001b[0m\u001b[0m\n\u001b[1;32m    493\u001b[0m \u001b[0;34m\u001b[0m\u001b[0m\n\u001b[0;32m--> 494\u001b[0;31m         \u001b[0;32mraise\u001b[0m \u001b[0mAttributeError\u001b[0m\u001b[0;34m(\u001b[0m\u001b[0;34m\"Can only use .dt accessor with datetimelike values\"\u001b[0m\u001b[0;34m)\u001b[0m\u001b[0;34m\u001b[0m\u001b[0;34m\u001b[0m\u001b[0m\n\u001b[0m",
      "\u001b[0;31mAttributeError\u001b[0m: Can only use .dt accessor with datetimelike values"
     ]
    }
   ],
   "source": [
    "# data['SURGERY_DATE'] =  pd.to_datetime(data['SURGERY_DATE'])\n",
    "# data['SURGERY_DATE'] = pd.to_datetime(data['SURGERY_DATE']).dt.date\n",
    "# data['SURGERY_DATE'] = pd.to_datetime(data['SURGERY_DATE']).dt.date\n",
    "# data['SURGERY_DATE'] = data['SURGERY_DATE'].dt.date\n",
    "data['SURGERY_DATE1'] = data['SURGERY_DATE'].dt.date\n",
    "data.info()"
   ]
  },
  {
   "cell_type": "code",
   "execution_count": 172,
   "metadata": {},
   "outputs": [
    {
     "data": {
      "image/png": "[encoded data removed]",
      "text/plain": [
       "<Figure size 1440x432 with 1 Axes>"
      ]
     },
     "metadata": {
      "needs_background": "light"
     },
     "output_type": "display_data"
    }
   ],
   "source": [
    "plt.figure(figsize=(20, 6))\n",
    "ax = sns.lineplot(data=data, x=\"AGE\", y=\"CLAIM_AMOUNT\")\n",
    "# ax = sns.lineplot(data=data, x=\"AGE\", y=\"CLAIM_AMOUNT\", ci=None)\n",
    "# plt.xticks(rotation=45); # el ; oculta el texto previo al gráfico. El mismo resultado se logra con plt.show()"
   ]
  },
  {
   "cell_type": "code",
   "execution_count": 312,
   "metadata": {},
   "outputs": [
    {
     "name": "stdout",
     "output_type": "stream",
     "text": [
      "<class 'pandas.core.frame.DataFrame'>\n",
      "RangeIndex: 479688 entries, 0 to 479687\n",
      "Data columns (total 23 columns):\n",
      " #   Column            Non-Null Count   Dtype         \n",
      "---  ------            --------------   -----         \n",
      " 0   AGE               479688 non-null  int64         \n",
      " 1   SEX               479688 non-null  object        \n",
      " 2   CASTE_NAME        479688 non-null  object        \n",
      " 3   CATEGORY_CODE     479688 non-null  object        \n",
      " 4   CATEGORY_NAME     479688 non-null  object        \n",
      " 5   SURGERY_CODE      479688 non-null  object        \n",
      " 6   SURGERY           479688 non-null  object        \n",
      " 7   VILLAGE           479688 non-null  object        \n",
      " 8   MANDAL_NAME       479688 non-null  object        \n",
      " 9   DISTRICT_NAME     479688 non-null  object        \n",
      " 10  PREAUTH_DATE      479688 non-null  datetime64[ns]\n",
      " 11  PREAUTH_AMT       479688 non-null  int64         \n",
      " 12  CLAIM_DATE        479688 non-null  datetime64[ns]\n",
      " 13  CLAIM_AMOUNT      479688 non-null  int64         \n",
      " 14  HOSP_NAME         479688 non-null  object        \n",
      " 15  HOSP_TYPE         479688 non-null  object        \n",
      " 16  HOSP_LOCATION     479688 non-null  object        \n",
      " 17  HOSP_DISTRICT     479688 non-null  object        \n",
      " 18  SURGERY_DATE      479688 non-null  datetime64[ns]\n",
      " 19  DISCHARGE_DATE    475126 non-null  datetime64[ns]\n",
      " 20  Mortality Y / N   479688 non-null  object        \n",
      " 21  MORTALITY_DATE    10122 non-null   datetime64[ns]\n",
      " 22  SRC_REGISTRATION  479688 non-null  object        \n",
      "dtypes: datetime64[ns](5), int64(3), object(15)\n",
      "memory usage: 84.2+ MB\n"
     ]
    }
   ],
   "source": [
    "data.info()"
   ]
  },
  {
   "cell_type": "code",
   "execution_count": 334,
   "metadata": {},
   "outputs": [
    {
     "data": {
      "text/plain": [
       "0        2017-03-22 20:25:18\n",
       "1        2017-03-22 20:25:18\n",
       "2        2017-03-22 20:25:18\n",
       "3        2017-03-22 20:25:18\n",
       "4        2017-03-22 20:25:19\n",
       "                 ...        \n",
       "479683   2017-12-30 21:34:34\n",
       "479684   2017-12-30 21:37:20\n",
       "479685   2017-12-30 21:37:19\n",
       "479686   2017-12-30 21:37:23\n",
       "479687   2017-12-30 21:37:21\n",
       "Name: CLAIM_DATE, Length: 479688, dtype: datetime64[ns]"
      ]
     },
     "execution_count": 334,
     "metadata": {},
     "output_type": "execute_result"
    }
   ],
   "source": [
    "remov"
   ]
  },
  {
   "cell_type": "code",
   "execution_count": 333,
   "metadata": {},
   "outputs": [
    {
     "data": {
      "image/png": "[encoded data removed]",
      "text/plain": [
       "<Figure size 1440x432 with 1 Axes>"
      ]
     },
     "metadata": {
      "needs_background": "light"
     },
     "output_type": "display_data"
    }
   ],
   "source": [
    "start_date = '31/01/2015'\n",
    "data_short = data.loc[data['SURGERY_DATE']> start_date]\n",
    "\n",
    "plt.figure(figsize=(20, 6))\n",
    "ax = sns.lineplot(data=data1, x=\"SURGERY_DATE\", y=\"CLAIM_AMOUNT\")\n",
    "plt.xticks(rotation=45); # el ; oculta el texto previo al gráfico. El mismo resultado se logra con plt.show()"
   ]
  },
  {
   "cell_type": "code",
   "execution_count": null,
   "metadata": {},
   "outputs": [],
   "source": []
  }
 ],
 "metadata": {
  "hide_input": false,
  "kernelspec": {
   "display_name": "Python 3",
   "language": "python",
   "name": "python3"
  },
  "language_info": {
   "codemirror_mode": {
    "name": "ipython",
    "version": 3
   },
   "file_extension": ".py",
   "mimetype": "text/x-python",
   "name": "python",
   "nbconvert_exporter": "python",
   "pygments_lexer": "ipython3",
   "version": "3.8.10"
  }
 },
 "nbformat": 4,
 "nbformat_minor": 1
}
