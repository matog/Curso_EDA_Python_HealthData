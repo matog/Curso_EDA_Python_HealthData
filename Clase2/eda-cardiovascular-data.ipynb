{
 "cells": [
  {
   "cell_type": "markdown",
   "metadata": {},
   "source": [
    "- Mapear codigos a descripciones(0:Si, 1:No)\n",
    "- Slice DF, ejemplos\n",
    "- Shape\n"
   ]
  },
  {
   "cell_type": "markdown",
   "metadata": {},
   "source": [
    "Este notebook se realizó tomando como base:\n",
    "- https://www.kaggle.com/kashnitsky/a2-demo-analyzing-cardiovascular-data-solution\n",
    "- https://www.kaggle.com/sulianova/eda-cardiovascular-data"
   ]
  },
  {
   "cell_type": "markdown",
   "metadata": {
    "_uuid": "db8dfe3cf8a24964acc7d4f832e8cba1cbf8ffe8"
   },
   "source": [
    "## EDA de datos de enfermedades cardiovasculares\n",
    "\n",
    "El dataset contiene 70.000 registros de pacientes en 12 variables o _features_ (edad, sexo, systolic blood pressure, diastolic blood pressure, and etc). La clase \"cardio\" toma el valor 1 cuando el paciente tuvo una enfermedad cardiovascular y 0 si el paciente es saludable.\n",
    "\n",
    "#### Descripción de los datos\n",
    "\n",
    "Hay 3 tipos de variablesut features:\n",
    "\n",
    "- *Objetivas*: factual information;\n",
    "- *caracteristica de examen*: results of medical examination;\n",
    "- *subjetivas*: information given by the patient.\n",
    "\n",
    "| Feature | Variable Type | Variable      | Value Type |\n",
    "|---------|--------------|---------------|------------|\n",
    "| Age | Objective Feature | age | int (days) |\n",
    "| Height | Objective Feature | height | int (cm) |\n",
    "| Weight | Objective Feature | weight | float (kg) |\n",
    "| Gender | Objective Feature | gender | categorical code |\n",
    "| Systolic blood pressure | Examination Feature | ap_hi | int |\n",
    "| Diastolic blood pressure | Examination Feature | ap_lo | int |\n",
    "| Cholesterol | Examination Feature | cholesterol | 1: normal, 2: above normal, 3: well above normal |\n",
    "| Glucose | Examination Feature | gluc | 1: normal, 2: above normal, 3: well above normal |\n",
    "| Smoking | Subjective Feature | smoke | binary |\n",
    "| Alcohol intake | Subjective Feature | alco | binary |\n",
    "| Physical activity | Subjective Feature | active | binary |\n",
    "| Presence or absence of cardiovascular disease | Target Variable | cardio | binary |\n",
    "\n",
    "\n",
    "### Analisis inicial"
   ]
  },
  {
   "cell_type": "code",
   "execution_count": 81,
   "metadata": {
    "_cell_guid": "b1076dfc-b9ad-4769-8c92-a6c4dae69d19",
    "_uuid": "8f2839f25d086af736a60e9eeb907d3b93b6e0e5"
   },
   "outputs": [],
   "source": [
    "# import numpy as np # linear algebra\n",
    "import pandas as pd\n",
    "import seaborn as sns\n",
    "from matplotlib import pyplot as plt\n",
    "# import os\n",
    "df = pd.read_csv(\"cardio_train.csv\",sep=\";\")"
   ]
  },
  {
   "cell_type": "code",
   "execution_count": 88,
   "metadata": {
    "_uuid": "010df08d1394e4666a485ba4493f6ca511076cd8"
   },
   "outputs": [
    {
     "data": {
      "text/html": [
       "<div>\n",
       "<style scoped>\n",
       "    .dataframe tbody tr th:only-of-type {\n",
       "        vertical-align: middle;\n",
       "    }\n",
       "\n",
       "    .dataframe tbody tr th {\n",
       "        vertical-align: top;\n",
       "    }\n",
       "\n",
       "    .dataframe thead th {\n",
       "        text-align: right;\n",
       "    }\n",
       "</style>\n",
       "<table border=\"1\" class=\"dataframe\">\n",
       "  <thead>\n",
       "    <tr style=\"text-align: right;\">\n",
       "      <th></th>\n",
       "      <th>id</th>\n",
       "      <th>age</th>\n",
       "      <th>gender</th>\n",
       "      <th>height</th>\n",
       "      <th>weight</th>\n",
       "      <th>ap_hi</th>\n",
       "      <th>ap_lo</th>\n",
       "      <th>cholesterol</th>\n",
       "      <th>gluc</th>\n",
       "      <th>smoke</th>\n",
       "      <th>alco</th>\n",
       "      <th>active</th>\n",
       "      <th>cardio</th>\n",
       "      <th>age_year</th>\n",
       "    </tr>\n",
       "  </thead>\n",
       "  <tbody>\n",
       "    <tr>\n",
       "      <th>0</th>\n",
       "      <td>0</td>\n",
       "      <td>18393</td>\n",
       "      <td>Male</td>\n",
       "      <td>168</td>\n",
       "      <td>62.0</td>\n",
       "      <td>110</td>\n",
       "      <td>80</td>\n",
       "      <td>normal</td>\n",
       "      <td>normal</td>\n",
       "      <td>No</td>\n",
       "      <td>No</td>\n",
       "      <td>Yes</td>\n",
       "      <td>0</td>\n",
       "      <td>50.0</td>\n",
       "    </tr>\n",
       "    <tr>\n",
       "      <th>1</th>\n",
       "      <td>1</td>\n",
       "      <td>20228</td>\n",
       "      <td>Female</td>\n",
       "      <td>156</td>\n",
       "      <td>85.0</td>\n",
       "      <td>140</td>\n",
       "      <td>90</td>\n",
       "      <td>well above normal</td>\n",
       "      <td>normal</td>\n",
       "      <td>No</td>\n",
       "      <td>No</td>\n",
       "      <td>Yes</td>\n",
       "      <td>1</td>\n",
       "      <td>55.0</td>\n",
       "    </tr>\n",
       "    <tr>\n",
       "      <th>2</th>\n",
       "      <td>2</td>\n",
       "      <td>18857</td>\n",
       "      <td>Female</td>\n",
       "      <td>165</td>\n",
       "      <td>64.0</td>\n",
       "      <td>130</td>\n",
       "      <td>70</td>\n",
       "      <td>well above normal</td>\n",
       "      <td>normal</td>\n",
       "      <td>No</td>\n",
       "      <td>No</td>\n",
       "      <td>No</td>\n",
       "      <td>1</td>\n",
       "      <td>52.0</td>\n",
       "    </tr>\n",
       "    <tr>\n",
       "      <th>3</th>\n",
       "      <td>3</td>\n",
       "      <td>17623</td>\n",
       "      <td>Male</td>\n",
       "      <td>169</td>\n",
       "      <td>82.0</td>\n",
       "      <td>150</td>\n",
       "      <td>100</td>\n",
       "      <td>normal</td>\n",
       "      <td>normal</td>\n",
       "      <td>No</td>\n",
       "      <td>No</td>\n",
       "      <td>Yes</td>\n",
       "      <td>1</td>\n",
       "      <td>48.0</td>\n",
       "    </tr>\n",
       "    <tr>\n",
       "      <th>4</th>\n",
       "      <td>4</td>\n",
       "      <td>17474</td>\n",
       "      <td>Female</td>\n",
       "      <td>156</td>\n",
       "      <td>56.0</td>\n",
       "      <td>100</td>\n",
       "      <td>60</td>\n",
       "      <td>normal</td>\n",
       "      <td>normal</td>\n",
       "      <td>No</td>\n",
       "      <td>No</td>\n",
       "      <td>No</td>\n",
       "      <td>0</td>\n",
       "      <td>48.0</td>\n",
       "    </tr>\n",
       "  </tbody>\n",
       "</table>\n",
       "</div>"
      ],
      "text/plain": [
       "   id    age  gender  height  weight  ap_hi  ap_lo        cholesterol    gluc  \\\n",
       "0   0  18393    Male     168    62.0    110     80             normal  normal   \n",
       "1   1  20228  Female     156    85.0    140     90  well above normal  normal   \n",
       "2   2  18857  Female     165    64.0    130     70  well above normal  normal   \n",
       "3   3  17623    Male     169    82.0    150    100             normal  normal   \n",
       "4   4  17474  Female     156    56.0    100     60             normal  normal   \n",
       "\n",
       "  smoke alco active  cardio  age_year  \n",
       "0    No   No    Yes       0      50.0  \n",
       "1    No   No    Yes       1      55.0  \n",
       "2    No   No     No       1      52.0  \n",
       "3    No   No    Yes       1      48.0  \n",
       "4    No   No     No       0      48.0  "
      ]
     },
     "execution_count": 88,
     "metadata": {},
     "output_type": "execute_result"
    }
   ],
   "source": [
    "df.head()"
   ]
  },
  {
   "cell_type": "code",
   "execution_count": 83,
   "metadata": {},
   "outputs": [
    {
     "data": {
      "text/plain": [
       "1    56261\n",
       "0    13739\n",
       "Name: active, dtype: int64"
      ]
     },
     "execution_count": 83,
     "metadata": {},
     "output_type": "execute_result"
    }
   ],
   "source": [
    "df['active'].value_counts()"
   ]
  },
  {
   "cell_type": "markdown",
   "metadata": {
    "_uuid": "5ba11ab7bcc335fd3f5ef2b52b303a8c34b1051e"
   },
   "source": [
    "#### Análisis univariado\n",
    "Para comenzar a entender los datos, primero necesitamos saber que tipo de datos son. Esto se realiza con la función `info()`:"
   ]
  },
  {
   "cell_type": "code",
   "execution_count": 74,
   "metadata": {
    "_uuid": "ec92a220aabb9596f24376fb51177fd3cd497c31"
   },
   "outputs": [
    {
     "name": "stdout",
     "output_type": "stream",
     "text": [
      "<class 'pandas.core.frame.DataFrame'>\n",
      "RangeIndex: 70000 entries, 0 to 69999\n",
      "Data columns (total 13 columns):\n",
      " #   Column       Non-Null Count  Dtype  \n",
      "---  ------       --------------  -----  \n",
      " 0   id           70000 non-null  int64  \n",
      " 1   age          70000 non-null  int64  \n",
      " 2   gender       70000 non-null  int64  \n",
      " 3   height       70000 non-null  int64  \n",
      " 4   weight       70000 non-null  float64\n",
      " 5   ap_hi        70000 non-null  int64  \n",
      " 6   ap_lo        70000 non-null  int64  \n",
      " 7   cholesterol  70000 non-null  int64  \n",
      " 8   gluc         70000 non-null  int64  \n",
      " 9   smoke        70000 non-null  int64  \n",
      " 10  alco         70000 non-null  int64  \n",
      " 11  active       70000 non-null  int64  \n",
      " 12  cardio       70000 non-null  int64  \n",
      "dtypes: float64(1), int64(12)\n",
      "memory usage: 6.9 MB\n"
     ]
    }
   ],
   "source": [
    "df.info()"
   ]
  },
  {
   "cell_type": "markdown",
   "metadata": {
    "_uuid": "6878ef95cbfd1911879df48e762d2faccc1a7bce"
   },
   "source": [
    "Todas las variables o _features_ son numéricas, 12 _integers_ y 1 número decimal (weight). La segunda columna nos da una idea del tamaño del dataset y cuantas observaciones no contienen valores nulos. Podemos utilizar `describe()` para mostrar algunas estadísticas como `min`, `max`, `mean`,`std` para cada variable (numérica):"
   ]
  },
  {
   "cell_type": "code",
   "execution_count": 75,
   "metadata": {
    "_uuid": "841e5cd4156b89e3a70ce8fdd5d0f9253d4b2297"
   },
   "outputs": [
    {
     "data": {
      "text/html": [
       "<div>\n",
       "<style scoped>\n",
       "    .dataframe tbody tr th:only-of-type {\n",
       "        vertical-align: middle;\n",
       "    }\n",
       "\n",
       "    .dataframe tbody tr th {\n",
       "        vertical-align: top;\n",
       "    }\n",
       "\n",
       "    .dataframe thead th {\n",
       "        text-align: right;\n",
       "    }\n",
       "</style>\n",
       "<table border=\"1\" class=\"dataframe\">\n",
       "  <thead>\n",
       "    <tr style=\"text-align: right;\">\n",
       "      <th></th>\n",
       "      <th>id</th>\n",
       "      <th>age</th>\n",
       "      <th>gender</th>\n",
       "      <th>height</th>\n",
       "      <th>weight</th>\n",
       "      <th>ap_hi</th>\n",
       "      <th>ap_lo</th>\n",
       "      <th>cholesterol</th>\n",
       "      <th>gluc</th>\n",
       "      <th>smoke</th>\n",
       "      <th>alco</th>\n",
       "      <th>active</th>\n",
       "      <th>cardio</th>\n",
       "    </tr>\n",
       "  </thead>\n",
       "  <tbody>\n",
       "    <tr>\n",
       "      <th>count</th>\n",
       "      <td>70000.000000</td>\n",
       "      <td>70000.000000</td>\n",
       "      <td>70000.000000</td>\n",
       "      <td>70000.000000</td>\n",
       "      <td>70000.000000</td>\n",
       "      <td>70000.000000</td>\n",
       "      <td>70000.000000</td>\n",
       "      <td>70000.000000</td>\n",
       "      <td>70000.000000</td>\n",
       "      <td>70000.000000</td>\n",
       "      <td>70000.000000</td>\n",
       "      <td>70000.000000</td>\n",
       "      <td>70000.000000</td>\n",
       "    </tr>\n",
       "    <tr>\n",
       "      <th>mean</th>\n",
       "      <td>49972.419900</td>\n",
       "      <td>19468.865814</td>\n",
       "      <td>1.349571</td>\n",
       "      <td>164.359229</td>\n",
       "      <td>74.205690</td>\n",
       "      <td>128.817286</td>\n",
       "      <td>96.630414</td>\n",
       "      <td>1.366871</td>\n",
       "      <td>1.226457</td>\n",
       "      <td>0.088129</td>\n",
       "      <td>0.053771</td>\n",
       "      <td>0.803729</td>\n",
       "      <td>0.499700</td>\n",
       "    </tr>\n",
       "    <tr>\n",
       "      <th>std</th>\n",
       "      <td>28851.302323</td>\n",
       "      <td>2467.251667</td>\n",
       "      <td>0.476838</td>\n",
       "      <td>8.210126</td>\n",
       "      <td>14.395757</td>\n",
       "      <td>154.011419</td>\n",
       "      <td>188.472530</td>\n",
       "      <td>0.680250</td>\n",
       "      <td>0.572270</td>\n",
       "      <td>0.283484</td>\n",
       "      <td>0.225568</td>\n",
       "      <td>0.397179</td>\n",
       "      <td>0.500003</td>\n",
       "    </tr>\n",
       "    <tr>\n",
       "      <th>min</th>\n",
       "      <td>0.000000</td>\n",
       "      <td>10798.000000</td>\n",
       "      <td>1.000000</td>\n",
       "      <td>55.000000</td>\n",
       "      <td>10.000000</td>\n",
       "      <td>-150.000000</td>\n",
       "      <td>-70.000000</td>\n",
       "      <td>1.000000</td>\n",
       "      <td>1.000000</td>\n",
       "      <td>0.000000</td>\n",
       "      <td>0.000000</td>\n",
       "      <td>0.000000</td>\n",
       "      <td>0.000000</td>\n",
       "    </tr>\n",
       "    <tr>\n",
       "      <th>25%</th>\n",
       "      <td>25006.750000</td>\n",
       "      <td>17664.000000</td>\n",
       "      <td>1.000000</td>\n",
       "      <td>159.000000</td>\n",
       "      <td>65.000000</td>\n",
       "      <td>120.000000</td>\n",
       "      <td>80.000000</td>\n",
       "      <td>1.000000</td>\n",
       "      <td>1.000000</td>\n",
       "      <td>0.000000</td>\n",
       "      <td>0.000000</td>\n",
       "      <td>1.000000</td>\n",
       "      <td>0.000000</td>\n",
       "    </tr>\n",
       "    <tr>\n",
       "      <th>50%</th>\n",
       "      <td>50001.500000</td>\n",
       "      <td>19703.000000</td>\n",
       "      <td>1.000000</td>\n",
       "      <td>165.000000</td>\n",
       "      <td>72.000000</td>\n",
       "      <td>120.000000</td>\n",
       "      <td>80.000000</td>\n",
       "      <td>1.000000</td>\n",
       "      <td>1.000000</td>\n",
       "      <td>0.000000</td>\n",
       "      <td>0.000000</td>\n",
       "      <td>1.000000</td>\n",
       "      <td>0.000000</td>\n",
       "    </tr>\n",
       "    <tr>\n",
       "      <th>75%</th>\n",
       "      <td>74889.250000</td>\n",
       "      <td>21327.000000</td>\n",
       "      <td>2.000000</td>\n",
       "      <td>170.000000</td>\n",
       "      <td>82.000000</td>\n",
       "      <td>140.000000</td>\n",
       "      <td>90.000000</td>\n",
       "      <td>2.000000</td>\n",
       "      <td>1.000000</td>\n",
       "      <td>0.000000</td>\n",
       "      <td>0.000000</td>\n",
       "      <td>1.000000</td>\n",
       "      <td>1.000000</td>\n",
       "    </tr>\n",
       "    <tr>\n",
       "      <th>max</th>\n",
       "      <td>99999.000000</td>\n",
       "      <td>23713.000000</td>\n",
       "      <td>2.000000</td>\n",
       "      <td>250.000000</td>\n",
       "      <td>200.000000</td>\n",
       "      <td>16020.000000</td>\n",
       "      <td>11000.000000</td>\n",
       "      <td>3.000000</td>\n",
       "      <td>3.000000</td>\n",
       "      <td>1.000000</td>\n",
       "      <td>1.000000</td>\n",
       "      <td>1.000000</td>\n",
       "      <td>1.000000</td>\n",
       "    </tr>\n",
       "  </tbody>\n",
       "</table>\n",
       "</div>"
      ],
      "text/plain": [
       "                 id           age        gender        height        weight  \\\n",
       "count  70000.000000  70000.000000  70000.000000  70000.000000  70000.000000   \n",
       "mean   49972.419900  19468.865814      1.349571    164.359229     74.205690   \n",
       "std    28851.302323   2467.251667      0.476838      8.210126     14.395757   \n",
       "min        0.000000  10798.000000      1.000000     55.000000     10.000000   \n",
       "25%    25006.750000  17664.000000      1.000000    159.000000     65.000000   \n",
       "50%    50001.500000  19703.000000      1.000000    165.000000     72.000000   \n",
       "75%    74889.250000  21327.000000      2.000000    170.000000     82.000000   \n",
       "max    99999.000000  23713.000000      2.000000    250.000000    200.000000   \n",
       "\n",
       "              ap_hi         ap_lo   cholesterol          gluc         smoke  \\\n",
       "count  70000.000000  70000.000000  70000.000000  70000.000000  70000.000000   \n",
       "mean     128.817286     96.630414      1.366871      1.226457      0.088129   \n",
       "std      154.011419    188.472530      0.680250      0.572270      0.283484   \n",
       "min     -150.000000    -70.000000      1.000000      1.000000      0.000000   \n",
       "25%      120.000000     80.000000      1.000000      1.000000      0.000000   \n",
       "50%      120.000000     80.000000      1.000000      1.000000      0.000000   \n",
       "75%      140.000000     90.000000      2.000000      1.000000      0.000000   \n",
       "max    16020.000000  11000.000000      3.000000      3.000000      1.000000   \n",
       "\n",
       "               alco        active        cardio  \n",
       "count  70000.000000  70000.000000  70000.000000  \n",
       "mean       0.053771      0.803729      0.499700  \n",
       "std        0.225568      0.397179      0.500003  \n",
       "min        0.000000      0.000000      0.000000  \n",
       "25%        0.000000      1.000000      0.000000  \n",
       "50%        0.000000      1.000000      0.000000  \n",
       "75%        0.000000      1.000000      1.000000  \n",
       "max        1.000000      1.000000      1.000000  "
      ]
     },
     "execution_count": 75,
     "metadata": {},
     "output_type": "execute_result"
    }
   ],
   "source": [
    "df.describe()"
   ]
  },
  {
   "cell_type": "markdown",
   "metadata": {},
   "source": [
    "Convertimos `age`, expresada en dias, en años."
   ]
  },
  {
   "cell_type": "code",
   "execution_count": 84,
   "metadata": {},
   "outputs": [],
   "source": [
    "df['age_year'] = round(df['age']/365,0)"
   ]
  },
  {
   "cell_type": "markdown",
   "metadata": {},
   "source": [
    "Asignamos valores de un diccionario a las escalas\n",
    "\n",
    "- Alternativa I:"
   ]
  },
  {
   "cell_type": "code",
   "execution_count": 77,
   "metadata": {},
   "outputs": [],
   "source": [
    "dict = {1: 'normal', 2: 'above normal', 3: 'well above normal'}\n",
    "df['cholesterol'] = df['cholesterol'].map(dict)\n",
    "\n",
    "dict = {1: 'CVD', 0: 'No CVD'}\n",
    "df['cardio'] = df['cardio'].map(dict)"
   ]
  },
  {
   "cell_type": "markdown",
   "metadata": {},
   "source": [
    "- Alternativa II"
   ]
  },
  {
   "cell_type": "code",
   "execution_count": 78,
   "metadata": {},
   "outputs": [],
   "source": [
    "cols = ['cholesterol', 'gluc', 'smoke', 'alco', 'active']\n",
    "dict = {1: 'normal', 2: 'above normal', 3: 'well above normal'}\n",
    "\n",
    "# Iteramos por la lista de variables a las cuales le reemplazamos el valor\n",
    "for col in cols:\n",
    "    df[col] = df[col].map(dict)"
   ]
  },
  {
   "cell_type": "markdown",
   "metadata": {},
   "source": [
    "- Alternativa III"
   ]
  },
  {
   "cell_type": "code",
   "execution_count": 85,
   "metadata": {},
   "outputs": [],
   "source": [
    "def replace_dict(cols,dict):\n",
    "    for col in cols:\n",
    "        print(dict)\n",
    "        df[col] = df[col].map(dict)"
   ]
  },
  {
   "cell_type": "code",
   "execution_count": 86,
   "metadata": {},
   "outputs": [
    {
     "name": "stdout",
     "output_type": "stream",
     "text": [
      "{1: 'normal', 2: 'above normal', 3: 'well above normal'}\n",
      "{1: 'normal', 2: 'above normal', 3: 'well above normal'}\n",
      "{0: 'No', 1: 'Yes'}\n",
      "{0: 'No', 1: 'Yes'}\n",
      "{0: 'No', 1: 'Yes'}\n"
     ]
    }
   ],
   "source": [
    "col_cg = ['cholesterol', 'gluc']\n",
    "dict_cg = {1: 'normal', 2: 'above normal', 3: 'well above normal'}\n",
    "\n",
    "col_saa = ['smoke', 'alco', 'active']\n",
    "dict_saa = {0:'No', 1:'Yes'}\n",
    "\n",
    "replace_dict(col_cg,dict_cg)\n",
    "replace_dict(col_saa,dict_saa)"
   ]
  },
  {
   "cell_type": "markdown",
   "metadata": {
    "_uuid": "c63b756c818d41c246b9391df23cb6362acf3001"
   },
   "source": [
    "La edad(`age`) está medida en días, la altura(`height`) en centímetros. \n",
    "Vamos a analizar como se compartan las variables según el valor de la clase objetivo.\n",
    "\n",
    "Por ejemplo, a que edad el número de personas con CVD es mayor al número de personas sin CVD?"
   ]
  },
  {
   "cell_type": "code",
   "execution_count": 16,
   "metadata": {
    "_uuid": "5821c84aeb66d917d2504a1429f21b6e2bd03de9"
   },
   "outputs": [
    {
     "data": {
      "text/plain": [
       "<AxesSubplot:xlabel='years', ylabel='count'>"
      ]
     },
     "execution_count": 16,
     "metadata": {},
     "output_type": "execute_result"
    },
    {
     "data": {
      "image/png": "[encoded data removed]",
      "text/plain": [
       "<Figure size 792x576 with 1 Axes>"
      ]
     },
     "metadata": {
      "needs_background": "light"
     },
     "output_type": "display_data"
    }
   ],
   "source": [
    "from matplotlib import rcParams\n",
    "\n",
    "rcParams['figure.figsize'] = 11, 8\n",
    "df['years'] = (df['age'] / 365).round().astype('int')\n",
    "sns.countplot(x='years', hue='cardio', data=df, palette=\"Set2\")"
   ]
  },
  {
   "cell_type": "markdown",
   "metadata": {
    "_uuid": "3cc8640e4da27cd8d76b5ff0eeffbaa2b6856c2b"
   },
   "source": [
    "Se observa qeu las personas mayores de 55 años se encuentran más expuestas al CVD.\n",
    "En la tabla podemos ver qeu existen _outliers_ en `ap_hi`, `ap_lo`, `weight` y `height`. Trabajaremos con esas observaciones mas adelante.\n",
    "\n",
    "Veamos las variables categóricas y su distribución:"
   ]
  },
  {
   "cell_type": "code",
   "execution_count": 7,
   "metadata": {
    "_uuid": "e34e1ac671a3f78088ad259fde064994011cd946"
   },
   "outputs": [
    {
     "data": {
      "image/png": "[encoded data removed]",
      "text/plain": [
       "<Figure size 792x576 with 1 Axes>"
      ]
     },
     "metadata": {
      "needs_background": "light"
     },
     "output_type": "display_data"
    }
   ],
   "source": [
    "df_categorical = df.loc[:,['cholesterol','gluc', 'smoke', 'alco', 'active']]\n",
    "sns.countplot(x=\"variable\", hue=\"value\",data= pd.melt(df_categorical));"
   ]
  },
  {
   "cell_type": "markdown",
   "metadata": {
    "_uuid": "5aa9a73732afeee4eb12938aa54363308c7d63f0"
   },
   "source": [
    "#### Analisis bivariado\n",
    "\n",
    "Es útil mostrar las variables categóricas según el valor de la _clase objetivo_"
   ]
  },
  {
   "cell_type": "code",
   "execution_count": 89,
   "metadata": {
    "_uuid": "c5e828a0a10e1874181c0a601008cdb71a77e07f"
   },
   "outputs": [
    {
     "data": {
      "image/png": "[encoded data removed]",
      "text/plain": [
       "<Figure size 847.625x360 with 2 Axes>"
      ]
     },
     "metadata": {
      "needs_background": "light"
     },
     "output_type": "display_data"
    }
   ],
   "source": [
    "df_long = pd.melt(df, id_vars=['cardio'], value_vars=['cholesterol','gluc', 'smoke', 'alco', 'active'])\n",
    "sns.catplot(x=\"variable\", hue=\"value\", col=\"cardio\",\n",
    "                data=df_long, kind=\"count\");"
   ]
  },
  {
   "cell_type": "markdown",
   "metadata": {
    "_uuid": "b6af52f948112968668acc36646c9455c54ac617"
   },
   "source": [
    "Es claro que los pacientes con CVD tiene niveles mayores de colesterol y glucosa en sangre. Y en términos generales, con menos actividad física.\n",
    "\n",
    "Para poder saber si el valor \"1\" se refiere a mujeres o hombres (en la columna `gender`), vamos a calcular la media de la altura por sexo. Suponemos que los hombres, en promedio, son mas altos que las mujeres."
   ]
  },
  {
   "cell_type": "code",
   "execution_count": 28,
   "metadata": {
    "_uuid": "98dcd6289b67673896768089cafefd6a87b77051"
   },
   "outputs": [
    {
     "data": {
      "text/plain": [
       "gender\n",
       "1    162.055434\n",
       "2    169.251915\n",
       "Name: height, dtype: float64"
      ]
     },
     "execution_count": 28,
     "metadata": {},
     "output_type": "execute_result"
    }
   ],
   "source": [
    "df.groupby('gender')['height'].mean()"
   ]
  },
  {
   "cell_type": "markdown",
   "metadata": {
    "_uuid": "ffc2aa5b56032ece3ba51fd922b2865095d03406"
   },
   "source": [
    "El promedio para el valor \"2\" es mayor que el de \"1\". Por lo tanto, \"1\" representa a las mujeres.\n",
    "\n",
    "Veamos como se distribuyen en el dataset:"
   ]
  },
  {
   "cell_type": "code",
   "execution_count": 11,
   "metadata": {
    "_uuid": "338cdaa6868bc91bfa3a2ffdc133c6901267a99b"
   },
   "outputs": [
    {
     "data": {
      "text/plain": [
       "1    45530\n",
       "2    24470\n",
       "Name: gender, dtype: int64"
      ]
     },
     "execution_count": 11,
     "metadata": {},
     "output_type": "execute_result"
    }
   ],
   "source": [
    "df['gender'].value_counts()"
   ]
  },
  {
   "cell_type": "markdown",
   "metadata": {},
   "source": [
    "Reemplazamos, en la función desarrollada mas arriba, el código de `gender` por `male` y `female`."
   ]
  },
  {
   "cell_type": "code",
   "execution_count": 87,
   "metadata": {},
   "outputs": [
    {
     "name": "stdout",
     "output_type": "stream",
     "text": [
      "{1: 'Female', 2: 'Male'}\n"
     ]
    }
   ],
   "source": [
    "col_gen = ['gender']\n",
    "dict_gen = {1:'Female', 2:'Male'}\n",
    "\n",
    "replace_dict(col_gen,dict_gen)"
   ]
  },
  {
   "cell_type": "markdown",
   "metadata": {
    "_uuid": "90c09fe0eddbcdd0cb230a01ed62b4c3766f4d24"
   },
   "source": [
    "Quién consume mas frecuentemente alcohol? Mujeres u hombres?"
   ]
  },
  {
   "cell_type": "code",
   "execution_count": 12,
   "metadata": {
    "_uuid": "ff69407dc82280032d1e9b4fda00cb512da7d4d4"
   },
   "outputs": [
    {
     "data": {
      "text/plain": [
       "gender\n",
       "1    1161\n",
       "2    2603\n",
       "Name: alco, dtype: int64"
      ]
     },
     "execution_count": 12,
     "metadata": {},
     "output_type": "execute_result"
    }
   ],
   "source": [
    "df.groupby('gender')['alco'].sum()"
   ]
  },
  {
   "cell_type": "markdown",
   "metadata": {
    "_uuid": "088644fc29005448bcb07607d59560d77845eeff"
   },
   "source": [
    "Entonces, los hombres consumen, en promedio, mas frecuentemente alcohol que las mujeres.\n",
    "\n",
    "Ahora, obtenemos las participaciones relativas:"
   ]
  },
  {
   "cell_type": "code",
   "execution_count": 13,
   "metadata": {
    "_uuid": "b772c57d9893e827c2b66dad6d3a319910f10208"
   },
   "outputs": [
    {
     "data": {
      "text/plain": [
       "0    0.5003\n",
       "1    0.4997\n",
       "Name: cardio, dtype: float64"
      ]
     },
     "execution_count": 13,
     "metadata": {},
     "output_type": "execute_result"
    }
   ],
   "source": [
    "df['cardio'].value_counts(normalize=True)"
   ]
  },
  {
   "cell_type": "markdown",
   "metadata": {
    "_uuid": "6f7adaaa6a257dd0da28d079ac2dfa5cc4da7acc"
   },
   "source": [
    "Para obtener como se distribuye la _clase objetivo_ entre hombres y mujeres, también se puede utilizar `crosstab`"
   ]
  },
  {
   "cell_type": "code",
   "execution_count": 91,
   "metadata": {
    "_uuid": "20528dfdcf0744268e93442021c34cf39dc91729"
   },
   "outputs": [
    {
     "data": {
      "text/html": [
       "<div>\n",
       "<style scoped>\n",
       "    .dataframe tbody tr th:only-of-type {\n",
       "        vertical-align: middle;\n",
       "    }\n",
       "\n",
       "    .dataframe tbody tr th {\n",
       "        vertical-align: top;\n",
       "    }\n",
       "\n",
       "    .dataframe thead th {\n",
       "        text-align: right;\n",
       "    }\n",
       "</style>\n",
       "<table border=\"1\" class=\"dataframe\">\n",
       "  <thead>\n",
       "    <tr style=\"text-align: right;\">\n",
       "      <th>gender</th>\n",
       "      <th>Female</th>\n",
       "      <th>Male</th>\n",
       "    </tr>\n",
       "    <tr>\n",
       "      <th>cardio</th>\n",
       "      <th></th>\n",
       "      <th></th>\n",
       "    </tr>\n",
       "  </thead>\n",
       "  <tbody>\n",
       "    <tr>\n",
       "      <th>0</th>\n",
       "      <td>0.327343</td>\n",
       "      <td>0.172957</td>\n",
       "    </tr>\n",
       "    <tr>\n",
       "      <th>1</th>\n",
       "      <td>0.323086</td>\n",
       "      <td>0.176614</td>\n",
       "    </tr>\n",
       "  </tbody>\n",
       "</table>\n",
       "</div>"
      ],
      "text/plain": [
       "gender    Female      Male\n",
       "cardio                    \n",
       "0       0.327343  0.172957\n",
       "1       0.323086  0.176614"
      ]
     },
     "execution_count": 91,
     "metadata": {},
     "output_type": "execute_result"
    }
   ],
   "source": [
    "pd.crosstab(df['cardio'],df['gender'],normalize=True)"
   ]
  },
  {
   "cell_type": "markdown",
   "metadata": {
    "_uuid": "c4b444ed6c636ef1c0f7d8c92097095525f78f23"
   },
   "source": [
    "### Cleaning Data / Limpieza de la base"
   ]
  },
  {
   "cell_type": "markdown",
   "metadata": {
    "_uuid": "fe20b7ac70dfe63dd881047cb7cd08f263269066"
   },
   "source": [
    "La base contiene filas con `NA`s o `missing values`?"
   ]
  },
  {
   "cell_type": "code",
   "execution_count": 67,
   "metadata": {
    "_uuid": "0234182335eae67ca7e431d0f3758892ababb777"
   },
   "outputs": [
    {
     "data": {
      "text/plain": [
       "0"
      ]
     },
     "execution_count": 67,
     "metadata": {},
     "output_type": "execute_result"
    }
   ],
   "source": [
    "df.isnull().values.any() # NAs en todo el dataset\n",
    "df['cholesterol'].isnull().sum() # NAs en la columna cholesterol"
   ]
  },
  {
   "cell_type": "markdown",
   "metadata": {
    "_uuid": "fcc6cbb564d80984badb387cabe665e967ff4dc3"
   },
   "source": [
    "Si observamos detenidamente las columnas `height` y `weight`, notamos que la altura mínima es de 55cm  y el peso mínimo es de 10kg. Podemos inferir que es un error, dado que la edad mínima es 29 años (10798 dias). \n",
    "\n",
    "Por otro lado, la altura máxima es 250cm y el peso máximo es 200kg, que sería irrelevante si generalizamos los datos.\n",
    "\n",
    "Para lidiar con estos errores, borramos los _outliers_."
   ]
  },
  {
   "cell_type": "code",
   "execution_count": 31,
   "metadata": {
    "_uuid": "3433b541d875c83d895613056570a9536c110a9b"
   },
   "outputs": [
    {
     "data": {
      "text/html": [
       "<div>\n",
       "<style scoped>\n",
       "    .dataframe tbody tr th:only-of-type {\n",
       "        vertical-align: middle;\n",
       "    }\n",
       "\n",
       "    .dataframe tbody tr th {\n",
       "        vertical-align: top;\n",
       "    }\n",
       "\n",
       "    .dataframe thead th {\n",
       "        text-align: right;\n",
       "    }\n",
       "</style>\n",
       "<table border=\"1\" class=\"dataframe\">\n",
       "  <thead>\n",
       "    <tr style=\"text-align: right;\">\n",
       "      <th></th>\n",
       "      <th>id</th>\n",
       "      <th>age</th>\n",
       "      <th>gender</th>\n",
       "      <th>height</th>\n",
       "      <th>weight</th>\n",
       "      <th>ap_hi</th>\n",
       "      <th>ap_lo</th>\n",
       "      <th>cholesterol</th>\n",
       "      <th>gluc</th>\n",
       "      <th>smoke</th>\n",
       "      <th>alco</th>\n",
       "      <th>active</th>\n",
       "      <th>cardio</th>\n",
       "      <th>years</th>\n",
       "      <th>BMI</th>\n",
       "    </tr>\n",
       "  </thead>\n",
       "  <tbody>\n",
       "    <tr>\n",
       "      <th>count</th>\n",
       "      <td>60142.000000</td>\n",
       "      <td>60142.000000</td>\n",
       "      <td>60142.000000</td>\n",
       "      <td>60142.000000</td>\n",
       "      <td>60142.000000</td>\n",
       "      <td>60142.000000</td>\n",
       "      <td>60142.000000</td>\n",
       "      <td>60142.000000</td>\n",
       "      <td>60142.000000</td>\n",
       "      <td>60142.000000</td>\n",
       "      <td>60142.000000</td>\n",
       "      <td>60142.000000</td>\n",
       "      <td>60142.000000</td>\n",
       "      <td>60142.000000</td>\n",
       "      <td>60142.000000</td>\n",
       "    </tr>\n",
       "    <tr>\n",
       "      <th>mean</th>\n",
       "      <td>49895.698065</td>\n",
       "      <td>19468.719979</td>\n",
       "      <td>1.347311</td>\n",
       "      <td>164.554854</td>\n",
       "      <td>73.426805</td>\n",
       "      <td>125.770526</td>\n",
       "      <td>81.046307</td>\n",
       "      <td>1.350953</td>\n",
       "      <td>1.220229</td>\n",
       "      <td>0.085631</td>\n",
       "      <td>0.051877</td>\n",
       "      <td>0.803648</td>\n",
       "      <td>0.488228</td>\n",
       "      <td>53.338798</td>\n",
       "      <td>27.170628</td>\n",
       "    </tr>\n",
       "    <tr>\n",
       "      <th>std</th>\n",
       "      <td>28840.467755</td>\n",
       "      <td>2460.510296</td>\n",
       "      <td>0.476120</td>\n",
       "      <td>6.830174</td>\n",
       "      <td>11.614806</td>\n",
       "      <td>13.761847</td>\n",
       "      <td>8.239157</td>\n",
       "      <td>0.670076</td>\n",
       "      <td>0.567607</td>\n",
       "      <td>0.279820</td>\n",
       "      <td>0.221781</td>\n",
       "      <td>0.397241</td>\n",
       "      <td>0.499866</td>\n",
       "      <td>6.746864</td>\n",
       "      <td>4.404588</td>\n",
       "    </tr>\n",
       "    <tr>\n",
       "      <th>min</th>\n",
       "      <td>0.000000</td>\n",
       "      <td>10798.000000</td>\n",
       "      <td>1.000000</td>\n",
       "      <td>150.000000</td>\n",
       "      <td>52.000000</td>\n",
       "      <td>100.000000</td>\n",
       "      <td>60.000000</td>\n",
       "      <td>1.000000</td>\n",
       "      <td>1.000000</td>\n",
       "      <td>0.000000</td>\n",
       "      <td>0.000000</td>\n",
       "      <td>0.000000</td>\n",
       "      <td>0.000000</td>\n",
       "      <td>30.000000</td>\n",
       "      <td>16.049383</td>\n",
       "    </tr>\n",
       "    <tr>\n",
       "      <th>25%</th>\n",
       "      <td>24867.500000</td>\n",
       "      <td>17677.250000</td>\n",
       "      <td>1.000000</td>\n",
       "      <td>160.000000</td>\n",
       "      <td>65.000000</td>\n",
       "      <td>120.000000</td>\n",
       "      <td>80.000000</td>\n",
       "      <td>1.000000</td>\n",
       "      <td>1.000000</td>\n",
       "      <td>0.000000</td>\n",
       "      <td>0.000000</td>\n",
       "      <td>1.000000</td>\n",
       "      <td>0.000000</td>\n",
       "      <td>48.000000</td>\n",
       "      <td>23.875115</td>\n",
       "    </tr>\n",
       "    <tr>\n",
       "      <th>50%</th>\n",
       "      <td>49902.500000</td>\n",
       "      <td>19705.000000</td>\n",
       "      <td>1.000000</td>\n",
       "      <td>165.000000</td>\n",
       "      <td>72.000000</td>\n",
       "      <td>120.000000</td>\n",
       "      <td>80.000000</td>\n",
       "      <td>1.000000</td>\n",
       "      <td>1.000000</td>\n",
       "      <td>0.000000</td>\n",
       "      <td>0.000000</td>\n",
       "      <td>1.000000</td>\n",
       "      <td>0.000000</td>\n",
       "      <td>54.000000</td>\n",
       "      <td>26.259585</td>\n",
       "    </tr>\n",
       "    <tr>\n",
       "      <th>75%</th>\n",
       "      <td>74745.750000</td>\n",
       "      <td>21321.000000</td>\n",
       "      <td>2.000000</td>\n",
       "      <td>169.000000</td>\n",
       "      <td>80.000000</td>\n",
       "      <td>135.000000</td>\n",
       "      <td>90.000000</td>\n",
       "      <td>1.000000</td>\n",
       "      <td>1.000000</td>\n",
       "      <td>0.000000</td>\n",
       "      <td>0.000000</td>\n",
       "      <td>1.000000</td>\n",
       "      <td>1.000000</td>\n",
       "      <td>58.000000</td>\n",
       "      <td>29.752066</td>\n",
       "    </tr>\n",
       "    <tr>\n",
       "      <th>max</th>\n",
       "      <td>99999.000000</td>\n",
       "      <td>23713.000000</td>\n",
       "      <td>2.000000</td>\n",
       "      <td>180.000000</td>\n",
       "      <td>106.000000</td>\n",
       "      <td>163.000000</td>\n",
       "      <td>100.000000</td>\n",
       "      <td>3.000000</td>\n",
       "      <td>3.000000</td>\n",
       "      <td>1.000000</td>\n",
       "      <td>1.000000</td>\n",
       "      <td>1.000000</td>\n",
       "      <td>1.000000</td>\n",
       "      <td>65.000000</td>\n",
       "      <td>46.666667</td>\n",
       "    </tr>\n",
       "  </tbody>\n",
       "</table>\n",
       "</div>"
      ],
      "text/plain": [
       "                 id           age        gender        height        weight  \\\n",
       "count  60142.000000  60142.000000  60142.000000  60142.000000  60142.000000   \n",
       "mean   49895.698065  19468.719979      1.347311    164.554854     73.426805   \n",
       "std    28840.467755   2460.510296      0.476120      6.830174     11.614806   \n",
       "min        0.000000  10798.000000      1.000000    150.000000     52.000000   \n",
       "25%    24867.500000  17677.250000      1.000000    160.000000     65.000000   \n",
       "50%    49902.500000  19705.000000      1.000000    165.000000     72.000000   \n",
       "75%    74745.750000  21321.000000      2.000000    169.000000     80.000000   \n",
       "max    99999.000000  23713.000000      2.000000    180.000000    106.000000   \n",
       "\n",
       "              ap_hi         ap_lo   cholesterol          gluc         smoke  \\\n",
       "count  60142.000000  60142.000000  60142.000000  60142.000000  60142.000000   \n",
       "mean     125.770526     81.046307      1.350953      1.220229      0.085631   \n",
       "std       13.761847      8.239157      0.670076      0.567607      0.279820   \n",
       "min      100.000000     60.000000      1.000000      1.000000      0.000000   \n",
       "25%      120.000000     80.000000      1.000000      1.000000      0.000000   \n",
       "50%      120.000000     80.000000      1.000000      1.000000      0.000000   \n",
       "75%      135.000000     90.000000      1.000000      1.000000      0.000000   \n",
       "max      163.000000    100.000000      3.000000      3.000000      1.000000   \n",
       "\n",
       "               alco        active        cardio         years           BMI  \n",
       "count  60142.000000  60142.000000  60142.000000  60142.000000  60142.000000  \n",
       "mean       0.051877      0.803648      0.488228     53.338798     27.170628  \n",
       "std        0.221781      0.397241      0.499866      6.746864      4.404588  \n",
       "min        0.000000      0.000000      0.000000     30.000000     16.049383  \n",
       "25%        0.000000      1.000000      0.000000     48.000000     23.875115  \n",
       "50%        0.000000      1.000000      0.000000     54.000000     26.259585  \n",
       "75%        0.000000      1.000000      1.000000     58.000000     29.752066  \n",
       "max        1.000000      1.000000      1.000000     65.000000     46.666667  "
      ]
     },
     "execution_count": 31,
     "metadata": {},
     "output_type": "execute_result"
    }
   ],
   "source": [
    "df.describe()"
   ]
  },
  {
   "cell_type": "markdown",
   "metadata": {
    "_uuid": "d87f8ede69eb9e55b45da2245a81174474c75fc6"
   },
   "source": [
    "Let's remove weights and heights, that fall below 2.5% or above 97.5% of a given range."
   ]
  },
  {
   "cell_type": "code",
   "execution_count": 17,
   "metadata": {
    "_uuid": "1fe14dc84224213cb7cbcb7816ea845d2118fdf9"
   },
   "outputs": [],
   "source": [
    "df.drop(df[(df['height'] > df['height'].quantile(0.975)) | (df['height'] < df['height'].quantile(0.025))].index,inplace=True)\n",
    "df.drop(df[(df['weight'] > df['weight'].quantile(0.975)) | (df['weight'] < df['weight'].quantile(0.025))].index,inplace=True)"
   ]
  },
  {
   "cell_type": "markdown",
   "metadata": {
    "_uuid": "de79a01459199330f6a130732b70cb3389cbb09e"
   },
   "source": [
    "In addition, in some cases diastolic pressure is higher than systolic, which is also  incorrect. How many records are inaccurate in terms of blood pressure?"
   ]
  },
  {
   "cell_type": "code",
   "execution_count": 18,
   "metadata": {
    "_uuid": "91141678854def2483023451891beb95c04d52a0"
   },
   "outputs": [
    {
     "name": "stdout",
     "output_type": "stream",
     "text": [
      "Diastilic pressure is higher than systolic one in 1082 cases\n"
     ]
    }
   ],
   "source": [
    "print(\"Diastilic pressure is higher than systolic one in {0} cases\".format(df[df['ap_lo']> df['ap_hi']].shape[0]))"
   ]
  },
  {
   "cell_type": "markdown",
   "metadata": {
    "_uuid": "fcb9134f5fd6e74b2aee506ec51c08ed8ef23c57"
   },
   "source": [
    "Let's get rid of the outliers, moreover blood pressure could not be negative value!"
   ]
  },
  {
   "cell_type": "code",
   "execution_count": 19,
   "metadata": {
    "_uuid": "4f79896c95871a6b851f355da467af20a30dc2f3"
   },
   "outputs": [],
   "source": [
    "df.drop(df[(df['ap_hi'] > df['ap_hi'].quantile(0.975)) | (df['ap_hi'] < df['ap_hi'].quantile(0.025))].index,inplace=True)\n",
    "df.drop(df[(df['ap_lo'] > df['ap_lo'].quantile(0.975)) | (df['ap_lo'] < df['ap_lo'].quantile(0.025))].index,inplace=True)"
   ]
  },
  {
   "cell_type": "code",
   "execution_count": 20,
   "metadata": {
    "_uuid": "2c08ee6af3402fc86b169346898fef2bf4ef7250"
   },
   "outputs": [
    {
     "name": "stdout",
     "output_type": "stream",
     "text": [
      "Diastilic pressure is higher than systolic one in 0 cases\n"
     ]
    },
    {
     "data": {
      "image/png": "[encoded data removed]",
      "text/plain": [
       "<Figure size 792x576 with 1 Axes>"
      ]
     },
     "metadata": {
      "needs_background": "light"
     },
     "output_type": "display_data"
    }
   ],
   "source": [
    "blood_pressure = df.loc[:,['ap_lo','ap_hi']]\n",
    "sns.boxplot(x = 'variable',y = 'value',data = blood_pressure.melt())\n",
    "print(\"Diastilic pressure is higher than systolic one in {0} cases\".format(df[df['ap_lo']> df['ap_hi']].shape[0]))"
   ]
  },
  {
   "cell_type": "markdown",
   "metadata": {
    "_uuid": "9fce6e5f362e44fe9e19f6c5b05fc62db3105421"
   },
   "source": [
    "#### Análisis multivariado\n",
    "\n",
    "Puede resultar de utilidad utilizar una matriz de correlación:"
   ]
  },
  {
   "cell_type": "code",
   "execution_count": 37,
   "metadata": {
    "_uuid": "512818819d8f6e33377aef5a18ede5fa1a9d295c"
   },
   "outputs": [
    {
     "data": {
      "image/png": "[encoded data removed]",
      "text/plain": [
       "<Figure size 792x648 with 2 Axes>"
      ]
     },
     "metadata": {
      "needs_background": "light"
     },
     "output_type": "display_data"
    }
   ],
   "source": [
    "corr = df.corr()\n",
    "cmap = sns.diverging_palette(220, 10, as_cmap=True)\n",
    "# Generate a mask for the upper triangle\n",
    "mask = np.zeros_like(corr, dtype=np.bool)\n",
    "mask[np.triu_indices_from(mask)] = True\n",
    "\n",
    "# Set up the matplotlib figure\n",
    "f, ax = plt.subplots(figsize=(11, 9))\n",
    "# Draw the heatmap with the mask and correct aspect ratio\n",
    "sns.heatmap(corr, mask=mask, cmap=cmap, vmax=.3, center=0,annot = True,\n",
    "            square=True, linewidths=.5, cbar_kws={\"shrink\": .5});"
   ]
  },
  {
   "cell_type": "markdown",
   "metadata": {
    "_uuid": "5082a897ab5ccede9e6bd744da82f9861b0122fe"
   },
   "source": [
    "Como podemos observar, `age` y `cholesterol` tienen un impacto significativo, pero no están altamente correlacionados con la _clase objetivo_"
   ]
  },
  {
   "cell_type": "markdown",
   "metadata": {
    "_uuid": "50b88a76d3c9355d7285bc88edbb5c6999c79014"
   },
   "source": [
    "Vamos a crear un `violinplot` para mostrar la distribución de la altura en los diferentes sexos. \n",
    "\n",
    "Tomando sólo el valor medio de la altura y el peso para cada valor de la variable `gender` puede no ser suficiente para determinar si '1' equivale a hombre o mujer."
   ]
  },
  {
   "cell_type": "code",
   "execution_count": 90,
   "metadata": {
    "_uuid": "898c7b2e3be9a6d72a2f70e0a91c41acd359aea8"
   },
   "outputs": [
    {
     "data": {
      "image/png": "[encoded data removed]",
      "text/plain": [
       "<Figure size 864x720 with 1 Axes>"
      ]
     },
     "metadata": {
      "needs_background": "light"
     },
     "output_type": "display_data"
    }
   ],
   "source": [
    "import warnings\n",
    "warnings.filterwarnings(\"ignore\")\n",
    "df_melt = pd.melt(frame=df, value_vars=['height'], id_vars=['gender'])\n",
    "plt.figure(figsize=(12, 10))\n",
    "ax = sns.violinplot(\n",
    "    x='variable', \n",
    "    y='value', \n",
    "    hue='gender', \n",
    "    split=True, \n",
    "    data=df_melt, \n",
    "    scale='count',\n",
    "    scale_hue=False,\n",
    "    palette=\"Set2\");"
   ]
  },
  {
   "cell_type": "markdown",
   "metadata": {
    "_uuid": "31d519cdcef76584ecf9865f08cfa11104ee28db"
   },
   "source": [
    "Vamos a crear una nueva variable: Body Mass Index (BMI) ó índice de masa muscular.\n",
    "\n",
    "$$BMI = \\frac {mass_{kg}} {height ^2_{m}},$$\n",
    "\n",
    "y comparamos el promedio de BMI para las personas sanas con el promedio de BMI para personas enfermas.\n",
    "\n",
    "(los valores normales de BMI se encuentran en 18.5 y 25)"
   ]
  },
  {
   "cell_type": "code",
   "execution_count": 68,
   "metadata": {
    "_uuid": "9f188156d8bdf0a741b6136f5c23d247c3516151"
   },
   "outputs": [
    {
     "data": {
      "image/png": "[encoded data removed]",
      "text/plain": [
       "<Figure size 1060x720 with 2 Axes>"
      ]
     },
     "metadata": {
      "needs_background": "light"
     },
     "output_type": "display_data"
    }
   ],
   "source": [
    "df['BMI'] = df['weight']/((df['height']/100)**2)\n",
    "sns.catplot(x=\"gender\", y=\"BMI\", hue=\"alco\", col=\"cardio\", data=df, color = \"yellow\",kind=\"box\", height=10, aspect=.7);"
   ]
  },
  {
   "cell_type": "markdown",
   "metadata": {
    "_uuid": "d4a689d02eaee7fe10548e95e8c72d254d0e5088"
   },
   "source": [
    "Las mujeres que beben alcohol tienen un mayor riesgo de CVD que los hombres que consumen alochol, según su BMI."
   ]
  },
  {
   "cell_type": "markdown",
   "metadata": {
    "_uuid": "a0e2acef1d1259d94adbf83a391e50b3b59ac374"
   },
   "source": [
    "*To be continued*"
   ]
  },
  {
   "cell_type": "code",
   "execution_count": null,
   "metadata": {
    "_uuid": "0ad3727c1d992034c461d5185921cdf0eab450e7"
   },
   "outputs": [],
   "source": []
  }
 ],
 "metadata": {
  "hide_input": false,
  "kernelspec": {
   "display_name": "Python 3",
   "language": "python",
   "name": "python3"
  },
  "language_info": {
   "codemirror_mode": {
    "name": "ipython",
    "version": 3
   },
   "file_extension": ".py",
   "mimetype": "text/x-python",
   "name": "python",
   "nbconvert_exporter": "python",
   "pygments_lexer": "ipython3",
   "version": "3.8.10"
  }
 },
 "nbformat": 4,
 "nbformat_minor": 1
}
