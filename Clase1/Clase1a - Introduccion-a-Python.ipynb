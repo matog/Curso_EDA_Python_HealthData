{
  "nbformat": 4,
  "nbformat_minor": 0,
  "metadata": {
    "anaconda-cloud": {},
    "hide_input": false,
    "kernelspec": {
      "display_name": "Python 3",
      "language": "python",
      "name": "python3"
    },
    "language_info": {
      "codemirror_mode": {
        "name": "ipython",
        "version": 3
      },
      "file_extension": ".py",
      "mimetype": "text/x-python",
      "name": "python",
      "nbconvert_exporter": "python",
      "pygments_lexer": "ipython3",
      "version": "3.8.10"
    },
    "colab": {
      "name": "Clase1a - Introduccion-a-Python.ipynb",
      "provenance": []
    }
  },
  "cells": [
    {
      "cell_type": "markdown",
      "metadata": {
        "id": "KGUCeVwqnGQF"
      },
      "source": [
        "Fuente: https://github.com/gfrubi/TP17"
      ]
    },
    {
      "cell_type": "markdown",
      "metadata": {
        "id": "evHyRuacnGQJ"
      },
      "source": [
        "# Introducción a la programación en Python"
      ]
    },
    {
      "cell_type": "markdown",
      "metadata": {
        "id": "P8Y3jseHnGQM"
      },
      "source": [
        "Versión original en inglés de [J.R. Johansson](http://jrjohansson.github.io/) (robert@riken.jp).\n",
        "\n",
        "Traducido/Adaptado por [G.F. Rubilar](http://google.com/+GuillermoRubilar).\n",
        "\n",
        "La última versión de estos [Notebooks](http://ipython.org/notebook.html) está disponible en [http://github.com/gfrubi/clases-python-cientifico](http://github.com/gfrubi/clases-python-cientifico).\n",
        "\n",
        "La última versión del original (en inglés) está disponible en [http://github.com/jrjohansson/scientific-python-lectures](http://github.com/jrjohansson/scientific-python-lectures).\n",
        "Los otros notebooks de esta serie están listados en [http://jrjohansson.github.com](http://jrjohansson.github.com)."
      ]
    },
    {
      "cell_type": "markdown",
      "metadata": {
        "id": "UBV4ahE4nGQO"
      },
      "source": [
        "## Cómo instalar Python? \n",
        "\n",
        "Tutorial sobre como instalar Python en Windows, Mac y Linux: https://tutorial.djangogirls.org/es/python_installation/"
      ]
    },
    {
      "cell_type": "markdown",
      "metadata": {
        "id": "SxuWBhodnGQO"
      },
      "source": [
        "## Archivos de programa en Python"
      ]
    },
    {
      "cell_type": "markdown",
      "metadata": {
        "id": "4JdqxZJ8nGQQ"
      },
      "source": [
        "* El código Python es usualmente almacenado en archivos de texto con extensión \"`.py`\" (un \"script\"):\n",
        "\n",
        "        miprograma.py\n",
        "\n",
        "* Se asume que cada línea de un archivo de programa en Python es una sentencia Python, o parte de una sentencia. \n",
        "\n",
        "    * La única excepción son las líneas de comentarios, que comienzan con el caracter `#` (opcionalmente precedida por un número arbitrario de caracteres de espacio en blanco, es decir, tabs y espacios. Las líneas de comentarios son usualmente ignoradas por el intérprete Python.\n",
        "\n",
        "\n",
        "* Para ejecutar nuestro programa Python desde la línea de comando usamos:\n",
        "\n",
        "        $ python miprograma.py\n",
        "\n",
        "* En sistemas UNIX es común definir la ruta al intérprete en la primera línea del programa (note que ésta es una línea de comentarios en lo que respecta al intérprete Python):\n",
        "\n",
        "        #!/usr/bin/env python\n",
        "\n",
        "  Si hacemos esto, y adicionalmente configuramos el archivo para que sea ejecutable, podemos correr el programa usando:\n",
        "\n",
        "        $ miprograma.py"
      ]
    },
    {
      "cell_type": "markdown",
      "metadata": {
        "heading_collapsed": true,
        "id": "hyuH5Ip4nGQR"
      },
      "source": [
        "### Codificación de caracteres"
      ]
    },
    {
      "cell_type": "markdown",
      "metadata": {
        "hidden": true,
        "id": "3ot3h26PnGQR"
      },
      "source": [
        "La codificación estándar de caracteres es la ASCII, pero podemos usar cualquier otra codificación, por ejemplo UTF-8. Para especificar que usamos UTF-8 incluimos la línea especial\n",
        "\n",
        "    # -*- coding: UTF-8 -*-\n",
        "\n",
        "al comienzo del archivo."
      ]
    },
    {
      "cell_type": "markdown",
      "metadata": {
        "hidden": true,
        "id": "yn3jZy_OnGQS"
      },
      "source": [
        "Aparte de estas dos líneas *opcionales* al comienzo de un archivo Python, no se requiere de otro código adicional para inicializar un programa. Por otro lado, en la versión 3 de Python ya no es necesario agregar código extra alguno."
      ]
    },
    {
      "cell_type": "markdown",
      "metadata": {
        "id": "P2RNWaz1nGQU"
      },
      "source": [
        "## Jupyter Notebooks"
      ]
    },
    {
      "cell_type": "markdown",
      "metadata": {
        "id": "eND-5q_RnGQW"
      },
      "source": [
        "Este archivo - un Jupyter/IPython notebook -  no sigue el patrón estándar de código Python en un archivo de texto. En su lugar, un notebook IPython es almacenado como un archivo en el formato [JSON](http://es.wikipedia.org/wiki/JSON). La ventaja es que podemos mezclar texto formateado, código Python, y código de salida. Esto requiere estar ejecutando un servidor de notebook IPython, y por eso este tipo de archivo no es un programa Python independiente como se describió antes. Aparte de eso, no hay diferencia entre el código Python en un archivo de programa o en un notebook IPython."
      ]
    },
    {
      "cell_type": "markdown",
      "metadata": {
        "id": "27qsZtKQnGQX"
      },
      "source": [
        "## Variables y tipos"
      ]
    },
    {
      "cell_type": "markdown",
      "metadata": {
        "id": "892BblX5nGQX"
      },
      "source": [
        "### Nombres de símbolos"
      ]
    },
    {
      "cell_type": "markdown",
      "metadata": {
        "id": "m8Emk-kTnGQX"
      },
      "source": [
        " Los nombres de las variables en Python pueden contener los caracteres `a-z`, `A-Z`, `0-9` y algunos caracteres especiales como `_`. Los nombres de variables normales deben comenzar con una letra. \n",
        "\n",
        "Por convención, los nombres de las variables comienzan con letra minúscula, mientras que los nombres de las clases comienzan con una letra mayúscula. \n",
        "\n",
        "Además, existen algunos palabras claves Python que no pueden ser usados como nombres de variables. Éstas son:\n",
        "\n",
        "    and, as, assert, break, class, continue, def, del, elif, else, except, \n",
        "    exec, finally, for, from, global, if, import, in, is, lambda, not, or,\n",
        "    pass, print, raise, return, try, while, with, yield\n",
        "\n",
        "Nota: Atención con la palabra `lambda`, que podría fácilmente ser un nombre de variable natural en un programa científico. Sin embargo, como es una palabra clave, no puede ser usado como nombre de una variable."
      ]
    },
    {
      "cell_type": "markdown",
      "metadata": {
        "id": "VFS1x1b8nGQY"
      },
      "source": [
        "### Asignaciones"
      ]
    },
    {
      "cell_type": "markdown",
      "metadata": {
        "id": "5xBPAN-vnGQY"
      },
      "source": [
        "El operador para asignar valores en Python es el signo igual (`=`). Python es un lenguage de _escritura dinámica_, de modo que no necesitamos especificar el tipo de una variable cuando la creamos.\n",
        "\n",
        "Al asignar un valor a una variable nueva se crea esa variable:"
      ]
    },
    {
      "cell_type": "code",
      "metadata": {
        "id": "5hd0A2DynGQY"
      },
      "source": [
        "# asignaciones de variables\n",
        "x = 1.0\n",
        "mi_variable = 12.2"
      ],
      "execution_count": null,
      "outputs": []
    },
    {
      "cell_type": "markdown",
      "metadata": {
        "id": "KCs_y4X9nGQa"
      },
      "source": [
        "Aunque no se especifique explícitamente, cada variable sí tiene un tipo asociada a ella. El tipo es extraido del valor que le fue asignado."
      ]
    },
    {
      "cell_type": "code",
      "metadata": {
        "id": "usT9MgtInGQa",
        "outputId": "b3f34ba0-6a35-48b4-ce97-b6eb649336cd"
      },
      "source": [
        "type(x)"
      ],
      "execution_count": null,
      "outputs": [
        {
          "data": {
            "text/plain": [
              "float"
            ]
          },
          "execution_count": 2,
          "metadata": {},
          "output_type": "execute_result"
        }
      ]
    },
    {
      "cell_type": "markdown",
      "metadata": {
        "id": "fRNtnnE1nGQc"
      },
      "source": [
        "Si asignamos un nuevo valor a una variable, su tipo puede cambiar."
      ]
    },
    {
      "cell_type": "code",
      "metadata": {
        "id": "7gqPG9FVnGQd"
      },
      "source": [
        "x = 1"
      ],
      "execution_count": null,
      "outputs": []
    },
    {
      "cell_type": "code",
      "metadata": {
        "id": "I0FVFJm7nGQd",
        "outputId": "6b768b2b-c7c8-4cb2-af46-26305530054b"
      },
      "source": [
        "type(x)"
      ],
      "execution_count": null,
      "outputs": [
        {
          "data": {
            "text/plain": [
              "int"
            ]
          },
          "execution_count": 4,
          "metadata": {},
          "output_type": "execute_result"
        }
      ]
    },
    {
      "cell_type": "markdown",
      "metadata": {
        "id": "CIeTOVYZnGQd"
      },
      "source": [
        "Si tratamos de usar una variable que no ha sido definida obtenemo un mensaje de error (`NameError`):"
      ]
    },
    {
      "cell_type": "code",
      "metadata": {
        "id": "Q0pFAMtxnGQe",
        "outputId": "e676c612-9d7f-49e3-d347-b2569b8a800a"
      },
      "source": [
        "print(y)"
      ],
      "execution_count": null,
      "outputs": [
        {
          "ename": "NameError",
          "evalue": "name 'y' is not defined",
          "output_type": "error",
          "traceback": [
            "\u001b[0;31m---------------------------------------------------------------------------\u001b[0m",
            "\u001b[0;31mNameError\u001b[0m                                 Traceback (most recent call last)",
            "\u001b[0;32m<ipython-input-5-36b2093251cd>\u001b[0m in \u001b[0;36m<module>\u001b[0;34m()\u001b[0m\n\u001b[0;32m----> 1\u001b[0;31m \u001b[0;32mprint\u001b[0m\u001b[0;34m(\u001b[0m\u001b[0my\u001b[0m\u001b[0;34m)\u001b[0m\u001b[0;34m\u001b[0m\u001b[0m\n\u001b[0m",
            "\u001b[0;31mNameError\u001b[0m: name 'y' is not defined"
          ]
        }
      ]
    },
    {
      "cell_type": "markdown",
      "metadata": {
        "id": "WaB-T9BdnGQe"
      },
      "source": [
        "### Tipos Fundamentales"
      ]
    },
    {
      "cell_type": "code",
      "metadata": {
        "id": "1BvefIxNnGQe",
        "outputId": "37578c1a-99cd-4254-e376-e25380d4295d"
      },
      "source": [
        "# enteros\n",
        "x = 1\n",
        "type(x)"
      ],
      "execution_count": null,
      "outputs": [
        {
          "data": {
            "text/plain": [
              "int"
            ]
          },
          "execution_count": 6,
          "metadata": {},
          "output_type": "execute_result"
        }
      ]
    },
    {
      "cell_type": "code",
      "metadata": {
        "id": "MsZZLG98nGQf",
        "outputId": "0e58f9b3-0ff7-4ad7-ff8a-57457d6ad93b"
      },
      "source": [
        "# flotantes\n",
        "x = 1.0\n",
        "type(x)"
      ],
      "execution_count": null,
      "outputs": [
        {
          "data": {
            "text/plain": [
              "float"
            ]
          },
          "execution_count": 7,
          "metadata": {},
          "output_type": "execute_result"
        }
      ]
    },
    {
      "cell_type": "code",
      "metadata": {
        "id": "Ez0N3CRTnGQf",
        "outputId": "bd022422-6787-471e-e8e9-653de6c5cda9"
      },
      "source": [
        "# booleanos\n",
        "b1 = True\n",
        "b2 = False\n",
        "\n",
        "type(b1)"
      ],
      "execution_count": null,
      "outputs": [
        {
          "data": {
            "text/plain": [
              "bool"
            ]
          },
          "execution_count": 8,
          "metadata": {},
          "output_type": "execute_result"
        }
      ]
    },
    {
      "cell_type": "code",
      "metadata": {
        "id": "hVVoXl6YnGQg",
        "outputId": "e0373fd9-1fa0-43de-b208-3d8c24e71522"
      },
      "source": [
        "# números complejos: note que se usa `j` para especificar la parte imaginaria\n",
        "x = 1.0 - 1.0j\n",
        "type(x)"
      ],
      "execution_count": null,
      "outputs": [
        {
          "data": {
            "text/plain": [
              "complex"
            ]
          },
          "execution_count": 9,
          "metadata": {},
          "output_type": "execute_result"
        }
      ]
    },
    {
      "cell_type": "code",
      "metadata": {
        "id": "94_cQyonnGQg",
        "outputId": "9863a3e0-885d-4264-b353-91723172b2a8"
      },
      "source": [
        "print(x)"
      ],
      "execution_count": null,
      "outputs": [
        {
          "name": "stdout",
          "output_type": "stream",
          "text": [
            "(1-1j)\n"
          ]
        }
      ]
    },
    {
      "cell_type": "code",
      "metadata": {
        "scrolled": true,
        "id": "3BOhrtewnGQg",
        "outputId": "f0044eb7-fc24-42ec-de72-be68be8c3483"
      },
      "source": [
        "print(x.real, x.imag)"
      ],
      "execution_count": null,
      "outputs": [
        {
          "name": "stdout",
          "output_type": "stream",
          "text": [
            "(1.0, -1.0)\n"
          ]
        }
      ]
    },
    {
      "cell_type": "code",
      "metadata": {
        "id": "oIrij7TBnGQh",
        "outputId": "0d316de9-ff21-4fc9-86e3-6b17f40a120d"
      },
      "source": [
        "x = 1.0\n",
        "\n",
        "# verifica si la variable x es flotante\n",
        "type(x) is float"
      ],
      "execution_count": null,
      "outputs": [
        {
          "data": {
            "text/plain": [
              "True"
            ]
          },
          "execution_count": 12,
          "metadata": {},
          "output_type": "execute_result"
        }
      ]
    },
    {
      "cell_type": "code",
      "metadata": {
        "id": "inPshCWInGQi",
        "outputId": "09c55d35-435e-45ff-a699-40d6ac8719fc"
      },
      "source": [
        "# verifica si la variable x es un entero\n",
        "type(x) is int"
      ],
      "execution_count": null,
      "outputs": [
        {
          "data": {
            "text/plain": [
              "False"
            ]
          },
          "execution_count": 13,
          "metadata": {},
          "output_type": "execute_result"
        }
      ]
    },
    {
      "cell_type": "markdown",
      "metadata": {
        "id": "qEhgwD2FnGQj"
      },
      "source": [
        "Podemos también usar el método `isinstance` para testear tipos de variables:"
      ]
    },
    {
      "cell_type": "code",
      "metadata": {
        "id": "Qwv9IV9LnGQj",
        "outputId": "97864a6e-bf29-4253-8eb6-94736e3fa661"
      },
      "source": [
        "isinstance(x, float)"
      ],
      "execution_count": null,
      "outputs": [
        {
          "data": {
            "text/plain": [
              "True"
            ]
          },
          "execution_count": 14,
          "metadata": {},
          "output_type": "execute_result"
        }
      ]
    },
    {
      "cell_type": "markdown",
      "metadata": {
        "id": "4ba9TCMDnGQj"
      },
      "source": [
        "### Conversión de Tipo"
      ]
    },
    {
      "cell_type": "code",
      "metadata": {
        "id": "fDcCRXJcnGQk",
        "outputId": "b4b7546a-9890-464d-8b89-9c52df29d6df"
      },
      "source": [
        "x = 1.5\n",
        "\n",
        "print(x, type(x))"
      ],
      "execution_count": null,
      "outputs": [
        {
          "name": "stdout",
          "output_type": "stream",
          "text": [
            "(1.5, <type 'float'>)\n"
          ]
        }
      ]
    },
    {
      "cell_type": "code",
      "metadata": {
        "id": "SSX2QjWtnGQl",
        "outputId": "236de70c-207e-4861-b0e9-3a6b7c1e7dd7"
      },
      "source": [
        "x = int(x)\n",
        "\n",
        "print(x, type(x))"
      ],
      "execution_count": null,
      "outputs": [
        {
          "name": "stdout",
          "output_type": "stream",
          "text": [
            "(1, <type 'int'>)\n"
          ]
        }
      ]
    },
    {
      "cell_type": "code",
      "metadata": {
        "id": "MRU59KyEnGQl",
        "outputId": "94233830-2f0c-47ab-948e-c73b9827acc0"
      },
      "source": [
        "z = complex(x)\n",
        "\n",
        "print(z, type(z))"
      ],
      "execution_count": null,
      "outputs": [
        {
          "name": "stdout",
          "output_type": "stream",
          "text": [
            "((1+0j), <type 'complex'>)\n"
          ]
        }
      ]
    },
    {
      "cell_type": "code",
      "metadata": {
        "id": "nL5ejwUnnGQm",
        "outputId": "5942d477-114d-41fc-952f-eab6d0193bc0"
      },
      "source": [
        "x = float(z)"
      ],
      "execution_count": null,
      "outputs": [
        {
          "ename": "TypeError",
          "evalue": "can't convert complex to float",
          "output_type": "error",
          "traceback": [
            "\u001b[0;31m---------------------------------------------------------------------------\u001b[0m",
            "\u001b[0;31mTypeError\u001b[0m                                 Traceback (most recent call last)",
            "\u001b[0;32m<ipython-input-18-e719cc7b3e96>\u001b[0m in \u001b[0;36m<module>\u001b[0;34m()\u001b[0m\n\u001b[0;32m----> 1\u001b[0;31m \u001b[0mx\u001b[0m \u001b[0;34m=\u001b[0m \u001b[0mfloat\u001b[0m\u001b[0;34m(\u001b[0m\u001b[0mz\u001b[0m\u001b[0;34m)\u001b[0m\u001b[0;34m\u001b[0m\u001b[0m\n\u001b[0m",
            "\u001b[0;31mTypeError\u001b[0m: can't convert complex to float"
          ]
        }
      ]
    },
    {
      "cell_type": "markdown",
      "metadata": {
        "id": "MhZK0N7YnGQm"
      },
      "source": [
        "Un número complejo no puede ser convertido a un número flotante o a un entero. Necesitamos usar `z.real`, o bien `z.imag`, para extraer la parte que deseamos del número complejo z:"
      ]
    },
    {
      "cell_type": "code",
      "metadata": {
        "id": "DHoxTAnNnGQm",
        "outputId": "7bf3b08b-6de0-42f6-d4cd-030ffc927339"
      },
      "source": [
        "y = bool(z.real)\n",
        "\n",
        "print(z.real, \" -> \", y, type(y))\n",
        "\n",
        "y = bool(z.imag)\n",
        "\n",
        "print(z.imag, \" -> \", y, type(y))"
      ],
      "execution_count": null,
      "outputs": [
        {
          "name": "stdout",
          "output_type": "stream",
          "text": [
            "(1.0, ' -> ', True, <type 'bool'>)\n",
            "(0.0, ' -> ', False, <type 'bool'>)\n"
          ]
        }
      ]
    },
    {
      "cell_type": "markdown",
      "metadata": {
        "id": "a2Kaqhw6nGQn"
      },
      "source": [
        "## Operadores y comparaciones\n",
        "\n",
        "La mayoría de los operadores y las comparaciones en Python funcionan como se esperaría:\n",
        "\n",
        "* Operadores aritméticos `+`, `-`, `*`, `/`, `//` (división entera), '**' potencia\n"
      ]
    },
    {
      "cell_type": "code",
      "metadata": {
        "id": "BvfmdoF_nGQn",
        "outputId": "def8ffa5-f593-42a8-c54e-045db01ca18c"
      },
      "source": [
        "1 + 2, 1 - 2, 1 * 2, 1 / 2"
      ],
      "execution_count": null,
      "outputs": [
        {
          "data": {
            "text/plain": [
              "(3, -1, 2, 0)"
            ]
          },
          "execution_count": 20,
          "metadata": {},
          "output_type": "execute_result"
        }
      ]
    },
    {
      "cell_type": "code",
      "metadata": {
        "id": "lkOXvkhjnGQn",
        "outputId": "f0037874-1f4e-4853-818e-6da6f2bfbfd6"
      },
      "source": [
        "1.0 + 2.0, 1.0 - 2.0, 1.0 * 2.0, 1.0 / 2.0"
      ],
      "execution_count": null,
      "outputs": [
        {
          "data": {
            "text/plain": [
              "(3.0, -1.0, 2.0, 0.5)"
            ]
          },
          "execution_count": 21,
          "metadata": {},
          "output_type": "execute_result"
        }
      ]
    },
    {
      "cell_type": "code",
      "metadata": {
        "id": "LMHuB8oanGQo",
        "outputId": "177cca1f-13ea-413e-dfa8-0fee0bba073c"
      },
      "source": [
        "# División entera de dos númenos flotantes\n",
        "3.0 // 2.0"
      ],
      "execution_count": null,
      "outputs": [
        {
          "data": {
            "text/plain": [
              "1.0"
            ]
          },
          "execution_count": 22,
          "metadata": {},
          "output_type": "execute_result"
        }
      ]
    },
    {
      "cell_type": "code",
      "metadata": {
        "id": "1AlpteJsnGQo",
        "outputId": "d82932bb-53df-46fb-be0b-bcef295d9c8a"
      },
      "source": [
        "# Atención! El operador de potencia en Python no es ^, sino **\n",
        "2**2"
      ],
      "execution_count": null,
      "outputs": [
        {
          "data": {
            "text/plain": [
              "4"
            ]
          },
          "execution_count": 23,
          "metadata": {},
          "output_type": "execute_result"
        }
      ]
    },
    {
      "cell_type": "markdown",
      "metadata": {
        "id": "UJOvmBRGnGQo"
      },
      "source": [
        "* Los operadores booleanos se escriben como palabras: `and`, `not`, `or`. "
      ]
    },
    {
      "cell_type": "code",
      "metadata": {
        "id": "thbNeyninGQo",
        "outputId": "e775b8f5-0ff0-4f52-f05e-ae01b0090429"
      },
      "source": [
        "True and False"
      ],
      "execution_count": null,
      "outputs": [
        {
          "data": {
            "text/plain": [
              "False"
            ]
          },
          "execution_count": 24,
          "metadata": {},
          "output_type": "execute_result"
        }
      ]
    },
    {
      "cell_type": "code",
      "metadata": {
        "id": "kJR5CE6bnGQp",
        "outputId": "ee0ff9d2-f2bc-4373-f624-50fcc2484c07"
      },
      "source": [
        "not False"
      ],
      "execution_count": null,
      "outputs": [
        {
          "data": {
            "text/plain": [
              "True"
            ]
          },
          "execution_count": 25,
          "metadata": {},
          "output_type": "execute_result"
        }
      ]
    },
    {
      "cell_type": "code",
      "metadata": {
        "id": "f2wHN9_dnGQp",
        "outputId": "fcd56e17-3015-46fe-8c80-7bb691e9dc3d"
      },
      "source": [
        "True or False"
      ],
      "execution_count": null,
      "outputs": [
        {
          "data": {
            "text/plain": [
              "True"
            ]
          },
          "execution_count": 26,
          "metadata": {},
          "output_type": "execute_result"
        }
      ]
    },
    {
      "cell_type": "markdown",
      "metadata": {
        "id": "mB7USepinGQp"
      },
      "source": [
        "* Operadores de comparación `>`, `<`, `>=` (mayor o igual), `<=` (menor o igual), `==` igualdad, `es` idéntico."
      ]
    },
    {
      "cell_type": "code",
      "metadata": {
        "id": "W5LzmqdOnGQq",
        "outputId": "347534d3-e174-45d3-86a5-32cb2be635d8"
      },
      "source": [
        "2 > 1, 2 < 1"
      ],
      "execution_count": null,
      "outputs": [
        {
          "data": {
            "text/plain": [
              "(True, False)"
            ]
          },
          "execution_count": 27,
          "metadata": {},
          "output_type": "execute_result"
        }
      ]
    },
    {
      "cell_type": "code",
      "metadata": {
        "id": "dQnGSRhXnGQr",
        "outputId": "c017f40a-462d-49a2-9f28-bd804e836848"
      },
      "source": [
        "2 > 2, 2 < 2"
      ],
      "execution_count": null,
      "outputs": [
        {
          "data": {
            "text/plain": [
              "(False, False)"
            ]
          },
          "execution_count": 28,
          "metadata": {},
          "output_type": "execute_result"
        }
      ]
    },
    {
      "cell_type": "code",
      "metadata": {
        "id": "3G4PWVgLnGQr",
        "outputId": "e98cf803-8f08-465d-e458-6caaabeef9f0"
      },
      "source": [
        "2 >= 2, 2 <= 2"
      ],
      "execution_count": null,
      "outputs": [
        {
          "data": {
            "text/plain": [
              "(True, True)"
            ]
          },
          "execution_count": 29,
          "metadata": {},
          "output_type": "execute_result"
        }
      ]
    },
    {
      "cell_type": "code",
      "metadata": {
        "id": "xU_M7CHBnGQr",
        "outputId": "68e1c487-9c88-4f6b-d1b1-45c18d7356ae"
      },
      "source": [
        "# igualdad\n",
        "[1,2] == [1,2]"
      ],
      "execution_count": null,
      "outputs": [
        {
          "data": {
            "text/plain": [
              "True"
            ]
          },
          "execution_count": 30,
          "metadata": {},
          "output_type": "execute_result"
        }
      ]
    },
    {
      "cell_type": "code",
      "metadata": {
        "id": "FQDwIS-bnGQr",
        "outputId": "79130678-fd51-4765-b340-4f4c94ac534a"
      },
      "source": [
        "# ¿objetos idénticos?\n",
        "l1 = l2 = [1,2]\n",
        "\n",
        "l1 is l2"
      ],
      "execution_count": null,
      "outputs": [
        {
          "data": {
            "text/plain": [
              "True"
            ]
          },
          "execution_count": 31,
          "metadata": {},
          "output_type": "execute_result"
        }
      ]
    },
    {
      "cell_type": "markdown",
      "metadata": {
        "id": "D2EzPCnvnGQs"
      },
      "source": [
        "## Tipos compuestos: Cadenas, listas y diccionarios\n",
        "\n",
        "### Cadenas\n",
        "\n",
        "Las cadenas son el tipo de variables que es usado para almacenar mensajes de texto. "
      ]
    },
    {
      "cell_type": "code",
      "metadata": {
        "id": "7IwZeWH_nGQs",
        "outputId": "b1befbe3-29a1-42a6-f8a6-36bc2ab6f918"
      },
      "source": [
        "s = \"Hola mundo\"\n",
        "type(s)"
      ],
      "execution_count": null,
      "outputs": [
        {
          "data": {
            "text/plain": [
              "str"
            ]
          },
          "execution_count": 32,
          "metadata": {},
          "output_type": "execute_result"
        }
      ]
    },
    {
      "cell_type": "code",
      "metadata": {
        "id": "NIz9IxY0nGQs",
        "outputId": "bd58af63-830c-4e81-d82b-d46a7c1d74dc"
      },
      "source": [
        "# longitud de la cadena: el número de caracteres que contiene\n",
        "len(s)"
      ],
      "execution_count": null,
      "outputs": [
        {
          "data": {
            "text/plain": [
              "10"
            ]
          },
          "execution_count": 33,
          "metadata": {},
          "output_type": "execute_result"
        }
      ]
    },
    {
      "cell_type": "code",
      "metadata": {
        "id": "yfTFERI5nGQs",
        "outputId": "9803c4c4-e22d-4010-98e9-7f40d41802d0"
      },
      "source": [
        "# reemplaza una subcadena de una cadena por cadena\n",
        "s2 = s.replace(\"mundo\", \"universo\")\n",
        "print(s2)"
      ],
      "execution_count": null,
      "outputs": [
        {
          "name": "stdout",
          "output_type": "stream",
          "text": [
            "Hola universo\n"
          ]
        }
      ]
    },
    {
      "cell_type": "markdown",
      "metadata": {
        "id": "U_J-D8WgnGQt"
      },
      "source": [
        "Podemos aislar un carácter en una cadena usando `[]`:"
      ]
    },
    {
      "cell_type": "code",
      "metadata": {
        "id": "cRsIbLifnGQt",
        "outputId": "55d426d7-f1d6-4311-8d26-df161c4f4a4d"
      },
      "source": [
        "s[0]"
      ],
      "execution_count": null,
      "outputs": [
        {
          "data": {
            "text/plain": [
              "'H'"
            ]
          },
          "execution_count": 35,
          "metadata": {},
          "output_type": "execute_result"
        }
      ]
    },
    {
      "cell_type": "markdown",
      "metadata": {
        "id": "ftE5unWrnGQt"
      },
      "source": [
        "**Atención usuarios de MATLAB:** el indexado comienza en 0!\n",
        "\n",
        "Podemos extraer una parte de una cadena usando la sintaxis `[desde:hasta]`, que extrae caracteres entre los índices  `desde` y `hasta` **sin incluir el elemento con índice `hasta'**:"
      ]
    },
    {
      "cell_type": "code",
      "metadata": {
        "id": "2XV_X2ybnGQu",
        "outputId": "6961a74c-5a6f-4d74-96ab-1abecb5ec5b4"
      },
      "source": [
        "s[0:5]"
      ],
      "execution_count": null,
      "outputs": [
        {
          "data": {
            "text/plain": [
              "'Hola '"
            ]
          },
          "execution_count": 36,
          "metadata": {},
          "output_type": "execute_result"
        }
      ]
    },
    {
      "cell_type": "markdown",
      "metadata": {
        "id": "h80FYrQnnGQv"
      },
      "source": [
        "Si omitimos `desde` o bien `hasta` de `[desde:hasta]`, por defecto se entiende que se refiere al comienzo y/o al fin de la cadena, respectivamente:"
      ]
    },
    {
      "cell_type": "code",
      "metadata": {
        "id": "NySOpQKjnGQv",
        "outputId": "949fc1da-95db-41d0-e0cf-ea2185c52fc6"
      },
      "source": [
        "s[:5]"
      ],
      "execution_count": null,
      "outputs": [
        {
          "data": {
            "text/plain": [
              "'Hola '"
            ]
          },
          "execution_count": 37,
          "metadata": {},
          "output_type": "execute_result"
        }
      ]
    },
    {
      "cell_type": "code",
      "metadata": {
        "id": "4XhTAs9EnGQv",
        "outputId": "48742af8-e945-4514-a7bd-457aeb5407e9"
      },
      "source": [
        "s[6:]"
      ],
      "execution_count": null,
      "outputs": [
        {
          "data": {
            "text/plain": [
              "'undo'"
            ]
          },
          "execution_count": 38,
          "metadata": {},
          "output_type": "execute_result"
        }
      ]
    },
    {
      "cell_type": "code",
      "metadata": {
        "id": "9OVuoTKinGQv",
        "outputId": "b8e447c1-ec00-488f-b142-36a2d230184a"
      },
      "source": [
        "s[:]"
      ],
      "execution_count": null,
      "outputs": [
        {
          "data": {
            "text/plain": [
              "'Hola mundo'"
            ]
          },
          "execution_count": 39,
          "metadata": {},
          "output_type": "execute_result"
        }
      ]
    },
    {
      "cell_type": "markdown",
      "metadata": {
        "id": "xkTNzhVjnGQw"
      },
      "source": [
        "Podemos también definir el tamaño del paso usando la sintaxis `[desde:hasta:paso]` (el valor por defecto de `paso` es 1, como ya vimos):"
      ]
    },
    {
      "cell_type": "code",
      "metadata": {
        "id": "cOBpWUsznGQw",
        "outputId": "f440f6e9-0eea-4edf-ea6e-734d9e4064a9"
      },
      "source": [
        "s[::1]"
      ],
      "execution_count": null,
      "outputs": [
        {
          "data": {
            "text/plain": [
              "'Hola mundo'"
            ]
          },
          "execution_count": 40,
          "metadata": {},
          "output_type": "execute_result"
        }
      ]
    },
    {
      "cell_type": "code",
      "metadata": {
        "id": "_1y5f39FnGQw",
        "outputId": "31baef8d-6c70-4644-bf47-4bc413dc772a"
      },
      "source": [
        "s[::2]"
      ],
      "execution_count": null,
      "outputs": [
        {
          "data": {
            "text/plain": [
              "'Hl ud'"
            ]
          },
          "execution_count": 41,
          "metadata": {},
          "output_type": "execute_result"
        }
      ]
    },
    {
      "cell_type": "markdown",
      "metadata": {
        "id": "xcQsHV7-nGQw"
      },
      "source": [
        "Esta técnica es llamada *slicing* (\"rebanado\"). Puede leer más sobre la sintaxis [aquí](http://pyspanishdoc.sourceforge.net/lib/built-in-funcs.html) y [aquí](http://docs.python.org/release/2.7.3/library/functions.html?highlight=slice#slice) (en inglés)."
      ]
    },
    {
      "cell_type": "markdown",
      "metadata": {
        "id": "oLb03OZNnGQw"
      },
      "source": [
        "Python tiene un rico conjunto de funciones para procesar texto. Ver por ejemplo la documentación en [este link](http://docs.python.org/2/library/string.html) (en inglés) para más información."
      ]
    },
    {
      "cell_type": "markdown",
      "metadata": {
        "id": "sD-LVjKmnGQx"
      },
      "source": [
        "#### Ejemplos de formateo de cadenas"
      ]
    },
    {
      "cell_type": "code",
      "metadata": {
        "id": "l7-mEHIHnGQx",
        "outputId": "10997970-afb7-437e-86e9-0bb73c2345fd"
      },
      "source": [
        "print(\"uno\", \"dos\", \"tres\")  # El comando print puede desplegar varias cadenas"
      ],
      "execution_count": null,
      "outputs": [
        {
          "name": "stdout",
          "output_type": "stream",
          "text": [
            "('uno', 'dos', 'tres')\n"
          ]
        }
      ]
    },
    {
      "cell_type": "code",
      "metadata": {
        "id": "qhIpdsJ8nGQy",
        "outputId": "5b487bf4-fbac-4cc1-dca0-692ec71b665d"
      },
      "source": [
        "print(\"uno\", 1.0, False, -1j)  # El comando print convierte todos los argumentos a cadenas"
      ],
      "execution_count": null,
      "outputs": [
        {
          "name": "stdout",
          "output_type": "stream",
          "text": [
            "('uno', 1.0, False, -1j)\n"
          ]
        }
      ]
    },
    {
      "cell_type": "code",
      "metadata": {
        "id": "cr4PlrXZnGQy",
        "outputId": "b1e2fb67-73e0-427b-e240-ca2c01130efe"
      },
      "source": [
        "print(\"uno\" + \"dos\" + \"tres\") # cadenas \"sumadas\" con + son contatenadas sin espacio entre ellas"
      ],
      "execution_count": null,
      "outputs": [
        {
          "name": "stdout",
          "output_type": "stream",
          "text": [
            "unodostres\n"
          ]
        }
      ]
    },
    {
      "cell_type": "code",
      "metadata": {
        "id": "B_GeM3vvnGQy",
        "outputId": "5ead5ba8-bf84-40e9-c980-8aef78a56bbc"
      },
      "source": [
        "print(\"valor = \"+str(1.0)) # podemos transformar un float a string y concatenarlos en la salida"
      ],
      "execution_count": null,
      "outputs": [
        {
          "name": "stdout",
          "output_type": "stream",
          "text": [
            "valor = 1.0\n"
          ]
        }
      ]
    },
    {
      "cell_type": "code",
      "metadata": {
        "id": "-Lip73LsnGQy",
        "outputId": "f7aabf8c-3ae7-4787-fb56-c5c4723b687c"
      },
      "source": [
        "print(\"valor = %f\" % 1.0) # podemos usar formateo de cadenas en el estilo del lenguaje C"
      ],
      "execution_count": null,
      "outputs": [
        {
          "name": "stdout",
          "output_type": "stream",
          "text": [
            "valor = 1.000000\n"
          ]
        }
      ]
    },
    {
      "cell_type": "code",
      "metadata": {
        "id": "6JapKkgGnGQy",
        "outputId": "eb30834c-9407-4c84-f249-413a41317878"
      },
      "source": [
        "# este formateo crea una cadena\n",
        "s2 = \"valor1 = %.2f. valor2 = %d\" % (3.1415, 1.5)\n",
        "\n",
        "print(s2)"
      ],
      "execution_count": null,
      "outputs": [
        {
          "name": "stdout",
          "output_type": "stream",
          "text": [
            "valor1 = 3.14. valor2 = 1\n"
          ]
        }
      ]
    },
    {
      "cell_type": "code",
      "metadata": {
        "id": "lswooXt3nGQz",
        "outputId": "239ee3fe-ab59-4145-e111-649b561ce975"
      },
      "source": [
        "# forma alternativa, más intuitiva para formatear una cadena\n",
        "s3 = 'valor1 = {0}, valor2 = {1}'.format(3.1415, 1.5)\n",
        "\n",
        "print(s3)"
      ],
      "execution_count": null,
      "outputs": [
        {
          "name": "stdout",
          "output_type": "stream",
          "text": [
            "valor1 = 3.1415, valor2 = 1.5\n"
          ]
        }
      ]
    },
    {
      "cell_type": "markdown",
      "metadata": {
        "id": "ikbIY2nunGQ0"
      },
      "source": [
        "### Listas\n",
        "\n",
        "Listas son muy similares a las cadenas, excepto que cada elemento puede ser de un tipo diferente.\n",
        "\n",
        "La sintaxis para crear listas en Python es `[..., ..., ...]`:"
      ]
    },
    {
      "cell_type": "code",
      "metadata": {
        "id": "zb6T0DatnGQ0",
        "outputId": "4477679f-0b02-42ec-86d7-d49a8c57acd8"
      },
      "source": [
        "l = [1,2,3,4]\n",
        "\n",
        "print(type(l))\n",
        "print(l)"
      ],
      "execution_count": null,
      "outputs": [
        {
          "name": "stdout",
          "output_type": "stream",
          "text": [
            "<type 'list'>\n",
            "[1, 2, 3, 4]\n"
          ]
        }
      ]
    },
    {
      "cell_type": "markdown",
      "metadata": {
        "id": "UdDlR5TanGQ0"
      },
      "source": [
        "Podemos usar las mismas técnicas de \"rebanado\" que usamos en el caso de cadenas para manipular listas:"
      ]
    },
    {
      "cell_type": "code",
      "metadata": {
        "id": "kHFOaBg5nGQ1",
        "outputId": "b3502029-d437-4b1a-8e0d-6b6d5da64721"
      },
      "source": [
        "print(l)\n",
        "\n",
        "print(l[1:3])\n",
        "\n",
        "print(l[::2])"
      ],
      "execution_count": null,
      "outputs": [
        {
          "name": "stdout",
          "output_type": "stream",
          "text": [
            "[1, 2, 3, 4]\n",
            "[2, 3]\n",
            "[1, 3]\n"
          ]
        }
      ]
    },
    {
      "cell_type": "markdown",
      "metadata": {
        "id": "NwG9iVARnGQ1"
      },
      "source": [
        "**Atención usuarios de MATLAB:** el indexado comienza en 0!"
      ]
    },
    {
      "cell_type": "code",
      "metadata": {
        "id": "cZE-nQOFnGQ1",
        "outputId": "b14be3fb-9b99-4731-c3ca-d2e1fef360ff"
      },
      "source": [
        "l[0]"
      ],
      "execution_count": null,
      "outputs": [
        {
          "data": {
            "text/plain": [
              "1"
            ]
          },
          "execution_count": 51,
          "metadata": {},
          "output_type": "execute_result"
        }
      ]
    },
    {
      "cell_type": "markdown",
      "metadata": {
        "id": "z8USK_Z0nGQ2"
      },
      "source": [
        "Los elementos en una lista no requieren ser del mismo tipo:"
      ]
    },
    {
      "cell_type": "code",
      "metadata": {
        "id": "u-vE2ZAMnGQ3",
        "outputId": "d5c7c183-e940-4b09-93de-9179f521ae77"
      },
      "source": [
        "l = [1, 'a', 1.0, 1-1j]\n",
        "\n",
        "print(l)"
      ],
      "execution_count": null,
      "outputs": [
        {
          "name": "stdout",
          "output_type": "stream",
          "text": [
            "[1, 'a', 1.0, (1-1j)]\n"
          ]
        }
      ]
    },
    {
      "cell_type": "markdown",
      "metadata": {
        "id": "PtQ8cvJ6nGQ4"
      },
      "source": [
        "Las listas en Python pueden ser *inhomogéneas* y *arbitrariamente anidadas*:"
      ]
    },
    {
      "cell_type": "code",
      "metadata": {
        "id": "o8PFIrj1nGQ5",
        "outputId": "0bbd3d92-4661-4105-cec3-b8d9e9c58d76"
      },
      "source": [
        "lista_anidada = [1, [2, [3, [4, [5]]]]]\n",
        "\n",
        "lista_anidada"
      ],
      "execution_count": null,
      "outputs": [
        {
          "data": {
            "text/plain": [
              "[1, [2, [3, [4, [5]]]]]"
            ]
          },
          "execution_count": 53,
          "metadata": {},
          "output_type": "execute_result"
        }
      ]
    },
    {
      "cell_type": "markdown",
      "metadata": {
        "id": "uvKyyN0VnGQ5"
      },
      "source": [
        "Las listas juegan un rol muy importante en Python y son, por ejemplo, usadas en bucles y otras estructuras de control de flujo (discutidas más abajo). Existen muchas funciones convenientes para generar listas de varios tipos, por ejemplo la función `range`:"
      ]
    },
    {
      "cell_type": "code",
      "metadata": {
        "id": "pVwXznttnGQ6",
        "outputId": "f257ae10-9c42-4afe-a340-e7022d152c7d"
      },
      "source": [
        "desde = 10\n",
        "hasta = 30\n",
        "paso = 2\n",
        "\n",
        "range(desde, hasta, paso)"
      ],
      "execution_count": null,
      "outputs": [
        {
          "data": {
            "text/plain": [
              "[10, 12, 14, 16, 18, 20, 22, 24, 26, 28]"
            ]
          },
          "execution_count": 54,
          "metadata": {},
          "output_type": "execute_result"
        }
      ]
    },
    {
      "cell_type": "code",
      "metadata": {
        "id": "qRkzIo-hnGQ6",
        "outputId": "cdf5b4d6-720f-4708-b4ce-3884fdfff485"
      },
      "source": [
        "# en Python 3 range genera un interador, que puede ser convertido a una lista usando 'list(...)'. Esto no tiene efecto en Python 2\n",
        "list(range(desde, hasta, paso))"
      ],
      "execution_count": null,
      "outputs": [
        {
          "data": {
            "text/plain": [
              "[10, 12, 14, 16, 18, 20, 22, 24, 26, 28]"
            ]
          },
          "execution_count": 55,
          "metadata": {},
          "output_type": "execute_result"
        }
      ]
    },
    {
      "cell_type": "code",
      "metadata": {
        "id": "eO-cgmFpnGQ7",
        "outputId": "66002934-a9bb-4f4f-8629-05aa95a1f1af"
      },
      "source": [
        "list(range(-10, 10))"
      ],
      "execution_count": null,
      "outputs": [
        {
          "data": {
            "text/plain": [
              "[-10, -9, -8, -7, -6, -5, -4, -3, -2, -1, 0, 1, 2, 3, 4, 5, 6, 7, 8, 9]"
            ]
          },
          "execution_count": 56,
          "metadata": {},
          "output_type": "execute_result"
        }
      ]
    },
    {
      "cell_type": "code",
      "metadata": {
        "id": "sr4sY1CZnGQ7",
        "outputId": "ccad5fc8-9d4e-4af4-9a98-ab0311d6d795"
      },
      "source": [
        "s"
      ],
      "execution_count": null,
      "outputs": [
        {
          "data": {
            "text/plain": [
              "'Hola mundo'"
            ]
          },
          "execution_count": 57,
          "metadata": {},
          "output_type": "execute_result"
        }
      ]
    },
    {
      "cell_type": "code",
      "metadata": {
        "id": "QEBlrt98nGQ8",
        "outputId": "da5ea5f5-f78d-47a9-bd51-b4f2fb1459a6"
      },
      "source": [
        "# convierte una cadena a una lista, por conversión de tipo:\n",
        "\n",
        "s2 = list(s)\n",
        "\n",
        "s2"
      ],
      "execution_count": null,
      "outputs": [
        {
          "data": {
            "text/plain": [
              "['H', 'o', 'l', 'a', ' ', 'm', 'u', 'n', 'd', 'o']"
            ]
          },
          "execution_count": 58,
          "metadata": {},
          "output_type": "execute_result"
        }
      ]
    },
    {
      "cell_type": "code",
      "metadata": {
        "id": "9V4sWIo0nGQ_",
        "outputId": "8b593f65-2482-47e3-db4f-eb266d66f83a"
      },
      "source": [
        "# ordenando listas\n",
        "s2.sort()\n",
        "\n",
        "print(s2)"
      ],
      "execution_count": null,
      "outputs": [
        {
          "name": "stdout",
          "output_type": "stream",
          "text": [
            "[' ', 'H', 'a', 'd', 'l', 'm', 'n', 'o', 'o', 'u']\n"
          ]
        }
      ]
    },
    {
      "cell_type": "markdown",
      "metadata": {
        "id": "MgKB4xjinGRA"
      },
      "source": [
        "#### Agregando, insertando, modificando, y removiendo elementos de listas"
      ]
    },
    {
      "cell_type": "code",
      "metadata": {
        "id": "2imR8uwtnGRB",
        "outputId": "478040c2-66cf-4228-ba96-5f607d428673"
      },
      "source": [
        "# crea una nueva lista vacía\n",
        "l = []\n",
        "\n",
        "# agrega un elemento a la lista, usando `append`\n",
        "l.append(\"A\")\n",
        "l.append(\"d\")\n",
        "l.append(\"d\")\n",
        "\n",
        "print(l)"
      ],
      "execution_count": null,
      "outputs": [
        {
          "name": "stdout",
          "output_type": "stream",
          "text": [
            "['A', 'd', 'd']\n"
          ]
        }
      ]
    },
    {
      "cell_type": "markdown",
      "metadata": {
        "id": "ebdNKOyWnGRB"
      },
      "source": [
        "Podemos modificar listas asignando nuevos valores a los elementos de la lista. En lenguaje técnico se dice que la lista es *mutable*."
      ]
    },
    {
      "cell_type": "code",
      "metadata": {
        "id": "jtjBzxBynGRB",
        "outputId": "dc464a1e-e820-4fe8-8af5-fcb794cfcd3c"
      },
      "source": [
        "l[1] = \"p\"\n",
        "l[2] = \"p\"\n",
        "\n",
        "print(l)"
      ],
      "execution_count": null,
      "outputs": [
        {
          "name": "stdout",
          "output_type": "stream",
          "text": [
            "['A', 'p', 'p']\n"
          ]
        }
      ]
    },
    {
      "cell_type": "code",
      "metadata": {
        "id": "4ZX034LPnGRB",
        "outputId": "bd1f8486-1a23-4b58-a73c-93e166ee3e9f"
      },
      "source": [
        "l[1:3] = [\"d\", \"d\"]\n",
        "\n",
        "print(l)"
      ],
      "execution_count": null,
      "outputs": [
        {
          "name": "stdout",
          "output_type": "stream",
          "text": [
            "['A', 'd', 'd']\n"
          ]
        }
      ]
    },
    {
      "cell_type": "markdown",
      "metadata": {
        "id": "SU8diecynGRC"
      },
      "source": [
        "Insertar un elemento en una posición específica `insert`"
      ]
    },
    {
      "cell_type": "code",
      "metadata": {
        "id": "Lc5JgFBmnGRC",
        "outputId": "dd33310a-dc3e-473a-8be0-668e9e07521e"
      },
      "source": [
        "l.insert(0, \"i\")\n",
        "l.insert(1, \"n\")\n",
        "l.insert(2, \"s\")\n",
        "l.insert(3, \"e\")\n",
        "l.insert(4, \"r\")\n",
        "l.insert(5, \"t\")\n",
        "\n",
        "print(l)"
      ],
      "execution_count": null,
      "outputs": [
        {
          "name": "stdout",
          "output_type": "stream",
          "text": [
            "['i', 'n', 's', 'e', 'r', 't', 'A', 'd', 'd']\n"
          ]
        }
      ]
    },
    {
      "cell_type": "markdown",
      "metadata": {
        "id": "4Q-yrlgXnGRD"
      },
      "source": [
        "Eliminar el primer elemento con un valor específico usando 'remove'"
      ]
    },
    {
      "cell_type": "code",
      "metadata": {
        "id": "poKtvmiTnGRD",
        "outputId": "16ce8fc8-9390-4bcc-9bd9-08ec2420d996"
      },
      "source": [
        "l.remove(\"A\")\n",
        "\n",
        "print(l)"
      ],
      "execution_count": null,
      "outputs": [
        {
          "name": "stdout",
          "output_type": "stream",
          "text": [
            "['i', 'n', 's', 'e', 'r', 't', 'd', 'd']\n"
          ]
        }
      ]
    },
    {
      "cell_type": "markdown",
      "metadata": {
        "id": "cxpDQR0XnGRD"
      },
      "source": [
        "Eliminar un elemento en una posición específica usando `del`:"
      ]
    },
    {
      "cell_type": "markdown",
      "metadata": {
        "id": "Vmhf4nk4nGRD"
      },
      "source": [
        "Puede introducir `help(list)` para más detalles, o leer la documentación en la red"
      ]
    },
    {
      "cell_type": "markdown",
      "metadata": {
        "id": "ByK8eh22nGRD"
      },
      "source": [
        "### Tuplas\n",
        "\n",
        "Tuplas son similares a las listas, excepto que ellas no pueden ser modificadas una vez creadas, es decir, son *inmutables*. \n",
        "\n",
        "En Python, las tuplas son creadas usando la sintaxis `(..., ..., ...)`, o incluso `..., ...`:"
      ]
    },
    {
      "cell_type": "code",
      "metadata": {
        "id": "wqDek2zOnGRD",
        "outputId": "b04d3b8f-ce05-4254-d068-306818dd80ac"
      },
      "source": [
        "punto = (10, 20)\n",
        "\n",
        "print(punto, type(punto))"
      ],
      "execution_count": null,
      "outputs": [
        {
          "name": "stdout",
          "output_type": "stream",
          "text": [
            "((10, 20), <type 'tuple'>)\n"
          ]
        }
      ]
    },
    {
      "cell_type": "code",
      "metadata": {
        "id": "LYMZo74TnGRE",
        "outputId": "e7a75543-d482-4722-ffd0-e3d11058380f"
      },
      "source": [
        "punto = 10, 20\n",
        "\n",
        "print(punto, type(punto))"
      ],
      "execution_count": null,
      "outputs": [
        {
          "name": "stdout",
          "output_type": "stream",
          "text": [
            "((10, 20), <type 'tuple'>)\n"
          ]
        }
      ]
    },
    {
      "cell_type": "markdown",
      "metadata": {
        "id": "YYptuTR1nGRE"
      },
      "source": [
        "Podemos separar una tupla asignándola a una lista de variables separadas por coma:"
      ]
    },
    {
      "cell_type": "code",
      "metadata": {
        "id": "82tvTIlKnGRE",
        "outputId": "90b2c35f-d7a0-4e8e-c4d8-d1036867061b"
      },
      "source": [
        "x, y = punto\n",
        "\n",
        "print(\"x =\", x)\n",
        "print(\"y =\", y)"
      ],
      "execution_count": null,
      "outputs": [
        {
          "name": "stdout",
          "output_type": "stream",
          "text": [
            "('x =', 10)\n",
            "('y =', 20)\n"
          ]
        }
      ]
    },
    {
      "cell_type": "markdown",
      "metadata": {
        "id": "p0Qyq_9anGRE"
      },
      "source": [
        "Si intentamos asignar un nuevo valor a un elemento de una tupla obtenemos un error:"
      ]
    },
    {
      "cell_type": "code",
      "metadata": {
        "id": "Lt0CNAOinGRF",
        "outputId": "ed37a749-8a2a-4e73-c880-245c1fc852ff"
      },
      "source": [
        "punto[0] = 20"
      ],
      "execution_count": null,
      "outputs": [
        {
          "ename": "TypeError",
          "evalue": "'tuple' object does not support item assignment",
          "output_type": "error",
          "traceback": [
            "\u001b[0;31m---------------------------------------------------------------------------\u001b[0m",
            "\u001b[0;31mTypeError\u001b[0m                                 Traceback (most recent call last)",
            "\u001b[0;32m<ipython-input-68-4e812ab96337>\u001b[0m in \u001b[0;36m<module>\u001b[0;34m()\u001b[0m\n\u001b[0;32m----> 1\u001b[0;31m \u001b[0mpunto\u001b[0m\u001b[0;34m[\u001b[0m\u001b[0;36m0\u001b[0m\u001b[0;34m]\u001b[0m \u001b[0;34m=\u001b[0m \u001b[0;36m20\u001b[0m\u001b[0;34m\u001b[0m\u001b[0m\n\u001b[0m",
            "\u001b[0;31mTypeError\u001b[0m: 'tuple' object does not support item assignment"
          ]
        }
      ]
    },
    {
      "cell_type": "markdown",
      "metadata": {
        "id": "p4m2peFMnGRF"
      },
      "source": [
        "### Diccionarios\n",
        "\n",
        "Los diccionarios son también como listas, excepto que cada elemento es un par clave-valor. La sintaxis de los diccionarios es `{clave1 : valor1, ...}`:"
      ]
    },
    {
      "cell_type": "code",
      "metadata": {
        "id": "4d_rQ7einGRF",
        "outputId": "beddcbe6-5aa7-4793-e3c2-b70beb0fbdf9"
      },
      "source": [
        "parametros = {\"clave1\" : 1.0, \"clave2\" : True, \"clave3\" : \"hola\"}\n",
        "\n",
        "print(type(parametros))\n",
        "print(parametros)"
      ],
      "execution_count": null,
      "outputs": [
        {
          "name": "stdout",
          "output_type": "stream",
          "text": [
            "<type 'dict'>\n",
            "{'clave1': 1.0, 'clave3': 'hola', 'clave2': True}\n"
          ]
        }
      ]
    },
    {
      "cell_type": "code",
      "metadata": {
        "id": "Y_jtdGiHnGRG",
        "outputId": "d48c0a38-ba74-4f3a-e411-d3a7d4372bbf"
      },
      "source": [
        "parametros[\"clave1\"]"
      ],
      "execution_count": null,
      "outputs": [
        {
          "data": {
            "text/plain": [
              "1.0"
            ]
          },
          "execution_count": 70,
          "metadata": {},
          "output_type": "execute_result"
        }
      ]
    },
    {
      "cell_type": "code",
      "metadata": {
        "id": "sx6y_ne1nGRG",
        "outputId": "fa05b5cc-c439-4322-90ca-1fd9373138df"
      },
      "source": [
        "print(\"clave1 --> \" + str(parametros[\"clave1\"]))\n",
        "print(\"clave2 --> \" + str(parametros[\"clave2\"]))\n",
        "print(\"clave3 --> \" + str(parametros[\"clave3\"]))"
      ],
      "execution_count": null,
      "outputs": [
        {
          "name": "stdout",
          "output_type": "stream",
          "text": [
            "clave1 --> 1.0\n",
            "clave2 --> True\n",
            "clave3 --> hola\n"
          ]
        }
      ]
    },
    {
      "cell_type": "code",
      "metadata": {
        "id": "pexLvXRAnGRG",
        "outputId": "f633aac1-2894-4e73-beaf-23dc73880c5e"
      },
      "source": [
        "parametros[\"clave1\"] = \"A\"\n",
        "parametros[\"clave2\"] = (4<2)\n",
        "\n",
        "# agrega una nueva entrada\n",
        "parametros[\"clave4\"] = \"D\"\n",
        "\n",
        "print(\"clave1 = \" + str(parametros[\"clave1\"]))\n",
        "print(\"clave2 = \" + str(parametros[\"clave2\"]))\n",
        "print(\"clave3 = \" + str(parametros[\"clave3\"]))\n",
        "print(\"clave4 = \" + str(parametros[\"clave4\"]))"
      ],
      "execution_count": null,
      "outputs": [
        {
          "name": "stdout",
          "output_type": "stream",
          "text": [
            "clave1 = A\n",
            "clave2 = False\n",
            "clave3 = hola\n",
            "clave4 = D\n"
          ]
        }
      ]
    },
    {
      "cell_type": "markdown",
      "metadata": {
        "id": "Rq-FXPO4nGRH"
      },
      "source": [
        "## Control de flujo"
      ]
    },
    {
      "cell_type": "markdown",
      "metadata": {
        "id": "Res3wVk9nGRH"
      },
      "source": [
        "### Sentencias condicionales: if, elif, else\n",
        "\n",
        "La sintaxis Python para la ejecución condicional de código usa las palabras clave `if`, `elif` (else if), `else`:"
      ]
    },
    {
      "cell_type": "code",
      "metadata": {
        "id": "4WUA1n8jnGRI",
        "outputId": "d196401e-8706-452f-be4f-5fa576a1cf4c"
      },
      "source": [
        "afirmacion1 = False\n",
        "afirmacion2 = False\n",
        "\n",
        "if afirmacion1:\n",
        "    print(\"afirmacion1 es verdadera\")\n",
        "    \n",
        "elif afirmacion2:\n",
        "    print(\"afirmacion2 es verdadera\")\n",
        "    \n",
        "else:\n",
        "    print(\"afirmacion1 y afirmacion2 son falsas\")"
      ],
      "execution_count": null,
      "outputs": [
        {
          "name": "stdout",
          "output_type": "stream",
          "text": [
            "afirmacion1 y afirmacion2 son falsas\n"
          ]
        }
      ]
    },
    {
      "cell_type": "markdown",
      "metadata": {
        "id": "xlkk5RxZnGRI"
      },
      "source": [
        "**Ejemplo sencillo**"
      ]
    },
    {
      "cell_type": "code",
      "metadata": {
        "id": "PIoGva9RnGRJ",
        "outputId": "8314ebcf-6ab6-4fad-f3be-fb887bd5e915"
      },
      "source": [
        "numero1 = 1200\n",
        "numero2 = 25000\n",
        "\n",
        "if numero1 == 1000:\n",
        "    print(\"numero1 es igual a 1000\")\n",
        "elif numero2 == 2500:\n",
        "    print(\"numero2 es igual a 2500\")\n",
        "else:\n",
        "    print(\"numero1 no es igual a 1000 y numero2 no es igual a 2500\")"
      ],
      "execution_count": null,
      "outputs": [
        {
          "name": "stdout",
          "output_type": "stream",
          "text": [
            "numero1 no es igual a 1000 y numero2 no es igual a 2500\n"
          ]
        }
      ]
    },
    {
      "cell_type": "markdown",
      "metadata": {
        "id": "Jf9F1lA5nGRJ"
      },
      "source": [
        "Aquí encontramos por primera vez un aspecto peculiar e inusual del lenguaje Python: Los bloques del programa son definidos por su nivel de indentación (la cantidad de espacio antes de cada linea). \n",
        "\n",
        "En C los bloques son definidos por los paréntesis llaves `{` y `}`.\n",
        "\n",
        "En Python, la extensión de un bloque de código es definido por el nivel de indentación (usualmente un tab o cuatro espacios en blanco). Esto significa que debemos ser cuidados@s de indentar nuestro código correctamente, de lo contrario tendremos errores de sintaxis. Además, pueden presentarse errores en la ejecución si se es inconsistente en la forma que se realiza el indentado en un mismo programa.\n",
        "\n",
        "**Ejemplos:**"
      ]
    },
    {
      "cell_type": "code",
      "metadata": {
        "id": "tX8_SbF3nGRJ",
        "outputId": "e881ea3b-1e85-4dda-be51-fe7db11ffdab"
      },
      "source": [
        "afirmacion1 = afirmacion2 = True\n",
        "\n",
        "if afirmacion1:\n",
        "    if afirmacion2:\n",
        "        print(\"tanto afirmacion1 como afirmacion2 son verdaderas\")"
      ],
      "execution_count": null,
      "outputs": [
        {
          "name": "stdout",
          "output_type": "stream",
          "text": [
            "tanto afirmacion1 como afirmacion2 son verdaderas\n"
          ]
        }
      ]
    },
    {
      "cell_type": "code",
      "metadata": {
        "id": "CcKVy3MdnGRK",
        "outputId": "951e3ba8-276e-4745-c8d6-69c69b8533e5"
      },
      "source": [
        "# Mala indentación!\n",
        "if afirmacion1:\n",
        "    if afirmacion2:\n",
        "    print(\"tanto afirmacion1 como afirmacion2 son verdaderas\")  # esta línea está mal indentada"
      ],
      "execution_count": null,
      "outputs": [
        {
          "ename": "IndentationError",
          "evalue": "expected an indented block (<ipython-input-75-6f069ee062b2>, line 4)",
          "output_type": "error",
          "traceback": [
            "\u001b[0;36m  File \u001b[0;32m\"<ipython-input-75-6f069ee062b2>\"\u001b[0;36m, line \u001b[0;32m4\u001b[0m\n\u001b[0;31m    print(\"tanto afirmacion1 como afirmacion2 son verdaderas\")  # esta línea está mal indentada\u001b[0m\n\u001b[0m        ^\u001b[0m\n\u001b[0;31mIndentationError\u001b[0m\u001b[0;31m:\u001b[0m expected an indented block\n"
          ]
        }
      ]
    },
    {
      "cell_type": "code",
      "metadata": {
        "id": "rvV6cWDFnGRL"
      },
      "source": [
        "afirmacion1 = False \n",
        "\n",
        "if afirmacion1:\n",
        "    print(\"afirmacion1 es verdadera\")\n",
        "    \n",
        "    print(\"aun estamos dentro del bloque if\")"
      ],
      "execution_count": null,
      "outputs": []
    },
    {
      "cell_type": "code",
      "metadata": {
        "id": "rsw6YHdMnGRM",
        "outputId": "3c20290e-1763-4325-96b3-0dd6ce292fef"
      },
      "source": [
        "if afirmacion1:\n",
        "    print(\"afirmacion1 es verdadera\")\n",
        "    \n",
        "print(\"ahora estamos fuera del bloque\")"
      ],
      "execution_count": null,
      "outputs": [
        {
          "name": "stdout",
          "output_type": "stream",
          "text": [
            "ahora estamos fuera del bloque\n"
          ]
        }
      ]
    },
    {
      "cell_type": "markdown",
      "metadata": {
        "id": "FuIz9RZ9nGRM"
      },
      "source": [
        "## Ciclos\n",
        "\n",
        "En Python, los ciclos (loops) puede ser programados de varias maneras diferentes. La forma más común es usando un ciclo `for`, que se usa junto con objetos iterables, como por ejemplos las listas. La sintaxis básica es:\n",
        "\n",
        "\n",
        "**Ciclos `for`**:"
      ]
    },
    {
      "cell_type": "code",
      "metadata": {
        "id": "_yFRfSvcnGRM",
        "outputId": "4a3acdfc-3dbe-4f70-b963-65ca76a438cc"
      },
      "source": [
        "for x in [1,2,3]:\n",
        "    print(x)"
      ],
      "execution_count": null,
      "outputs": [
        {
          "name": "stdout",
          "output_type": "stream",
          "text": [
            "1\n",
            "2\n",
            "3\n"
          ]
        }
      ]
    },
    {
      "cell_type": "markdown",
      "metadata": {
        "id": "ntlrb7uJnGRN"
      },
      "source": [
        "El ciclo `for` itera sobre los elementos de la lista suministrada y ejecuta el bloque suministrado una vez para cada elemento. Cualquier tipo de lista puede ser usada para un ciclo `for`. Por ejemplo:"
      ]
    },
    {
      "cell_type": "code",
      "metadata": {
        "id": "7KLQ1IHDnGRN",
        "outputId": "f11166f2-039e-4775-d807-1df8c58154cc"
      },
      "source": [
        "for x in range(4): # por defecto range comienza con 0\n",
        "    print(x)"
      ],
      "execution_count": null,
      "outputs": [
        {
          "name": "stdout",
          "output_type": "stream",
          "text": [
            "0\n",
            "1\n",
            "2\n",
            "3\n"
          ]
        }
      ]
    },
    {
      "cell_type": "markdown",
      "metadata": {
        "id": "VWPzdcAgnGRN"
      },
      "source": [
        "Nota: `range(4)` no incluye el 4 !"
      ]
    },
    {
      "cell_type": "code",
      "metadata": {
        "id": "qBb3uDWBnGRO",
        "outputId": "201d22c9-170b-4152-ee9b-ebf752b319e4"
      },
      "source": [
        "for x in range(-3,3):\n",
        "    print(x)"
      ],
      "execution_count": null,
      "outputs": [
        {
          "name": "stdout",
          "output_type": "stream",
          "text": [
            "-3\n",
            "-2\n",
            "-1\n",
            "0\n",
            "1\n",
            "2\n"
          ]
        }
      ]
    },
    {
      "cell_type": "code",
      "metadata": {
        "id": "E2HNnzL5nGRO",
        "outputId": "e867e1d8-ae5b-449e-de78-8ba395b9ed07"
      },
      "source": [
        "for palabra in [\"computación\", \"científica\", \"con\", \"Python\"]:\n",
        "    print(palabra)"
      ],
      "execution_count": null,
      "outputs": [
        {
          "name": "stdout",
          "output_type": "stream",
          "text": [
            "computación\n",
            "científica\n",
            "con\n",
            "Python\n"
          ]
        }
      ]
    },
    {
      "cell_type": "markdown",
      "metadata": {
        "id": "tiWpRlBpnGRO"
      },
      "source": [
        "Para iterar sobre pares clave-valor en un diccionario:"
      ]
    },
    {
      "cell_type": "code",
      "metadata": {
        "id": "GkN1kklOnGRO",
        "outputId": "34cd53c3-0fad-443f-8bcf-90c423e1c7cb"
      },
      "source": [
        "for clave, valor in parametros.items():\n",
        "    print(clave + \" = \" + str(valor))"
      ],
      "execution_count": null,
      "outputs": [
        {
          "name": "stdout",
          "output_type": "stream",
          "text": [
            "clave4 = D\n",
            "clave1 = A\n",
            "clave3 = hola\n",
            "clave2 = False\n"
          ]
        }
      ]
    },
    {
      "cell_type": "markdown",
      "metadata": {
        "id": "SMGRdxJEnGRO"
      },
      "source": [
        "Algunas veces es útil tener acceso a los índices de los valores mientras se itera sobre una lista. Podemos usar la función `enumerate` para esto:"
      ]
    },
    {
      "cell_type": "code",
      "metadata": {
        "id": "8_JIlMGfnGRO",
        "outputId": "ea1a3a60-fbf5-4454-8e8f-12baabc2b1ca"
      },
      "source": [
        "for idx, x in enumerate(range(-3,3)):\n",
        "    print(idx, x)"
      ],
      "execution_count": null,
      "outputs": [
        {
          "name": "stdout",
          "output_type": "stream",
          "text": [
            "(0, -3)\n",
            "(1, -2)\n",
            "(2, -1)\n",
            "(3, 0)\n",
            "(4, 1)\n",
            "(5, 2)\n"
          ]
        }
      ]
    },
    {
      "cell_type": "markdown",
      "metadata": {
        "id": "uL54gJWZnGRP"
      },
      "source": [
        "** Listas: Creando listas usando ciclos `for`**:\n",
        "\n",
        "Una forma conveniente y compacta de inicializar listas:"
      ]
    },
    {
      "cell_type": "code",
      "metadata": {
        "id": "UbBAFIqjnGRP",
        "outputId": "94480271-f044-4764-b5a2-2f0ced20c437"
      },
      "source": [
        "l1 = [x**2 for x in range(0,5)]\n",
        "\n",
        "print(l1)"
      ],
      "execution_count": null,
      "outputs": [
        {
          "name": "stdout",
          "output_type": "stream",
          "text": [
            "[0, 1, 4, 9, 16]\n"
          ]
        }
      ]
    },
    {
      "cell_type": "markdown",
      "metadata": {
        "id": "-77f5VzknGRP"
      },
      "source": [
        "**Ciclos `while`**:"
      ]
    },
    {
      "cell_type": "code",
      "metadata": {
        "id": "PhMMAu3fnGRQ",
        "outputId": "30fa828a-ba90-45ce-d2ad-c80375ff2ff8"
      },
      "source": [
        "i = 0\n",
        "\n",
        "while i < 5:\n",
        "    print(i)    \n",
        "    i = i + 1\n",
        "    \n",
        "print(\"listo\")"
      ],
      "execution_count": null,
      "outputs": [
        {
          "name": "stdout",
          "output_type": "stream",
          "text": [
            "0\n",
            "1\n",
            "2\n",
            "3\n",
            "4\n",
            "listo\n"
          ]
        }
      ]
    },
    {
      "cell_type": "markdown",
      "metadata": {
        "id": "Bn7UJnt9nGRQ"
      },
      "source": [
        "Note que el comando`print(\"listo\")` no es parte del cuerpo del ciclo `while`, debido a su indentación."
      ]
    },
    {
      "cell_type": "markdown",
      "metadata": {
        "id": "qCQfHDspnGRQ"
      },
      "source": [
        "## Ciclos y condicionales\n",
        "\n",
        "Iteración en una lista, aplicando condiones a cada uno de los elementos"
      ]
    },
    {
      "cell_type": "code",
      "metadata": {
        "id": "MZnRDycEnGRR",
        "outputId": "6aaa340b-2798-4c46-bd91-4c3db209af8f"
      },
      "source": [
        "numeros = [1,2,3,4,5,6,7,8]\n",
        "valor_referencia = 4\n",
        "\n",
        "for numero in numeros:\n",
        "    if numero > valor_referencia:\n",
        "        print(\"El valor {0} es menor que {1}\".format(numero, valor_referencia))\n",
        "    elif numero == valor_referencia:\n",
        "        print(\"El valor {0} es igual que {1}\".format(numero, valor_referencia))\n",
        "    else:\n",
        "        print(\"El valor {0} es mayor que {1}\".format(numero, valor_referencia))"
      ],
      "execution_count": null,
      "outputs": [
        {
          "name": "stdout",
          "output_type": "stream",
          "text": [
            "El valor 1 es mayor que 4\n",
            "El valor 2 es mayor que 4\n",
            "El valor 3 es mayor que 4\n",
            "El valor 4 es igual que 4\n",
            "El valor 5 es menor que 4\n",
            "El valor 6 es menor que 4\n",
            "El valor 7 es menor que 4\n",
            "El valor 8 es menor que 4\n"
          ]
        }
      ]
    },
    {
      "cell_type": "markdown",
      "metadata": {
        "id": "tYjb41xfnGRR"
      },
      "source": [
        "## Funciones\n",
        "\n",
        "En Python una función es definida usando la palabra clave `def`, seguida de un nombre para la función, una variable entre paréntesis `()`, y el símbolo de dos puntos `:`. El siguiente código, con un nivel adicional de indentación, es el cuerpo de la función."
      ]
    },
    {
      "cell_type": "code",
      "metadata": {
        "id": "l3qjPo6PnGRS"
      },
      "source": [
        "def func0():   \n",
        "    print(\"test\")"
      ],
      "execution_count": null,
      "outputs": []
    },
    {
      "cell_type": "code",
      "metadata": {
        "id": "N_dVXQ2hnGRT",
        "outputId": "9fc9b38b-bdb1-4ee8-b123-bfb0b5b7144f"
      },
      "source": [
        "func0()"
      ],
      "execution_count": null,
      "outputs": [
        {
          "name": "stdout",
          "output_type": "stream",
          "text": [
            "test\n"
          ]
        }
      ]
    },
    {
      "cell_type": "markdown",
      "metadata": {
        "id": "gxHAvRTonGRT"
      },
      "source": [
        "En forma opcional, pero muy recomendada, podemos definir un \"docstring\", que es una descripción del propósito y comportamiento de la función. El docstring debería ser incluido directamente después de la definición de la función, antes del código en el cuerpo de la función."
      ]
    },
    {
      "cell_type": "code",
      "metadata": {
        "id": "TSP6GghSnGRU"
      },
      "source": [
        "def func1(s):\n",
        "    \"\"\"\n",
        "    Imprime la cadena 's' y cuántos caracteres tiene\n",
        "    \"\"\"\n",
        "    \n",
        "    print(s + \" tiene \" + str(len(s)) + \" caracteres\")"
      ],
      "execution_count": null,
      "outputs": []
    },
    {
      "cell_type": "code",
      "metadata": {
        "id": "gvPeLEd6nGRU",
        "outputId": "5e4166bd-f399-41ab-b92a-6c169a4320ec"
      },
      "source": [
        "help(func1)"
      ],
      "execution_count": null,
      "outputs": [
        {
          "name": "stdout",
          "output_type": "stream",
          "text": [
            "Help on function func1 in module __main__:\n",
            "\n",
            "func1(s)\n",
            "    Imprime la cadena 's' y cuántos caracteres tiene\n",
            "\n"
          ]
        }
      ]
    },
    {
      "cell_type": "code",
      "metadata": {
        "id": "8IC_aYYInGRV",
        "outputId": "d756bf5b-3bdc-4cec-c93c-d92fb2b1c254"
      },
      "source": [
        "func1(\"test\")"
      ],
      "execution_count": null,
      "outputs": [
        {
          "name": "stdout",
          "output_type": "stream",
          "text": [
            "test tiene 4 caracteres\n"
          ]
        }
      ]
    },
    {
      "cell_type": "markdown",
      "metadata": {
        "id": "9olgviB_nGRV"
      },
      "source": [
        "Funciones que retornan un valor usan la palabra clave `return`:"
      ]
    },
    {
      "cell_type": "code",
      "metadata": {
        "id": "hNUPuIqInGRV"
      },
      "source": [
        "def cuadrado(x):\n",
        "    \"\"\"\n",
        "    Calcula el cuadrado de x.\n",
        "    \"\"\"\n",
        "    return x**2"
      ],
      "execution_count": null,
      "outputs": []
    },
    {
      "cell_type": "code",
      "metadata": {
        "id": "uhRhRiQ0nGRW",
        "outputId": "576d1052-6ac0-4413-d68a-29d56b590ee6"
      },
      "source": [
        "cuadrado(4)"
      ],
      "execution_count": null,
      "outputs": [
        {
          "data": {
            "text/plain": [
              "16"
            ]
          },
          "execution_count": 92,
          "metadata": {},
          "output_type": "execute_result"
        }
      ]
    },
    {
      "cell_type": "markdown",
      "metadata": {
        "id": "KEcBHoF-nGRW"
      },
      "source": [
        "Podemos retornar múltiples valores desde una función usando las tuplas (ver más arriba):"
      ]
    },
    {
      "cell_type": "code",
      "metadata": {
        "id": "AW5n0fyVnGRW"
      },
      "source": [
        "def potencias(x):\n",
        "    \"\"\"\n",
        "    Calcula algunas potencias de x.\n",
        "    \"\"\"\n",
        "    return x**2, x**3, x**4"
      ],
      "execution_count": null,
      "outputs": []
    },
    {
      "cell_type": "code",
      "metadata": {
        "id": "C-KJVi5KnGRW",
        "outputId": "59f7b4d0-77cb-48e8-ba12-f69eecf494fc"
      },
      "source": [
        "potencias(3)"
      ],
      "execution_count": null,
      "outputs": [
        {
          "data": {
            "text/plain": [
              "(9, 27, 81)"
            ]
          },
          "execution_count": 94,
          "metadata": {},
          "output_type": "execute_result"
        }
      ]
    },
    {
      "cell_type": "code",
      "metadata": {
        "id": "ZNjZlTqwnGRW",
        "outputId": "698273eb-74ec-42ed-a223-b1ec3b101132"
      },
      "source": [
        "x2, x3, x4 = potencias(3)\n",
        "\n",
        "print(x3)"
      ],
      "execution_count": null,
      "outputs": [
        {
          "name": "stdout",
          "output_type": "stream",
          "text": [
            "27\n"
          ]
        }
      ]
    },
    {
      "cell_type": "markdown",
      "metadata": {
        "id": "SfdXhhCgnGRX"
      },
      "source": [
        "### Argumentos por defecto y argumentos de palabra clave\n",
        "\n",
        "En la definición de una función, podemos asignar valores por defecto a los argumentos de la función:"
      ]
    },
    {
      "cell_type": "code",
      "metadata": {
        "id": "S5ctdzejnGRX"
      },
      "source": [
        "def mifunc(x, p=2, debug=False):\n",
        "    if debug:\n",
        "        print(\"evaluando mifunc para x = \" + str(x) + \" usando el exponente p = \" + str(p))\n",
        "    return x**p"
      ],
      "execution_count": null,
      "outputs": []
    },
    {
      "cell_type": "markdown",
      "metadata": {
        "id": "5v--nU21nGRX"
      },
      "source": [
        "Si no suministramos un valor para el argumento `debug` al llamar a la función `mifunc` se considera el valor definido por defecto:"
      ]
    },
    {
      "cell_type": "code",
      "metadata": {
        "id": "8dJuRlVrnGRY",
        "outputId": "8983bde2-07ee-4c74-9b0e-d36b5091982d"
      },
      "source": [
        "mifunc(5)"
      ],
      "execution_count": null,
      "outputs": [
        {
          "data": {
            "text/plain": [
              "25"
            ]
          },
          "execution_count": 97,
          "metadata": {},
          "output_type": "execute_result"
        }
      ]
    },
    {
      "cell_type": "code",
      "metadata": {
        "id": "GNqjO-8fnGRY",
        "outputId": "dbe8fb7c-1aba-4e55-ec14-3fcbd4df770b"
      },
      "source": [
        "mifunc(5, debug=True)"
      ],
      "execution_count": null,
      "outputs": [
        {
          "name": "stdout",
          "output_type": "stream",
          "text": [
            "evaluando mifunc para x = 5 usando el exponente p = 2\n"
          ]
        },
        {
          "data": {
            "text/plain": [
              "25"
            ]
          },
          "execution_count": 98,
          "metadata": {},
          "output_type": "execute_result"
        }
      ]
    },
    {
      "cell_type": "markdown",
      "metadata": {
        "id": "CdIoZ_mhnGRa"
      },
      "source": [
        "Si listamos explícitamente el nombre de los argumentos al llamar una función, ellos no necesitan estar en el mismo orden usado en la definición de la función. Esto es llamado argumentos *de palabra clave* (keyword), y son a menudo muy útiles en funciones que requieren muchos argumentos opcionales."
      ]
    },
    {
      "cell_type": "code",
      "metadata": {
        "id": "mFtkg7NBnGRa",
        "outputId": "a6dbff98-66d3-4876-8bf1-89e0c41bb0d0"
      },
      "source": [
        "mifunc(p=3, debug=True, x=7)"
      ],
      "execution_count": null,
      "outputs": [
        {
          "name": "stdout",
          "output_type": "stream",
          "text": [
            "evaluando mifunc para x = 7 usando el exponente p = 3\n"
          ]
        },
        {
          "data": {
            "text/plain": [
              "343"
            ]
          },
          "execution_count": 99,
          "metadata": {},
          "output_type": "execute_result"
        }
      ]
    },
    {
      "cell_type": "markdown",
      "metadata": {
        "id": "S-7qFqpWnGRa"
      },
      "source": [
        "### Funciones sin nombre (funciones lambda)\n",
        "\n",
        "En Python podemos también crear funciones sin nombre, usando la palabra clave `lambda`:"
      ]
    },
    {
      "cell_type": "code",
      "metadata": {
        "id": "-qlaz3xqnGRa"
      },
      "source": [
        "f1 = lambda x: x**2\n",
        "    \n",
        "# es equivalente a \n",
        "\n",
        "def f2(x):\n",
        "    return x**2"
      ],
      "execution_count": null,
      "outputs": []
    },
    {
      "cell_type": "code",
      "metadata": {
        "id": "j-eQxRcJnGRb",
        "outputId": "939fee7e-60fb-43fe-faaf-ef6bdae8ad11"
      },
      "source": [
        "f1(2), f2(2)"
      ],
      "execution_count": null,
      "outputs": [
        {
          "data": {
            "text/plain": [
              "(4, 4)"
            ]
          },
          "execution_count": 101,
          "metadata": {},
          "output_type": "execute_result"
        }
      ]
    },
    {
      "cell_type": "markdown",
      "metadata": {
        "id": "zY1FOdCInGRb"
      },
      "source": [
        "Esta técnica es útil, por ejemplo, cuando queremos pasar una función simple como argumento de otra función, como en este caso:"
      ]
    },
    {
      "cell_type": "code",
      "metadata": {
        "id": "RmypwnitnGRb",
        "outputId": "96f9a8d7-4ffb-453a-bf44-f17ae101be62"
      },
      "source": [
        "# map es una función predefinida en Python\n",
        "map(lambda x: x**2, range(-3,4))"
      ],
      "execution_count": null,
      "outputs": [
        {
          "data": {
            "text/plain": [
              "[9, 4, 1, 0, 1, 4, 9]"
            ]
          },
          "execution_count": 102,
          "metadata": {},
          "output_type": "execute_result"
        }
      ]
    },
    {
      "cell_type": "code",
      "metadata": {
        "id": "mS7P4tGwnGRb",
        "outputId": "8e3b9e1a-88cf-4696-dbd1-a39a3d8cd400"
      },
      "source": [
        "# en Python 3 podemos usar `list(...)` para convertir la iteración a una lista explícita\n",
        "list(map(lambda x: x**2, range(-3,4)))"
      ],
      "execution_count": null,
      "outputs": [
        {
          "data": {
            "text/plain": [
              "[9, 4, 1, 0, 1, 4, 9]"
            ]
          },
          "execution_count": 103,
          "metadata": {},
          "output_type": "execute_result"
        }
      ]
    },
    {
      "cell_type": "markdown",
      "metadata": {
        "heading_collapsed": true,
        "id": "E1MmoUpYnGRb"
      },
      "source": [
        "## Clases\n",
        "\n",
        "Las clases son una característica clave de la programación orientada al objeto. Una clase es una estructura para representar un objeto y las operaciones que pueden ser realizadas sobre el objeto. \n",
        "\n",
        "En Python una clase puede contener *atributos* (variables) y *métodos* (funciones).\n",
        "\n",
        "En Python una clase es definida en forma similar a una función, pero usando la palabra clave `class`, y la definición de la clase usualmente contiene algunas definiciones de métodos (una función en una clase).\n",
        "\n",
        "* Cada método de una clase debería tener un argumento `self` como su primer argumento. Este objeto es una autoreferencia.\n",
        "\n",
        "* Algunos nombres de métodos de clases tienen un significado especial, por ejemplo:\n",
        "\n",
        " * `__init__`: El nombre del método que es invocado cuando el objeto es creado por primera vez.\n",
        " * `__str__` : Un método que es invocado cuando se necesita una simple representación de cadena de la clase, como por ejemplo cuando se imprime.\n",
        " * Existen muchos otros métodos especiales, ver http://docs.python.org/2/reference/datamodel.html#special-method-names\n",
        " \n",
        "### Ejemplo: Puntos en 2D"
      ]
    },
    {
      "cell_type": "code",
      "metadata": {
        "hidden": true,
        "id": "upuyvg3lnGRc"
      },
      "source": [
        "class Punto:\n",
        "    \"\"\"\n",
        "    Clase simple para representar un punto en un sistema de coordenadas cartesiano bidimensional.\n",
        "    \"\"\"\n",
        "    \n",
        "    def __init__(self, x, y):\n",
        "        \"\"\"\n",
        "        Crea un nuevo punto en x, y.\n",
        "        \"\"\"\n",
        "        self.x = x\n",
        "        self.y = y\n",
        "        \n",
        "    def traslada(self, dx, dy):\n",
        "        \"\"\"\n",
        "        Traslada el punto en dx y dy en las direcciones x e y respectivamente.\n",
        "        \"\"\"\n",
        "        self.x += dx\n",
        "        self.y += dy\n",
        "        \n",
        "    def __str__(self):\n",
        "        return \"Punto en [%f, %f]\" % (self.x, self.y)"
      ],
      "execution_count": null,
      "outputs": []
    },
    {
      "cell_type": "markdown",
      "metadata": {
        "hidden": true,
        "id": "sH5MJgOCnGRc"
      },
      "source": [
        "Ahora creamos un \"Punto\", es decir, una instancia de la clase \"Punto\":"
      ]
    },
    {
      "cell_type": "code",
      "metadata": {
        "hidden": true,
        "id": "7tBIqS_WnGRc",
        "outputId": "8af02adf-64dd-48d1-bd8b-44a172eb93a5"
      },
      "source": [
        "p1 = Punto(0,0) # esto invoca el método __init__ en la clase Punto\n",
        "\n",
        "print(p1)         # esto invoca el método __str__ "
      ],
      "execution_count": null,
      "outputs": [
        {
          "name": "stdout",
          "output_type": "stream",
          "text": [
            "Punto en [0.000000, 0.000000]\n"
          ]
        }
      ]
    },
    {
      "cell_type": "code",
      "metadata": {
        "hidden": true,
        "id": "I2VP_lqtnGRd",
        "outputId": "63732f62-ab7a-468a-b778-e87c888a1920"
      },
      "source": [
        "type(p1)"
      ],
      "execution_count": null,
      "outputs": [
        {
          "data": {
            "text/plain": [
              "instance"
            ]
          },
          "execution_count": 106,
          "metadata": {},
          "output_type": "execute_result"
        }
      ]
    },
    {
      "cell_type": "markdown",
      "metadata": {
        "hidden": true,
        "id": "GYi_UC0DnGRd"
      },
      "source": [
        "Si ahora ejecutamos"
      ]
    },
    {
      "cell_type": "code",
      "metadata": {
        "hidden": true,
        "id": "EHRtw2VFnGRd",
        "outputId": "aebb121e-423f-46ae-e1a2-ff27d4cd0efc"
      },
      "source": [
        "p2 = Punto(1,1)\n",
        "\n",
        "p1.traslada(0.25,1.5)\n",
        "\n",
        "print(p1)\n",
        "print(p2)"
      ],
      "execution_count": null,
      "outputs": [
        {
          "name": "stdout",
          "output_type": "stream",
          "text": [
            "Punto en [0.250000, 1.500000]\n",
            "Punto en [1.000000, 1.000000]\n"
          ]
        }
      ]
    },
    {
      "cell_type": "markdown",
      "metadata": {
        "hidden": true,
        "id": "cNwukciBnGRe"
      },
      "source": [
        "Estamos definiendo una nueva instancia (un nuevo \"punto\", asignado a la variable p2), y luego hemos \"invocado el método `traslada` en la instancia `p1` de la clase punto\" lo que representa la acción de realizar una traslación del punto p1."
      ]
    },
    {
      "cell_type": "markdown",
      "metadata": {
        "hidden": true,
        "id": "JQS8YbSUnGRe"
      },
      "source": [
        "Note que llamar a métodos de clases puede modificar el estado de esa instancia de clase particular, pero no afecta otras instancias de la clase o alguna otra variable global.\n",
        "\n",
        "Esto es una de las cosas buenas de un diseño orientado al objeto: código como las funciones y variables relacionadas son agrupadas en entidades separadas e independientes. "
      ]
    },
    {
      "cell_type": "markdown",
      "metadata": {
        "id": "bz7Uux5vnGRf"
      },
      "source": [
        "## Módulos"
      ]
    },
    {
      "cell_type": "markdown",
      "metadata": {
        "id": "7ZLd2wB8nGRf"
      },
      "source": [
        "La mayoría de la funcionalidad en Python es provista por *módulos*. La [*Librería Estándar*](https://docs.python.org/2/library/) de Python es una gran colección de  módulos que proveen implementaciones *multiplataforma* de recursos tales como el acceso al sistema operativo, entrada/salido de archivos (file I/O), manejo de cadenas, comunicación en redes, y mucho más.\n",
        "\n",
        "Para usar un módulo en un programa Python éste debe primero ser **importado**, para lo cual se usa el comando `import`. Por ejemplo, para importar el módulo `math`, que contiene muchas funciones matemáticas estándar, podemos usar:"
      ]
    },
    {
      "cell_type": "code",
      "metadata": {
        "id": "J1Rd7_MwnGRf"
      },
      "source": [
        "import math"
      ],
      "execution_count": null,
      "outputs": []
    },
    {
      "cell_type": "markdown",
      "metadata": {
        "id": "D_s_q9gInGRg"
      },
      "source": [
        "Esto importa el módulo completo y lo deja disponible para su uso en el programa. Por ejemplo, podemos escribir:"
      ]
    },
    {
      "cell_type": "code",
      "metadata": {
        "id": "PNIlwzS-nGRg",
        "outputId": "33685fdd-7e63-4982-bf14-428e310cf58c"
      },
      "source": [
        "import math\n",
        "\n",
        "x = math.cos(2*math.pi)\n",
        "\n",
        "print(x)"
      ],
      "execution_count": null,
      "outputs": [
        {
          "name": "stdout",
          "output_type": "stream",
          "text": [
            "1.0\n"
          ]
        }
      ]
    },
    {
      "cell_type": "markdown",
      "metadata": {
        "id": "BD9kGQKsnGRi"
      },
      "source": [
        "Alternativamente, podemos elegir importar todos los símbolos (funciones y variables) en un módulo al espacio de nombres (namespace) actual (de modo que no necesitemos usar el prefijo \"`math.`\" cada vez que usemos algo del módulo `math`:"
      ]
    },
    {
      "cell_type": "code",
      "metadata": {
        "id": "PN_V1dm9nGRi",
        "outputId": "ebfb400e-d78d-4189-b27b-ccbd345980d7"
      },
      "source": [
        "from math import *\n",
        "\n",
        "x = cos(2*pi)\n",
        "\n",
        "print(x)"
      ],
      "execution_count": null,
      "outputs": [
        {
          "name": "stdout",
          "output_type": "stream",
          "text": [
            "1.0\n"
          ]
        }
      ]
    },
    {
      "cell_type": "markdown",
      "metadata": {
        "id": "QeailPzgnGRi"
      },
      "source": [
        "Esta forma de proceder puede ser muy conveniente, pero en programas largos que incluyen muchos módulos es a menudo una buena idea mantener los símbolos de cada módulo en sus propios espacios de nombres, usando `import math`. Esto elimina potenciales confusiones con eventuales colisiones de nombres, ya que no es poco común encontrar funciones o variables definidas con el mismo nombre en módulos distintos.\n",
        "\n",
        "Como alternativa intermedia, podemos importar un módulo con un *alias* o nombre abreviado:"
      ]
    },
    {
      "cell_type": "code",
      "metadata": {
        "id": "1v4psy8gnGRi",
        "outputId": "6213556f-7307-43cb-d7b5-4e0c669ff9ac"
      },
      "source": [
        "import math as m\n",
        "\n",
        "x = m.cos(2*m.pi)\n",
        "\n",
        "print(x)"
      ],
      "execution_count": null,
      "outputs": [
        {
          "name": "stdout",
          "output_type": "stream",
          "text": [
            "1.0\n"
          ]
        }
      ]
    },
    {
      "cell_type": "markdown",
      "metadata": {
        "id": "cl5Nkt9dnGRi"
      },
      "source": [
        "Finalmente, podemos importar sólo algunos símbolos seleccionados desde un módulo listándolos explícitamente, en lugar de usar el carácter comodín `*`:"
      ]
    },
    {
      "cell_type": "code",
      "metadata": {
        "id": "zEj1CbiCnGRj",
        "outputId": "45ca7fa2-2ab1-4fb4-95c5-ae5b21c2e16e"
      },
      "source": [
        "from math import cos, pi\n",
        "\n",
        "x = cos(2*pi)\n",
        "\n",
        "print(x)"
      ],
      "execution_count": null,
      "outputs": [
        {
          "name": "stdout",
          "output_type": "stream",
          "text": [
            "1.0\n"
          ]
        }
      ]
    },
    {
      "cell_type": "markdown",
      "metadata": {
        "id": "OMANHlv5nGRj"
      },
      "source": [
        "###  Mirando qué contiene un módulo, y su documentación"
      ]
    },
    {
      "cell_type": "markdown",
      "metadata": {
        "id": "FUN50XVNnGRj"
      },
      "source": [
        "Luego que se ha cargado un módulo, podemos listar los símbolos que éste provee usando la función `dir`:"
      ]
    },
    {
      "cell_type": "code",
      "metadata": {
        "id": "KEYolakPnGRk",
        "outputId": "b693edf2-d7d7-46ab-f78a-421de0863c7e"
      },
      "source": [
        "import math\n",
        "\n",
        "dir(math)"
      ],
      "execution_count": null,
      "outputs": [
        {
          "data": {
            "text/plain": [
              "['__doc__',\n",
              " '__file__',\n",
              " '__name__',\n",
              " '__package__',\n",
              " 'acos',\n",
              " 'acosh',\n",
              " 'asin',\n",
              " 'asinh',\n",
              " 'atan',\n",
              " 'atan2',\n",
              " 'atanh',\n",
              " 'ceil',\n",
              " 'copysign',\n",
              " 'cos',\n",
              " 'cosh',\n",
              " 'degrees',\n",
              " 'e',\n",
              " 'erf',\n",
              " 'erfc',\n",
              " 'exp',\n",
              " 'expm1',\n",
              " 'fabs',\n",
              " 'factorial',\n",
              " 'floor',\n",
              " 'fmod',\n",
              " 'frexp',\n",
              " 'fsum',\n",
              " 'gamma',\n",
              " 'hypot',\n",
              " 'isinf',\n",
              " 'isnan',\n",
              " 'ldexp',\n",
              " 'lgamma',\n",
              " 'log',\n",
              " 'log10',\n",
              " 'log1p',\n",
              " 'modf',\n",
              " 'pi',\n",
              " 'pow',\n",
              " 'radians',\n",
              " 'sin',\n",
              " 'sinh',\n",
              " 'sqrt',\n",
              " 'tan',\n",
              " 'tanh',\n",
              " 'trunc']"
            ]
          },
          "execution_count": 113,
          "metadata": {},
          "output_type": "execute_result"
        }
      ]
    },
    {
      "cell_type": "markdown",
      "metadata": {
        "id": "dfZiao4KnGRk"
      },
      "source": [
        "Usando la función `help` podemos obtener una descripción de cada función (casi... no todas las funciones tienen *docstrings*, como se les llama técnicamente. Sin embargo, la mayoría de las funciones están documentadas de esta forma). "
      ]
    },
    {
      "cell_type": "code",
      "metadata": {
        "id": "sXdppjP3nGRk",
        "outputId": "860b1b80-c1ad-4868-85b2-f0860c46157a"
      },
      "source": [
        "help(math.log)"
      ],
      "execution_count": null,
      "outputs": [
        {
          "name": "stdout",
          "output_type": "stream",
          "text": [
            "Help on built-in function log in module math:\n",
            "\n",
            "log(...)\n",
            "    log(x[, base])\n",
            "    \n",
            "    Return the logarithm of x to the given base.\n",
            "    If the base not specified, returns the natural logarithm (base e) of x.\n",
            "\n"
          ]
        }
      ]
    },
    {
      "cell_type": "code",
      "metadata": {
        "id": "65MLJcmenGRk",
        "outputId": "984e38c3-7500-4b10-df7f-4058b027483d"
      },
      "source": [
        "log(10) # calcula el logaritmo de 10 en base e"
      ],
      "execution_count": null,
      "outputs": [
        {
          "data": {
            "text/plain": [
              "2.302585092994046"
            ]
          },
          "execution_count": 115,
          "metadata": {},
          "output_type": "execute_result"
        }
      ]
    },
    {
      "cell_type": "code",
      "metadata": {
        "id": "ThQUIzEBnGRk",
        "outputId": "b247d66a-3059-4ef3-b4e2-8243c1d70a2f"
      },
      "source": [
        "log(10, 2) # calcula el logaritmo de 10 en base 2"
      ],
      "execution_count": null,
      "outputs": [
        {
          "data": {
            "text/plain": [
              "3.3219280948873626"
            ]
          },
          "execution_count": 116,
          "metadata": {},
          "output_type": "execute_result"
        }
      ]
    },
    {
      "cell_type": "markdown",
      "metadata": {
        "id": "DmtHt02CnGRl"
      },
      "source": [
        "También podemos usar la función `help` directamente sobre los módulos: \n",
        "\n",
        "    help(math) \n",
        "\n",
        "Algunos módulos muy útiles de la librería estándar de Python son `os` (interfaz con el sistema operativo), `sys` (Parámetros y funciones específicas del sistema), `math` (funciones matemáticas), `shutil` (operaciones con archivos), `subprocess`, `multiprocessing`, `threading`. \n",
        "\n",
        "Una lista completa de los módulos estándar para Python 2 y Python 3 está disponible (en inglés) en [http://docs.python.org/2/library/](http://docs.python.org/2/library/) y [http://docs.python.org/3/library/](http://docs.python.org/3/library/), respectivamente. Una versión en español está disponible en [http://pyspanishdoc.sourceforge.net/lib/lib.html](http://pyspanishdoc.sourceforge.net/lib/lib.html).\n",
        "\n",
        "Existen muchos otros módulos (paquetes) desarrollados para Python que implementan distintas funcionalidades, herramientas y algoritmos. Muchos de ellos son constantemente desarrollados en forma abierta por comunidades de usuari@s interesad@s.\n",
        "\n",
        " Aquí listamos algunos módulos generales útiles en el ámbito de las ciencias (Físicas):\n",
        " \n",
        " * [Numpy](http://www.numpy.org/): Implementa el uso eficiente de arreglos numéricos multidimensionales (vectores, matrices, etc.).\n",
        " * [Scipy](http://www.scipy.org/): Implementa múltiples funciones especiales, algoritmos de integración numérica, optimización, interpolación, transformada de Fourier, procesamiento de señales, álgebra lineal, estadística, procesamiento de imágenes, entre otras. Este módulo hace uso de Numpy.\n",
        " * [Matplotlib](http://matplotlib.org/): Suministra herramientas para crear gráficos bidimensionales en diversos formatos, y en una calidad adecuada para incluirlos en publicaciones científicas.\n",
        " * [Sympy](http://sympy.org/): Paquete que implementa algoritmos de matemática simbólica.\n",
        " \n",
        " Además de estos paquetes principales (más usados) cabe la pena mencionar a:\n",
        "  \n",
        "* [Sunpy](http://sunpy.org/): Módulo para el análisis de datos relacionados con la física solar.\n",
        "* [EMpy](http://sunpy.org/): Suministra algoritmos numéricos usados en electromagnetismo.\n",
        "* [Mpmath](http://mpmath.org/): Módulo con herramientas para cálculos con valores reales y complejos con precisión arbitraria.\n",
        "* [Poliastro](http://poliastro.readthedocs.io/en/latest/):  Conjunto de rutinas Python útiles en astrodinámica y mecánica orbital.\n",
        "* [Fatiando a Terra](http://fatiando.org/): Conjunto de herramientas para la modelación de fenómenos geofísicos.\n",
        "* [Qutip2](http://qutip.org/):  Paquete de herramientas para simular la dinámica de sistemas cuánticos abiertos.\n",
        "* [Yt](http://yt-project.org/): Paquete para el análisis y visualización de datos volumétricos.\n",
        "* [Fipy](http://www.ctcms.nist.gov/fipy/): Implementa algoritmos para resolver ecuaciones diferenciales parciales (EDP) por medio de métodos de volúmenes finitos.\n",
        "* [Holopy](http://manoharan.seas.harvard.edu/holopy/): Herramientas para el trabajo con hologramas digitales y scattering de luz.\n",
        "* [Astropy](http://www.astropy.org/): Módulo que implementa herramientas de uso común en Astronomía.\n",
        "* [Librosa](http://librosa.github.io/librosa/): Módulo para análisis de audio y música.\n",
        "* [Scikit-learn](http://scikit-learn.org/): Implementa funciones de \"Machine Learning\" (Clasificación, Regresión, Clustering, reducción dimensional, Selección de Modelos, etc.)"
      ]
    },
    {
      "cell_type": "markdown",
      "metadata": {
        "id": "KvzYqyaInGRl"
      },
      "source": [
        "## Creación de Módulos"
      ]
    },
    {
      "cell_type": "markdown",
      "metadata": {
        "id": "v7iKeO-VnGRl"
      },
      "source": [
        "Uno de los conceptos más importantes en programación es el de reusar código para evitar repeticiones.\n",
        "\n",
        "La idea es escribir funciones y clases con un propósito y extensión bien definidos, y reusarlas en lugar de repetir código similar en diferentes partes del programa (programación modular). Usualmente el resultado es que se mejora ostensiblemente la facilidad de lectura y de mantención de un programa. En la práctica, esto significa que nuestro programa tendrá menos errores, y serán más fáciles de extender y corregir. \n",
        "\n",
        "Python permite programación modular en diferentes niveles. Las funciones y las clases son ejemplos de herramientas para programación modular de bajo nivel. Los módulos Python son construcciones de programación modular de más alto nivel, donde podemos colectar variables relacionadas, funciones y clases. Un módulo Python es definido en un archivo Python (con extensión `.py`), y puede ser accequible a otros módulos Python y a programas usando el comendo `import`. \n",
        "\n",
        "Considere el siguiente ejemplo: el archivo `mimodulo.py` contiene una implementación simple de una variable, una función y una clase:"
      ]
    },
    {
      "cell_type": "markdown",
      "metadata": {
        "id": "jxt1m34-nGRl"
      },
      "source": [
        "Podemos importar el módulo `mimodulo` a un programa Python usando `import`,"
      ]
    },
    {
      "cell_type": "code",
      "metadata": {
        "id": "-0PbhkiDnGRl"
      },
      "source": [
        "import mimodulo"
      ],
      "execution_count": null,
      "outputs": []
    },
    {
      "cell_type": "markdown",
      "metadata": {
        "id": "NJNYWZepnGRm"
      },
      "source": [
        "y usar `help(module)` para obtener un resumen de lo que suministra el módulo:"
      ]
    },
    {
      "cell_type": "code",
      "metadata": {
        "id": "-40NttQynGRm",
        "outputId": "82d33049-f199-4bd2-844e-eb66396ace77"
      },
      "source": [
        "help(mimodulo)"
      ],
      "execution_count": null,
      "outputs": [
        {
          "name": "stdout",
          "output_type": "stream",
          "text": [
            "Help on module mimodulo:\n",
            "\n",
            "NAME\n",
            "    mimodulo\n",
            "\n",
            "FILE\n",
            "    /home/gr/Dropbox/Git/TP17/mimodulo.py\n",
            "\n",
            "DESCRIPTION\n",
            "    Ejemplo de un módulo Python. Contiene una variable llamada mi_variable,\n",
            "    una función llamada mi_function, y una clase llamada MiClase.\n",
            "\n",
            "CLASSES\n",
            "    MiClase\n",
            "    \n",
            "    class MiClase\n",
            "     |  Clase ejemplo.\n",
            "     |  \n",
            "     |  Methods defined here:\n",
            "     |  \n",
            "     |  __init__(self)\n",
            "     |  \n",
            "     |  get_variable(self)\n",
            "     |  \n",
            "     |  set_variable(self, nuevo_valor)\n",
            "     |      Asigna self.variable a un nuevo valor\n",
            "\n",
            "FUNCTIONS\n",
            "    mi_function()\n",
            "        Función ejemplo\n",
            "\n",
            "DATA\n",
            "    mi_variable = 0\n",
            "\n",
            "\n"
          ]
        }
      ]
    },
    {
      "cell_type": "code",
      "metadata": {
        "id": "auiSVT5dnGRm",
        "outputId": "c1eb0ded-23fe-454c-9260-4302bc65f430"
      },
      "source": [
        "mimodulo.mi_variable"
      ],
      "execution_count": null,
      "outputs": [
        {
          "data": {
            "text/plain": [
              "0"
            ]
          },
          "execution_count": 119,
          "metadata": {},
          "output_type": "execute_result"
        }
      ]
    },
    {
      "cell_type": "code",
      "metadata": {
        "id": "oQ1SZWsknGRm",
        "outputId": "3eda6087-3e61-4022-92ea-320eff297635"
      },
      "source": [
        "mimodulo.mi_function() "
      ],
      "execution_count": null,
      "outputs": [
        {
          "data": {
            "text/plain": [
              "0"
            ]
          },
          "execution_count": 120,
          "metadata": {},
          "output_type": "execute_result"
        }
      ]
    },
    {
      "cell_type": "code",
      "metadata": {
        "id": "Ihqt1BKInGRn",
        "outputId": "5d8eefad-2dce-4204-a4e0-918938bbef61"
      },
      "source": [
        "mi_clase = mimodulo.MiClase() \n",
        "mi_clase.set_variable(10)\n",
        "mi_clase.get_variable()"
      ],
      "execution_count": null,
      "outputs": [
        {
          "data": {
            "text/plain": [
              "10"
            ]
          },
          "execution_count": 121,
          "metadata": {},
          "output_type": "execute_result"
        }
      ]
    },
    {
      "cell_type": "markdown",
      "metadata": {
        "id": "M70B_YxknGRn"
      },
      "source": [
        "Si hacemos cambios en el código de `mimodulo.py`, necesitamos recargarlo usando `reload`:"
      ]
    },
    {
      "cell_type": "code",
      "metadata": {
        "id": "29M1Q0L4nGRo",
        "outputId": "d2c6029f-e3bb-4c73-ea59-7b7ea994de6f"
      },
      "source": [
        "reload(mimodulo)  # sólo funciona en Python 2"
      ],
      "execution_count": null,
      "outputs": [
        {
          "data": {
            "text/plain": [
              "<module 'mimodulo' from 'mimodulo.pyc'>"
            ]
          },
          "execution_count": 122,
          "metadata": {},
          "output_type": "execute_result"
        }
      ]
    },
    {
      "cell_type": "markdown",
      "metadata": {
        "id": "94Tu0_TinGRo"
      },
      "source": [
        "## Excepciones\n",
        "\n",
        "En Python los errores son manejados con una construcción especial de lenguaje llamada \"Exceptions\" (excepciones). Cuando ocurre un error, una excepción puede ser hecha, que interrumpe el flujo normal del programa y retorna a algún otro lugar del código donde se definan los comandos try-except más cercanos.\n"
      ]
    },
    {
      "cell_type": "markdown",
      "metadata": {
        "id": "agIZW4QgnGRo"
      },
      "source": [
        "Para generar una excepción podemos usar el comando `raise`, que toma un argumento que debe ser una instancia de la clase  `BaseExpection` o una clase derivada de ella. "
      ]
    },
    {
      "cell_type": "code",
      "metadata": {
        "id": "-IrIEru4nGRo",
        "outputId": "fe4634cb-dbf0-4829-cfef-83b3ffbeb053"
      },
      "source": [
        "raise Exception(\"descripción del error\")"
      ],
      "execution_count": null,
      "outputs": [
        {
          "ename": "Exception",
          "evalue": "descripción del error",
          "output_type": "error",
          "traceback": [
            "\u001b[0;31m---------------------------------------------------------------------------\u001b[0m",
            "\u001b[0;31mException\u001b[0m                                 Traceback (most recent call last)",
            "\u001b[0;32m<ipython-input-123-ae92a99eabb1>\u001b[0m in \u001b[0;36m<module>\u001b[0;34m()\u001b[0m\n\u001b[0;32m----> 1\u001b[0;31m \u001b[0;32mraise\u001b[0m \u001b[0mException\u001b[0m\u001b[0;34m(\u001b[0m\u001b[0;34m\"descripción del error\"\u001b[0m\u001b[0;34m)\u001b[0m\u001b[0;34m\u001b[0m\u001b[0m\n\u001b[0m",
            "\u001b[0;31mException\u001b[0m: descripción del error"
          ]
        }
      ]
    },
    {
      "cell_type": "markdown",
      "metadata": {
        "id": "fK0nWY3BnGRp"
      },
      "source": [
        "Un uso típico de las excepciones es para abortar funciones cuando ocurre algún error, por ejemplo:\n",
        "\n",
        "    def mi_funcion(argumentos):\n",
        "    \n",
        "        if not verify(argumentos):\n",
        "            raise Expection(\"Argumentos invalidos\")\n",
        "        \n",
        "        # el resto del código sigue aquí"
      ]
    },
    {
      "cell_type": "markdown",
      "metadata": {
        "id": "DM3D0hb-nGRp"
      },
      "source": [
        "Para capturar los errores que son generados por funciones y métodos de clases, o por el mismo intérprete Python, use los comandos `try` y `except`:\n",
        "\n",
        "    try:\n",
        "        # aquí va el código normal\n",
        "    except:\n",
        "        # el código para manejar el error va aquí\n",
        "        # Este código no se ejecuta a menos que \n",
        "        # el código de arriba genere un error\n",
        "\n",
        "Por ejemplo:"
      ]
    },
    {
      "cell_type": "code",
      "metadata": {
        "id": "5pUJGk10nGRp",
        "outputId": "3265c25c-0f9d-446b-cfa1-ec63213e4f2b"
      },
      "source": [
        "try:\n",
        "    print(\"test\")\n",
        "    # genera un error: ya que la variable test no está definida\n",
        "    print(test)\n",
        "except:\n",
        "    print(\"Encontré una excepción\")"
      ],
      "execution_count": null,
      "outputs": [
        {
          "name": "stdout",
          "output_type": "stream",
          "text": [
            "test\n",
            "Encontré una excepción\n"
          ]
        }
      ]
    },
    {
      "cell_type": "markdown",
      "metadata": {
        "id": "vwCQbWH_nGRp"
      },
      "source": [
        "Para obtener información sobre un error, podemos accesar la instancia de clase `Exception` que describe la excepción usando por ejemplo:\n",
        "\n",
        "    except Exception as e:"
      ]
    },
    {
      "cell_type": "code",
      "metadata": {
        "id": "Z7_6V2cHnGRp",
        "outputId": "2cd5fc00-ed78-4605-d035-ddd79f2340dc"
      },
      "source": [
        "try:\n",
        "    print(\"test\")\n",
        "    # genera un error: ya que la variable test no está definida\n",
        "    print(test)\n",
        "except Exception as e:\n",
        "    print(\"Encontré una excepción:\" + str(e))"
      ],
      "execution_count": null,
      "outputs": [
        {
          "name": "stdout",
          "output_type": "stream",
          "text": [
            "test\n",
            "Encontré una excepción:name 'test' is not defined\n"
          ]
        }
      ]
    },
    {
      "cell_type": "markdown",
      "metadata": {
        "id": "cXTg8UMFnGRq"
      },
      "source": [
        "## Lectura adicional\n",
        "\n",
        "* [http://www.python.org](http://www.python.org) - The official web page of the Python programming language.\n",
        "* [http://www.python.org/dev/peps/pep-0008](http://www.python.org/dev/peps/pep-0008) - Guía de estilo para la programación en Python. Altamente recomendada (en inglés).\n",
        "* [http://www.greenteapress.com/thinkpython/](http://www.greenteapress.com/thinkpython/) - Un libro gratuito sobre Python.\n",
        "* [Python Essential Reference](http://www.amazon.com/Python-Essential-Reference-4th-Edition/dp/0672329786) - Un buen libro de referencia sobre programación en Python."
      ]
    },
    {
      "cell_type": "markdown",
      "metadata": {
        "id": "H9x8QjuLnGRq"
      },
      "source": [
        "### Versiones"
      ]
    },
    {
      "cell_type": "code",
      "metadata": {
        "id": "5ZkBil6dnGRq"
      },
      "source": [
        "import sys\n",
        "import IPython"
      ],
      "execution_count": null,
      "outputs": []
    },
    {
      "cell_type": "code",
      "metadata": {
        "id": "zjUQ_LPmnGRq",
        "outputId": "adfc5d7f-03e2-4865-c239-069952a52098"
      },
      "source": [
        "print(\"Este notebook fue evaluado con: Python %s y IPython %s.\" % (sys.version, IPython.__version__))"
      ],
      "execution_count": null,
      "outputs": [
        {
          "name": "stdout",
          "output_type": "stream",
          "text": [
            "Este notebook fue evaluado con: Python 2.7.13 |Anaconda custom (64-bit)| (default, Dec 20 2016, 23:09:15) \n",
            "[GCC 4.4.7 20120313 (Red Hat 4.4.7-1)] y IPython 5.1.0.\n"
          ]
        }
      ]
    }
  ]
}